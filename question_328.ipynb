{
 "cells": [
  {
   "cell_type": "markdown",
   "metadata": {},
   "source": [
    "# Question 328\n",
    "\n",
    "## Description\n",
    "\n",
    "In chess, the Elo rating system is used to calculate player strengths based on game results.\n",
    "\n",
    "A simplified description of the Elo system is as follows. Every player begins at the same score.\n",
    "For each subsequent game, the loser transfers some points to the winner, where the amount of points transferred depends on how unlikely the win is.\n",
    "For example, a 1200-ranked player should gain much more points for beating a 2000-ranked player than for beating a 1300-ranked player.\n",
    "\n",
    "Implement this system.\n"
   ]
  },
  {
   "cell_type": "code",
   "execution_count": 28,
   "metadata": {},
   "outputs": [],
   "source": [
    "# import latexify to display LaTex in Jupyter Notebook\n",
    "import latexify"
   ]
  },
  {
   "cell_type": "markdown",
   "metadata": {},
   "source": [
    "## Proposed Solution\n",
    "\n",
    "The formula used for updating ratings after a game between two players is:\n"
   ]
  },
  {
   "cell_type": "code",
   "execution_count": 29,
   "metadata": {},
   "outputs": [
    {
     "data": {
      "text/latex": [
       "$$ \\displaystyle \\mathrm{R_New}(R_Old, L, S, E) = R_Old + K \\left( S - E \\right) $$"
      ],
      "text/plain": [
       "<latexify.frontend.LatexifiedFunction at 0x2b703232350>"
      ]
     },
     "execution_count": 29,
     "metadata": {},
     "output_type": "execute_result"
    }
   ],
   "source": [
    "@latexify.function\n",
    "def R_New(R_Old, L, S, E):\n",
    "    return R_Old + K * (S - E)\n",
    "\n",
    "\n",
    "R_New"
   ]
  },
  {
   "cell_type": "markdown",
   "metadata": {},
   "source": [
    "Where:\n",
    "\n",
    "RNew and ROld are the new and old Elo ratings of the player.\n",
    "K is a constant factor (often 32).\n",
    "S is the actual score (1 for win, 0.5 for draw, 0 for loss).\n",
    "E is the expected score, calculated using:\n"
   ]
  },
  {
   "cell_type": "code",
   "execution_count": 30,
   "metadata": {},
   "outputs": [
    {
     "data": {
      "text/latex": [
       "$$ \\displaystyle \\mathrm{E}(R_Opponent, R_Old) = \\frac{{1}}{{1} + {10}^{\\frac{R_Opponent - R_Old}{{400}}}} $$"
      ],
      "text/plain": [
       "<latexify.frontend.LatexifiedFunction at 0x2b7032328f0>"
      ]
     },
     "execution_count": 30,
     "metadata": {},
     "output_type": "execute_result"
    }
   ],
   "source": [
    "@latexify.function\n",
    "def E(R_Opponent, R_Old):\n",
    "    return 1 / (1 + 10 ** ((R_Opponent - R_Old) / 400))\n",
    "\n",
    "\n",
    "E"
   ]
  },
  {
   "cell_type": "code",
   "execution_count": 31,
   "metadata": {},
   "outputs": [
    {
     "name": "stdout",
     "output_type": "stream",
     "text": [
      "New ratings after game:\n",
      "Player 1:  1232\n",
      "Player 2:  1968\n"
     ]
    }
   ],
   "source": [
    "def calculate_elo(old_rating1, old_rating2, result, k=32):\n",
    "    \"\"\"\n",
    "    Calculate the new Elo ratings for two players.\n",
    "\n",
    "    Parameters:\n",
    "    old_rating1 - The rating of player 1 before the game\n",
    "    old_rating2 - The rating of player 2 before the game\n",
    "    result - The result of the game (1 if player 1 wins, 0.5 for draw, 0 if player 2 wins)\n",
    "    k - The K-factor, which scales the amount of points transferred (default is 32)\n",
    "\n",
    "    Returns:\n",
    "    new_rating1, new_rating2 - The new ratings of the two players\n",
    "    \"\"\"\n",
    "\n",
    "    # Calculate expected score for both players\n",
    "    expected1 = 1 / (1 + 10 ** ((old_rating2 - old_rating1) / 400))\n",
    "    expected2 = 1 / (1 + 10 ** ((old_rating1 - old_rating2) / 400))\n",
    "\n",
    "    # Update ratings\n",
    "    new_rating1 = old_rating1 + k * (result - expected1)\n",
    "    new_rating2 = old_rating2 + k * ((1 - result) - expected2)\n",
    "\n",
    "    return round(new_rating1), round(new_rating2)\n",
    "\n",
    "\n",
    "# Test the function\n",
    "rating1 = 1200\n",
    "rating2 = 2000\n",
    "result = 1  # Player 1 wins\n",
    "new_rating1, new_rating2 = calculate_elo(rating1, rating2, result)\n",
    "print(\"New ratings after game:\")\n",
    "print(\"Player 1: \", new_rating1)\n",
    "print(\"Player 2: \", new_rating2)"
   ]
  }
 ],
 "metadata": {
  "kernelspec": {
   "display_name": ".venv",
   "language": "python",
   "name": "python3"
  },
  "language_info": {
   "codemirror_mode": {
    "name": "ipython",
    "version": 3
   },
   "file_extension": ".py",
   "mimetype": "text/x-python",
   "name": "python",
   "nbconvert_exporter": "python",
   "pygments_lexer": "ipython3",
   "version": "3.10.10"
  }
 },
 "nbformat": 4,
 "nbformat_minor": 2
}
