{
 "cells": [
  {
   "cell_type": "markdown",
   "metadata": {},
   "source": [
    "# Question 370\n",
    "\n",
    "## Description\n",
    "\n",
    "The “active time” of a courier is the time between the pickup and dropoff of a delivery. Given a set of data formatted like the following:\n",
    "\n",
    "```python\n",
    "(delivery id, timestamp, pickup/dropoff)\n",
    "```\n",
    "\n",
    "Calculate the total active time in seconds. A courier can pick up multiple orders before dropping them off. The timestamp is in unix epoch seconds."
   ]
  },
  {
   "cell_type": "code",
   "execution_count": 53,
   "metadata": {},
   "outputs": [],
   "source": [
    "def courier_active_time(orders):\n",
    "    deliveries = {}\n",
    "    total_active_time = 0\n",
    "\n",
    "    for id, timestamp, state in sorted(\n",
    "        orders, key=lambda x: x[1]\n",
    "    ):  # sorting by timestamp\n",
    "        if state == \"pickup\":\n",
    "            if id in deliveries:\n",
    "                raise ValueError(f\"Duplicate pickup for order {id}\")\n",
    "            deliveries[id] = {\"pickup\": timestamp}\n",
    "        elif state == \"dropoff\":\n",
    "            if id not in deliveries:\n",
    "                raise ValueError(f\"Dropoff without preceding pickup for order {id}\")\n",
    "            deliveries[id][\"dropoff\"] = timestamp\n",
    "            total_active_time += deliveries[id][\"dropoff\"] - deliveries[id][\"pickup\"]\n",
    "\n",
    "    return total_active_time\n",
    "\n",
    "\n",
    "def test():\n",
    "    test_cases = [\n",
    "        ([(3, 1570321212, \"pickup\"), (3, 1570322352, \"dropoff\")], 1140),\n",
    "        ([(2, 1570321092, \"pickup\"), (2, 1570323012, \"dropoff\")], 1920),\n",
    "        (\n",
    "            [\n",
    "                (2, 1570321092, \"pickup\"),\n",
    "                (3, 1570321212, \"pickup\"),\n",
    "                (3, 1570322352, \"dropoff\"),\n",
    "                (2, 1570323012, \"dropoff\"),\n",
    "            ],\n",
    "            3060,\n",
    "        ),\n",
    "    ]\n",
    "\n",
    "    for orders, expected in test_cases:\n",
    "        result = courier_active_time(orders)\n",
    "        assert result == expected, f\"Expected {expected}, but got {result}\"\n",
    "\n",
    "\n",
    "if __name__ == \"__main__\":\n",
    "    test()"
   ]
  }
 ],
 "metadata": {
  "kernelspec": {
   "display_name": ".venv",
   "language": "python",
   "name": "python3"
  },
  "language_info": {
   "codemirror_mode": {
    "name": "ipython",
    "version": 3
   },
   "file_extension": ".py",
   "mimetype": "text/x-python",
   "name": "python",
   "nbconvert_exporter": "python",
   "pygments_lexer": "ipython3",
   "version": "3.10.10"
  }
 },
 "nbformat": 4,
 "nbformat_minor": 2
}
