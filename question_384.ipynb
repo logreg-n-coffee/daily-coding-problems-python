{
 "cells": [
  {
   "cell_type": "markdown",
   "metadata": {},
   "source": [
    "# Question 384\n",
    "\n",
    "## Description\n",
    "\n",
    "This problem was asked by WeWork.\n",
    "\n",
    "You are given an array of integers representing coin denominations and a total amount of money. Write a function to compute the fewest number of coins needed to make up that amount. If it is not possible to make that amount, return null.\n",
    "\n",
    "For example, given an array of [1, 5, 10] and an amount 56, return 7 since we can use 5 dimes, 1 nickel, and 1 penny.\n",
    "\n",
    "Given an array of [5, 8] and an amount 15, return 3 since we can use 5 5-cent coins.\n"
   ]
  },
  {
   "cell_type": "code",
   "execution_count": 2,
   "metadata": {},
   "outputs": [
    {
     "name": "stdout",
     "output_type": "stream",
     "text": [
      "7\n",
      "3\n"
     ]
    }
   ],
   "source": [
    "def coin_change(coins, amount):\n",
    "    # Create a list to store the minimum coins needed for each amount\n",
    "    dp = [float(\"inf\")] * (amount + 1)\n",
    "    dp[0] = 0  # base case: 0 coins are needed to make the amount 0\n",
    "\n",
    "    # Compute the minimum coins required for all amounts up to the target amount\n",
    "    for i in range(1, amount + 1):\n",
    "        for coin in coins:\n",
    "            if i - coin >= 0:\n",
    "                dp[i] = min(dp[i], dp[i - coin] + 1)\n",
    "\n",
    "    # Check if we found a solution, otherwise return None\n",
    "    return dp[amount] if dp[amount] != float(\"inf\") else None\n",
    "\n",
    "\n",
    "# Example usage:\n",
    "print(coin_change([1, 5, 10], 56))  # Output: 7\n",
    "print(coin_change([5, 8], 15))  # Output: 3"
   ]
  }
 ],
 "metadata": {
  "kernelspec": {
   "display_name": "Python 3",
   "language": "python",
   "name": "python3"
  },
  "language_info": {
   "codemirror_mode": {
    "name": "ipython",
    "version": 3
   },
   "file_extension": ".py",
   "mimetype": "text/x-python",
   "name": "python",
   "nbconvert_exporter": "python",
   "pygments_lexer": "ipython3",
   "version": "3.11.1"
  }
 },
 "nbformat": 4,
 "nbformat_minor": 2
}
