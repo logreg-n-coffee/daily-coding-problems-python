{
 "cells": [
  {
   "cell_type": "markdown",
   "metadata": {},
   "source": [
    "# Question 334\n",
    "\n",
    "## Description\n",
    "\n",
    "You are given a tree with an even number of nodes. Consider each connection between a parent and child node to be an \"edge\". You would like to remove some of these edges, such that the disconnected subtrees that remain each have an even number of nodes.\n",
    "\n",
    "For example, suppose your input was the following tree:\n",
    "\n",
    "```text\n",
    "   1\n",
    "  / \\ \n",
    " 2   3\n",
    "    / \\ \n",
    "   4   5\n",
    " / | \\\n",
    "6  7  8\n",
    "```\n",
    "\n",
    "In this case, removing the edge (3, 4) satisfies our requirement.\n",
    "\n",
    "Write a function that returns the maximum number of edges you can remove while still satisfying this requirement.\n"
   ]
  },
  {
   "cell_type": "markdown",
   "metadata": {},
   "source": [
    "## Solution \n",
    "\n",
    "**Intuition**: \n",
    "* Each disconnected subtree should have an even number of nodes -> total number of nodes in each disconnected subtree must be even \n",
    "\n",
    "**Approach**: \n",
    "1. Start dfs from the root of the tree\n",
    "2. For each node encountered during dfs, compute the total number of nodes in the subtree rooted at that node\n",
    "3. If the number of nodes in the subtree rooted at a node is even, then we can remove the edge connecting this node to its parent, thereby creating a valid disconnected subtree"
   ]
  },
  {
   "cell_type": "code",
   "execution_count": 6,
   "metadata": {},
   "outputs": [
    {
     "name": "stdout",
     "output_type": "stream",
     "text": [
      "2\n"
     ]
    }
   ],
   "source": [
    "from collections import defaultdict\n",
    "\n",
    "# Define Graph as Adjacency List\n",
    "graph = defaultdict(list)\n",
    "\n",
    "# Build the tree, with 1 as root\n",
    "graph[1] = [2, 3]\n",
    "graph[3] = [4, 5]\n",
    "graph[4] = [6, 7, 8]\n",
    "\n",
    "\n",
    "# Define a helper function for DFS\n",
    "def dfs(node, parent):\n",
    "    subtree_size = 1  # Include the current node\n",
    "    count = 0  # Count of removable edges in the subtree rooted at node\n",
    "    \n",
    "    for child in graph[node]:\n",
    "        if child == parent:\n",
    "            continue  # Skip the parent node to avoid going back in DFS\n",
    "        \n",
    "        size, cnt = dfs(child, node)  # Recursively perform DFS on child\n",
    "        subtree_size += size  # Update the size of subtree rooted at node\n",
    "        \n",
    "        if size % 2 == 0:  # If the size of the subtree rooted at child is even\n",
    "            count += 1  # The edge between node and child can be removed\n",
    "        count += cnt  # Update the count of removable edges\n",
    "        \n",
    "    return subtree_size, count\n",
    "\n",
    "\n",
    "# Define the main function\n",
    "def max_edges_to_remove(graph):\n",
    "    _, count = dfs(1, -1)  # Start DFS from the root node 1, with no parent\n",
    "    return count\n",
    "\n",
    "\n",
    "# Call the function with the given graph\n",
    "print(max_edges_to_remove(graph))  # Output: 2\n"
   ]
  },
  {
   "cell_type": "markdown",
   "metadata": {},
   "source": [
    "* In the provided example, we can actually remove 2 edges: (3,4) and (4,7) or (4,6) or (4,8), satisfying the requirement of each disconnected subtree having an even number of nodes. Thus, the output for the given example is 2.\n",
    "* Time and Space: O(n)"
   ]
  }
 ],
 "metadata": {
  "kernelspec": {
   "display_name": ".venv",
   "language": "python",
   "name": "python3"
  },
  "language_info": {
   "codemirror_mode": {
    "name": "ipython",
    "version": 3
   },
   "file_extension": ".py",
   "mimetype": "text/x-python",
   "name": "python",
   "nbconvert_exporter": "python",
   "pygments_lexer": "ipython3",
   "version": "3.10.10"
  }
 },
 "nbformat": 4,
 "nbformat_minor": 2
}
