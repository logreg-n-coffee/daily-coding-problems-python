{
 "cells": [
  {
   "cell_type": "markdown",
   "metadata": {},
   "source": [
    "# Question 342\n",
    "\n",
    "## Description\n",
    "\n",
    "reduce (also known as fold) is a function that takes in an array, a combining function, and an initial value and builds up a result by calling the combining function on each element of the array, left to right. For example, we can write sum() in terms of reduce:\n",
    "\n",
    "```python\n",
    "def add(a, b):\n",
    "    return a + b\n",
    "\n",
    "def sum(lst):\n",
    "    return reduce(lst, add, 0)\n",
    "```\n",
    "\n",
    "This should call add on the initial value with the first element of the array, and then the result of that with the second element of the array, and so on until we reach the end, when we return the sum of the array.\n",
    "\n",
    "Implement your own version of reduce."
   ]
  },
  {
   "cell_type": "code",
   "execution_count": 1,
   "metadata": {},
   "outputs": [
    {
     "name": "stdout",
     "output_type": "stream",
     "text": [
      "15\n"
     ]
    }
   ],
   "source": [
    "def my_reduce(fn, lst, init):\n",
    "    result = init\n",
    "    for elem in lst:\n",
    "        result = fn(result, elem)\n",
    "    return result\n",
    "\n",
    "def my_add(a, b):\n",
    "    return a + b\n",
    "\n",
    "def my_sum(lst):\n",
    "    return my_reduce(my_add, lst, 0)\n",
    "\n",
    "lst = [1, 2, 3, 4, 5]\n",
    "print(my_sum(lst))"
   ]
  }
 ],
 "metadata": {
  "kernelspec": {
   "display_name": ".venv",
   "language": "python",
   "name": "python3"
  },
  "language_info": {
   "codemirror_mode": {
    "name": "ipython",
    "version": 3
   },
   "file_extension": ".py",
   "mimetype": "text/x-python",
   "name": "python",
   "nbconvert_exporter": "python",
   "pygments_lexer": "ipython3",
   "version": "3.10.10"
  }
 },
 "nbformat": 4,
 "nbformat_minor": 2
}
