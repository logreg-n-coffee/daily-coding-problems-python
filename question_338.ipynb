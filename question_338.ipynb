{
 "cells": [
  {
   "cell_type": "markdown",
   "metadata": {},
   "source": [
    "# Question 338\n",
    "\n",
    "## Description \n",
    "\n",
    "Given an integer n, find the next biggest integer with the same number of 1-bits on. For example, given the number 6 (0110 in binary), return 9 (1001)."
   ]
  },
  {
   "cell_type": "markdown",
   "metadata": {},
   "source": [
    "## Intuition\n",
    "\n",
    "Let's try a few examples. Here are some binary representations of numbers, and the result we expect:\n",
    "\n",
    "0000 -> 0000\n",
    "0001 -> 0010\n",
    "0010 -> 0100\n",
    "0011 -> 0101\n",
    "0111 -> 1011\n",
    "0110 -> 1001\n",
    "1010 -> 1100\n",
    "1011 -> 1101\n",
    "1101 -> 1110\n",
    "0010 1011 -> 0010 1101\n",
    "\n",
    "In order to construct the next-biggest integer, we should start by shifting the lowest 1-bit that has a 0-bit to the left. In other words, this would be the lowest 0-bit we can change in order to construct a larger number without adding more bits. Now that we've constructed a larger number, we need to minimize the remainder of the binary representation, keeping the number of set bits. To do this, we shift all remaining 1-bits to the right in order to make the remaining binary number as low as possible."
   ]
  },
  {
   "cell_type": "code",
   "execution_count": 3,
   "metadata": {},
   "outputs": [],
   "source": [
    "def next_int_binary(num):\n",
    "    # time complexity: O(n)\n",
    "    if num == 0:\n",
    "        return 0\n",
    "\n",
    "    count = 0  # count the number of 1s\n",
    "    mask = 1\n",
    "\n",
    "    # iterate through the number until we find the first 1\n",
    "    while not ((num & mask) > 0 and (num & (mask << 1)) == 0):\n",
    "        if num & mask > 0:\n",
    "            count += 1  # Count the number of set bits\n",
    "            num &= ~(mask)  # set the bit to 0\n",
    "        mask <<= 1\n",
    "\n",
    "    num &= ~(mask)  # Set the bit to 0\n",
    "    num |= mask << 1  # Set the next highest bit to 1\n",
    "\n",
    "    # Set the appropriate number of bits to 1 starting from LSB\n",
    "    for i in range(count):\n",
    "        num |= 1 << i\n",
    "\n",
    "    return num"
   ]
  },
  {
   "cell_type": "code",
   "execution_count": 4,
   "metadata": {},
   "outputs": [
    {
     "name": "stdout",
     "output_type": "stream",
     "text": [
      "0b0\n",
      "0b10\n",
      "0b100\n",
      "0b101\n",
      "0b1011\n",
      "0b1001\n",
      "0b1100\n",
      "0b1101\n",
      "0b1110\n",
      "0b101101\n"
     ]
    }
   ],
   "source": [
    "# Test the next_int_binary function with various test cases\n",
    "print(bin(next_int_binary(0b0000)))  # 0b0\n",
    "print(bin(next_int_binary(0b0001)))  # 0b10\n",
    "print(bin(next_int_binary(0b0010)))  # 0b100\n",
    "print(bin(next_int_binary(0b0011)))  # 0b101\n",
    "print(bin(next_int_binary(0b0111)))  # 0b1011\n",
    "print(bin(next_int_binary(0b0110)))  # 0b1001\n",
    "print(bin(next_int_binary(0b1010)))  # 0b1100\n",
    "print(bin(next_int_binary(0b1011)))  # 0b1101\n",
    "print(bin(next_int_binary(0b1101)))  # 0b1110\n",
    "print(bin(next_int_binary(0b00101011)))  # 0b00101101\n"
   ]
  }
 ],
 "metadata": {
  "kernelspec": {
   "display_name": ".venv",
   "language": "python",
   "name": "python3"
  },
  "language_info": {
   "codemirror_mode": {
    "name": "ipython",
    "version": 3
   },
   "file_extension": ".py",
   "mimetype": "text/x-python",
   "name": "python",
   "nbconvert_exporter": "python",
   "pygments_lexer": "ipython3",
   "version": "3.10.10"
  }
 },
 "nbformat": 4,
 "nbformat_minor": 2
}
