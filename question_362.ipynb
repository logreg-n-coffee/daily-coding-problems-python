{
 "cells": [
  {
   "cell_type": "markdown",
   "metadata": {},
   "source": [
    "# Question 362\n",
    "\n",
    "## Description\n",
    "\n",
    "A strobogrammatic number is a positive number that appears the same after being rotated 180 degrees. For example, 16891 is strobogrammatic.\n",
    "\n",
    "Create a program that finds all strobogrammatic numbers with N digits."
   ]
  },
  {
   "cell_type": "markdown",
   "metadata": {},
   "source": [
    "## Analysis\n",
    "\n",
    "To find all strobogrammatic numbers with N digits, we can use a recursive approach:\n",
    "\n",
    "Identify the numbers that when rotated by 180 degrees appear the same. These are: 0, 1, 8 and two pairs 6 and 9, 9 and 6.\n",
    "Start from the middle of a number of N length and work outwards.\n",
    "If N is odd, place one of the numbers 0, 1, 8 in the center, then work outwards. If N is even, you just start building from the middle."
   ]
  },
  {
   "cell_type": "code",
   "execution_count": 1,
   "metadata": {},
   "outputs": [
    {
     "name": "stdout",
     "output_type": "stream",
     "text": [
      "['101', '609', '808', '906', '111', '619', '818', '916', '181', '689', '888', '986']\n"
     ]
    }
   ],
   "source": [
    "def find_strobogram(n):\n",
    "    def helper(n, m):\n",
    "        if n == 0:\n",
    "            return [\"\"]\n",
    "        if n == 1:\n",
    "            return [\"0\", \"1\", \"8\"]\n",
    "\n",
    "        smaller_nums = helper(n - 2, m)\n",
    "        result = []\n",
    "\n",
    "        for num in smaller_nums:\n",
    "            if n != m:\n",
    "                result.append(\"0\" + num + \"0\")\n",
    "\n",
    "            result.append(\"1\" + num + \"1\")\n",
    "            result.append(\"6\" + num + \"9\")\n",
    "            result.append(\"8\" + num + \"8\")\n",
    "            result.append(\"9\" + num + \"6\")\n",
    "\n",
    "        return result\n",
    "\n",
    "    return helper(n, n)\n",
    "\n",
    "\n",
    "print(find_strobogram(3))"
   ]
  }
 ],
 "metadata": {
  "kernelspec": {
   "display_name": ".venv",
   "language": "python",
   "name": "python3"
  },
  "language_info": {
   "codemirror_mode": {
    "name": "ipython",
    "version": 3
   },
   "file_extension": ".py",
   "mimetype": "text/x-python",
   "name": "python",
   "nbconvert_exporter": "python",
   "pygments_lexer": "ipython3",
   "version": "3.10.10"
  }
 },
 "nbformat": 4,
 "nbformat_minor": 2
}
