{
 "cells": [
  {
   "cell_type": "markdown",
   "metadata": {},
   "source": [
    "# Question 332\n",
    "\n",
    "## Description\n",
    "\n",
    "Given integers M and N, write a program that counts how many positive integer pairs (a, b) satisfy the following conditions:\n",
    "\n",
    "a + b = M\n",
    "a XOR b = N\n"
   ]
  },
  {
   "cell_type": "markdown",
   "metadata": {},
   "source": [
    "## Analysis\n",
    "\n",
    "Iterate through all possible values of a (from 1 to M//2), and then calculate the corresponding b for each a using the equation a + b = M. Once you know both a and b, you can use them to verify if the equation a XOR b = N holds. If it does, then you increment a counter.\n"
   ]
  },
  {
   "cell_type": "code",
   "execution_count": 3,
   "metadata": {},
   "outputs": [],
   "source": [
    "def count_pairs(m, n):\n",
    "    count = 0\n",
    "\n",
    "    for a in range(1, m // 2 + 1):\n",
    "        b = m - a\n",
    "        if a ^ b == n:\n",
    "            count += 1\n",
    "\n",
    "    return count"
   ]
  },
  {
   "cell_type": "code",
   "execution_count": 4,
   "metadata": {},
   "outputs": [
    {
     "name": "stdout",
     "output_type": "stream",
     "text": [
      "The number of pairs (a, b) satisfying a + b = 9 and a XOR b = 5 is: 2\n"
     ]
    }
   ],
   "source": [
    "if __name__ == \"__main__\":\n",
    "    m = 9\n",
    "    n = 5\n",
    "    result = count_pairs(m, n)\n",
    "    print(\n",
    "        f\"The number of pairs (a, b) satisfying a + b = {m} and a XOR b = {n} is: {result}\"\n",
    "    )"
   ]
  }
 ],
 "metadata": {
  "kernelspec": {
   "display_name": ".venv",
   "language": "python",
   "name": "python3"
  },
  "language_info": {
   "codemirror_mode": {
    "name": "ipython",
    "version": 3
   },
   "file_extension": ".py",
   "mimetype": "text/x-python",
   "name": "python",
   "nbconvert_exporter": "python",
   "pygments_lexer": "ipython3",
   "version": "3.10.10"
  }
 },
 "nbformat": 4,
 "nbformat_minor": 2
}
