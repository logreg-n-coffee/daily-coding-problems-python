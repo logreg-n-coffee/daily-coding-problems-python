{
 "cells": [
  {
   "cell_type": "markdown",
   "metadata": {},
   "source": [
    "# Question 402\n",
    "\n",
    "## Description\n",
    "\n",
    "This problem was asked by Twitter.\n",
    "\n",
    "A strobogrammatic number is a positive number that appears the same after being rotated `180` degrees. For example, `16891` is strobogrammatic.\n",
    "\n",
    "Create a program that finds all strobogrammatic numbers with `N` digits.\n"
   ]
  },
  {
   "cell_type": "markdown",
   "metadata": {},
   "source": [
    "To create a program that finds all strobogrammatic numbers with `N` digits, we need to understand what a strobogrammatic number is and how to generate them. A strobogrammatic number is a number that looks the same when rotated 180 degrees. For example, the digits `0`, `1`, and `8` look the same when rotated, `6` becomes `9`, and `9` becomes `6`.\n",
    "\n",
    "To generate strobogrammatic numbers with `N` digits:\n",
    "\n",
    "1. **Base Cases**: If `N` is `0`, return an empty list (as there are no 0-digit numbers). If `N` is `1`, return the list `[\"0\", \"1\", \"8\"]` because these are the only single-digit strobogrammatic numbers.\n",
    "\n",
    "2. **Recursive Case**:\n",
    "\n",
    "   - For `N` greater than `1`, first generate all strobogrammatic numbers with `N-2` digits.\n",
    "   - Then, add the strobogrammatic pairs to the front and back of each number from the `N-2` digit generation. These pairs are `(\"0\", \"0\")`, `(\"1\", \"1\")`, `(\"8\", \"8\")`, `(\"6\", \"9\")`, and `(\"9\", \"6\")`.\n",
    "   - Special case: When `N` is the original input (i.e., we are not in a recursive call), we should not add `(\"0\", \"0\")` at the beginning because we don't want numbers with leading zeros.\n",
    "\n",
    "3. **Handling Even and Odd N**: If `N` is odd, start the process with the single-digit strobogrammatic numbers (`[\"0\", \"1\", \"8\"]`). If `N` is even, start with an empty string `[\"\"]`.\n",
    "\n",
    "4. **Iteration**: Keep adding pairs until the length of the numbers equals `N`.\n"
   ]
  },
  {
   "cell_type": "code",
   "execution_count": 2,
   "metadata": {},
   "outputs": [
    {
     "data": {
      "text/plain": [
       "['1001',\n",
       " '8008',\n",
       " '6009',\n",
       " '9006',\n",
       " '1111',\n",
       " '8118',\n",
       " '6119',\n",
       " '9116',\n",
       " '1881',\n",
       " '8888',\n",
       " '6889',\n",
       " '9886',\n",
       " '1691',\n",
       " '8698',\n",
       " '6699',\n",
       " '9696',\n",
       " '1961',\n",
       " '8968',\n",
       " '6969',\n",
       " '9966']"
      ]
     },
     "execution_count": 2,
     "metadata": {},
     "output_type": "execute_result"
    }
   ],
   "source": [
    "def find_strobogrammatic(n):\n",
    "    def helper(n, m):\n",
    "        # Base cases\n",
    "        if n == 0:\n",
    "            return [\"\"]\n",
    "        if n == 1:\n",
    "            return [\"0\", \"1\", \"8\"]\n",
    "\n",
    "        # Recursive call for n-2 digits\n",
    "        temp = helper(n - 2, m)\n",
    "\n",
    "        # Adding pairs to the n-2 digit numbers\n",
    "        result = []\n",
    "        for num in temp:\n",
    "            if n != m:  # Avoid adding \"0\" at the beginning for the original call\n",
    "                result.append(\"0\" + num + \"0\")\n",
    "            result.append(\"1\" + num + \"1\")\n",
    "            result.append(\"8\" + num + \"8\")\n",
    "            result.append(\"6\" + num + \"9\")\n",
    "            result.append(\"9\" + num + \"6\")\n",
    "\n",
    "        return result\n",
    "\n",
    "    return helper(n, n)\n",
    "\n",
    "\n",
    "# Example: Finding 4-digit strobogrammatic numbers\n",
    "find_strobogrammatic(4)"
   ]
  },
  {
   "cell_type": "markdown",
   "metadata": {},
   "source": [
    "## Complexity Analysis\n",
    "\n",
    "To analyze the complexity of the program that finds strobogrammatic numbers with `N` digits, we will consider both time and space complexity:\n",
    "\n",
    "### Time Complexity\n",
    "\n",
    "1. **Recursive Calls**: The function `helper` is called recursively with `n-2`. Therefore, the depth of the recursion is approximately `N/2`.\n",
    "\n",
    "2. **Generating Numbers**: At each level of recursion, the program iterates over the list of numbers generated from the previous level and adds pairs around each number. Assuming the number of strobogrammatic numbers generated at each level is `k`, then for each number, 5 new numbers are generated (from the pairs `(\"0\", \"0\")`, `(\"1\", \"1\")`, `(\"8\", \"8\")`, `(\"6\", \"9\")`, `(\"9\", \"6\")`). So, the work done at each level of recursion is proportional to `5 * k`.\n",
    "\n",
    "3. **Total Work**: The total work done can thus be approximated by summing the work done at each level. However, it's important to note that `k` (the number of strobogrammatic numbers at each level) increases significantly with each step. This makes the exact count challenging, but it can be seen that the growth is exponential in nature.\n",
    "\n",
    "Hence, the **time complexity** is **exponential** in terms of `N`, approximately \\( O(5^{N/2}) \\).\n",
    "\n",
    "### Space Complexity\n",
    "\n",
    "1. **Recursive Stack**: Due to the recursive nature of the solution, space is required for the call stack, which grows to a depth of `N/2`. So, the stack space is `O(N)`.\n",
    "\n",
    "2. **Storing Numbers**: The space required to store the strobogrammatic numbers also grows exponentially with `N`. At each level, the number of strobogrammatic numbers increases significantly.\n",
    "\n",
    "Thus, the **space complexity** is also **exponential**, primarily due to the storage of the numbers.\n",
    "\n",
    "In summary, the algorithm has exponential time and space complexity, making it less efficient for very large values of `N`. However, for small to moderately large values of `N`, it should perform adequately.\n"
   ]
  }
 ],
 "metadata": {
  "kernelspec": {
   "display_name": ".venv",
   "language": "python",
   "name": "python3"
  },
  "language_info": {
   "codemirror_mode": {
    "name": "ipython",
    "version": 3
   },
   "file_extension": ".py",
   "mimetype": "text/x-python",
   "name": "python",
   "nbconvert_exporter": "python",
   "pygments_lexer": "ipython3",
   "version": "3.10.10"
  }
 },
 "nbformat": 4,
 "nbformat_minor": 2
}
