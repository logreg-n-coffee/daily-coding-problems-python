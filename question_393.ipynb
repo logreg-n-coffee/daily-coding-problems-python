{
 "cells": [
  {
   "cell_type": "markdown",
   "metadata": {},
   "source": [
    "# Question 393\n",
    "\n",
    "## Description\n",
    "\n",
    "This problem was asked by Airbnb.\n",
    "\n",
    "Given an array of integers, return the largest range, inclusive, of integers that are all included in the array.\n",
    "\n",
    "For example, given the array `[9, 6, 1, 3, 8, 10, 12, 11]`, return `(8, 12)` since 8, 9, 10, 11, and 12 are all in the array.\n"
   ]
  },
  {
   "cell_type": "code",
   "execution_count": 1,
   "metadata": {},
   "outputs": [],
   "source": [
    "def find_largest_range(nums):\n",
    "    if not nums:\n",
    "        return None\n",
    "\n",
    "    # sort the array\n",
    "    nums.sort()\n",
    "\n",
    "    # init the variables\n",
    "    best_start = current_start = nums[0]\n",
    "    best_end = current_end = nums[0]\n",
    "    best_length = current_length = 1\n",
    "\n",
    "    # iterate through the array\n",
    "    for num in nums[1:]:\n",
    "        if num == current_end + 1:\n",
    "            # update range if consecutive\n",
    "            current_end = num\n",
    "            current_length += 1\n",
    "        else:\n",
    "            # update best range if current range is longer\n",
    "            if current_length > best_length:\n",
    "                best_start = current_start\n",
    "                best_end = current_end\n",
    "                best_length = current_length\n",
    "\n",
    "            # reset current range\n",
    "            current_start = current_end = num\n",
    "            current_length = 1\n",
    "\n",
    "    # update best range if current range is longer\n",
    "    if current_length > best_length:\n",
    "        best_start = current_start\n",
    "        best_end = current_end\n",
    "        best_length = current_length\n",
    "\n",
    "    return (best_start, best_end)"
   ]
  },
  {
   "cell_type": "code",
   "execution_count": 2,
   "metadata": {},
   "outputs": [
    {
     "name": "stdout",
     "output_type": "stream",
     "text": [
      "(8, 12)\n"
     ]
    }
   ],
   "source": [
    "print(find_largest_range([9, 6, 1, 3, 8, 10, 12, 11]))  # Should return (8, 12)"
   ]
  },
  {
   "cell_type": "markdown",
   "metadata": {},
   "source": [
    "### Time Complexity\n",
    "\n",
    "1. **Sorting the Array**: The first step is to sort the array, which takes O(N log N) time, where N is the number of elements in the array.\n",
    "\n",
    "2. **Iterating Through the Sorted Array**: After sorting, the function iterates through the array once. This iteration takes O(N) time.\n",
    "\n",
    "3. **Comparisons and Assignments**: During the iteration, the function performs constant-time operations (comparisons, assignments) for each element. These operations do not add any significant overhead to the overall time complexity.\n",
    "\n",
    "Therefore, the total time complexity of the function is dominated by the sorting step, which is O(N log N).\n",
    "\n",
    "### Space Complexity\n",
    "\n",
    "1. **Auxiliary Space for Sorting**: The sorting algorithm may use additional space, depending on the implementation. For example, if the sorting is done in-place (like QuickSort or HeapSort), the space complexity is O(log N). However, if a sorting algorithm like MergeSort is used, the space complexity can be O(N).\n",
    "\n",
    "2. **Additional Variables**: The function uses a few extra variables to keep track of the ranges and their lengths. The space used by these variables is constant, O(1).\n",
    "\n",
    "Therefore, the total space complexity is O(N) if a sorting algorithm that requires extra space is used, or O(log N) for in-place sorting algorithms.\n",
    "\n",
    "In summary, the time complexity of `find_largest_range` is O(N log N), and the space complexity is O(N) or O(log N), depending on the sorting algorithm used.\n"
   ]
  }
 ],
 "metadata": {
  "kernelspec": {
   "display_name": ".venv",
   "language": "python",
   "name": "python3"
  },
  "language_info": {
   "codemirror_mode": {
    "name": "ipython",
    "version": 3
   },
   "file_extension": ".py",
   "mimetype": "text/x-python",
   "name": "python",
   "nbconvert_exporter": "python",
   "pygments_lexer": "ipython3",
   "version": "3.10.10"
  }
 },
 "nbformat": 4,
 "nbformat_minor": 2
}
