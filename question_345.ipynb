{
 "cells": [
  {
   "cell_type": "markdown",
   "metadata": {},
   "source": [
    "# Question 345\n",
    "\n",
    "## Description\n",
    "\n",
    "You are given a set of synonyms, such as (big, large) and (eat, consume). Using this set, determine if two sentences with the same number of words are equivalent.\n",
    "\n",
    "For example, the following two sentences are equivalent:\n",
    "\n",
    "\"He wants to eat food.\"\n",
    "\"He wants to consume food.\"\n",
    "Note that the synonyms (a, b) and (a, c) do not necessarily imply (b, c): consider the case of (coach, bus) and (coach, teacher).\n",
    "\n",
    "Follow-up: what if we can assume that (a, b) and (a, c) do in fact imply (b, c)?"
   ]
  },
  {
   "cell_type": "markdown",
   "metadata": {},
   "source": [
    "## Solution\n",
    "\n",
    "Create a Synonym Map:\n",
    "\n",
    "Iterate over the list of synonym pairs.\n",
    "For each pair (a, b), add b to the list of synonyms for a and a to the list of synonyms for b.\n",
    "You can use a defaultdict of sets to store the mapping.\n",
    "\n",
    "Compare Sentences:\n",
    "\n",
    "Tokenize the sentences into words.\n",
    "If the number of words in both sentences is different, return False.\n",
    "Compare each word in the first sentence to the corresponding word in the second sentence. If the words are not the same and are not synonyms, return False.\n",
    "If all corresponding words are the same or are synonyms, return True."
   ]
  },
  {
   "cell_type": "code",
   "execution_count": 2,
   "metadata": {},
   "outputs": [
    {
     "name": "stdout",
     "output_type": "stream",
     "text": [
      "True\n",
      "True\n"
     ]
    }
   ],
   "source": [
    "from collections import defaultdict\n",
    "\n",
    "\n",
    "def are_sentences_equivalent(synonyms, sentence1, sentence2):\n",
    "    synonym_map = defaultdict(set)\n",
    "\n",
    "    for a, b in synonyms:\n",
    "        synonym_map[a].add(b)\n",
    "        synonym_map[b].add(a)\n",
    "\n",
    "    words1 = sentence1.split()\n",
    "    words2 = sentence2.split()\n",
    "\n",
    "    if len(words1) != len(words2):\n",
    "        return False\n",
    "\n",
    "    for w1, w2 in zip(words1, words2):\n",
    "        if w1 == w2 or w2 in synonym_map[w1] or w1 in synonym_map[w2]:\n",
    "            continue\n",
    "        else:\n",
    "            return False\n",
    "\n",
    "    return True\n",
    "\n",
    "\n",
    "synonyms = [(\"big\", \"large\"), (\"eat\", \"consume\"), (\"eat\", \"devour\")]\n",
    "sentence1 = \"He wants to eat food.\"\n",
    "sentence2 = \"He wants to consume food.\"\n",
    "sentence3 = \"He wants to devour food.\"\n",
    "\n",
    "print(are_sentences_equivalent(synonyms, sentence1, sentence2))\n",
    "print(are_sentences_equivalent(synonyms, sentence1, sentence3))"
   ]
  },
  {
   "cell_type": "markdown",
   "metadata": {},
   "source": [
    "## Follow-up Solution \n",
    "\n",
    "If we can assume that the synonyms (a, b) and (a, c) do in fact imply (b, c), we would need to create groups or clusters of synonyms, where each word in a group is a synonym to every other word in the group. We can achieve this by using a union-find or disjoint set data structure. In this structure, every group or set of synonyms will have a representative element, and we can check if two words are synonyms by checking if they belong to the same set or have the same representative element.\n",
    "\n",
    "Create a Synonym Group Map:\n",
    "\n",
    "Iterate over the list of synonym pairs and union them into groups using a union-find structure.\n",
    "After processing all the synonyms, create a mapping of each word to the representative element of its group.\n",
    "Compare Sentences:\n",
    "\n",
    "Tokenize the sentences into words.\n",
    "If the number of words in both sentences is different, return False.\n",
    "Compare each word in the first sentence to the corresponding word in the second sentence. If the words are not in the same synonym group, return False.\n",
    "If all corresponding words are in the same synonym group, return True.\n",
    "\n",
    "\n",
    "### Step by Step\n",
    "\n",
    "To solve the follow-up, we can use a Disjoint Set (or Union-Find) data structure to group synonyms together, so that each word in a group is a synonym to every other word in the group. Here are the steps to solve the problem:\n",
    "\n",
    "Initialize the Disjoint Set:\n",
    "\n",
    "Each word is initially in its own set.\n",
    "Process the Synonyms:\n",
    "\n",
    "For each pair (a, b), union the sets containing a and b.\n",
    "Compare Sentences:\n",
    "\n",
    "Tokenize the sentences into words.\n",
    "If the number of words in both sentences is different, return False.\n",
    "Compare each word in the first sentence to the corresponding word in the second sentence. If the words are not in the same set, return False.\n",
    "If all corresponding words are in the same set or are the same, return True."
   ]
  },
  {
   "cell_type": "code",
   "execution_count": 3,
   "metadata": {},
   "outputs": [
    {
     "data": {
      "text/plain": [
       "True"
      ]
     },
     "execution_count": 3,
     "metadata": {},
     "output_type": "execute_result"
    }
   ],
   "source": [
    "class DisjointSet:\n",
    "    def __init__(self):\n",
    "        self.parent = {}\n",
    "\n",
    "    def find(self, x):\n",
    "        if x not in self.parent:\n",
    "            self.parent[x] = x\n",
    "        if self.parent[x] != x:\n",
    "            self.parent[x] = self.find(self.parent[x])\n",
    "        return self.parent[x]\n",
    "\n",
    "    def union(self, x, y):\n",
    "        root_x = self.find(x)\n",
    "        root_y = self.find(y)\n",
    "        if root_x != root_y:\n",
    "            self.parent[root_x] = root_y\n",
    "\n",
    "\n",
    "def are_sentences_equivalent(synonyms, sentence1, sentence2):\n",
    "    ds = DisjointSet()\n",
    "\n",
    "    # Process the synonyms and create disjoint sets\n",
    "    for a, b in synonyms:\n",
    "        ds.union(a, b)\n",
    "\n",
    "    words1 = sentence1.split()\n",
    "    words2 = sentence2.split()\n",
    "\n",
    "    # If the sentences have different lengths, they are not equivalent\n",
    "    if len(words1) != len(words2):\n",
    "        return False\n",
    "\n",
    "    for w1, w2 in zip(words1, words2):\n",
    "        # If the words are not the same and they are not in the same set, return False\n",
    "        if w1 != w2 and ds.find(w1) != ds.find(w2):\n",
    "            return False\n",
    "\n",
    "    return True\n",
    "\n",
    "\n",
    "# Testing the implementation\n",
    "synonyms = [(\"big\", \"large\"), (\"eat\", \"consume\"), (\"large\", \"huge\")]\n",
    "sentence1 = \"He wants to eat food\"\n",
    "sentence2 = \"He wants to consume food\"\n",
    "\n",
    "are_sentences_equivalent(synonyms, sentence1, sentence2)  # Should return True"
   ]
  }
 ],
 "metadata": {
  "kernelspec": {
   "display_name": ".venv",
   "language": "python",
   "name": "python3"
  },
  "language_info": {
   "codemirror_mode": {
    "name": "ipython",
    "version": 3
   },
   "file_extension": ".py",
   "mimetype": "text/x-python",
   "name": "python",
   "nbconvert_exporter": "python",
   "pygments_lexer": "ipython3",
   "version": "3.10.10"
  }
 },
 "nbformat": 4,
 "nbformat_minor": 2
}
