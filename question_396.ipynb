{
 "cells": [
  {
   "cell_type": "markdown",
   "metadata": {},
   "source": [
    "# Question 396\n",
    "\n",
    "## Description\n",
    "\n",
    "This problem was asked by Google.\n",
    "\n",
    "Given a string, return the length of the longest palindromic subsequence in the string.\n",
    "\n",
    "For example, given the following string:\n",
    "\n",
    "`MAPTPTMTPA`\n",
    "\n",
    "Return 7, since the longest palindromic subsequence in the string is `APTMTPA`. Recall that a subsequence of a string does not have to be contiguous!\n",
    "\n",
    "Your algorithm should run in O(n^2) time and space.\n"
   ]
  },
  {
   "cell_type": "markdown",
   "metadata": {},
   "source": [
    "## Solution\n",
    "\n",
    "To solve this problem, we can use dynamic programming. The idea is to build a table that stores the length of the longest palindromic subsequence for every substring of the given string. Let's denote the given string as `s` and its length as `n`.\n",
    "\n",
    "We will create a 2D array `dp` of size `n x n`, where `dp[i][j]` will represent the length of the longest palindromic subsequence in the substring `s[i...j]`. The goal is to fill this table such that `dp[0][n-1]` gives us the length of the longest palindromic subsequence for the entire string.\n",
    "\n",
    "Here is the approach:\n",
    "\n",
    "1. **Initialization**: Since every single character is a palindrome of length 1, we initialize `dp[i][i] = 1` for all `i` from `0` to `n-1`.\n",
    "\n",
    "2. **Filling the Table**: We fill the table diagonally. For any string of length `l` (where `l` ranges from `2` to `n`), we check the following:\n",
    "\n",
    "   - If the characters at both ends are the same, `s[i] == s[j]`, then `dp[i][j] = dp[i+1][j-1] + 2`.\n",
    "   - If the characters at both ends are not the same, `dp[i][j] = max(dp[i+1][j], dp[i][j-1])`.\n",
    "\n",
    "3. **Result**: The length of the longest palindromic subsequence for the entire string will be stored in `dp[0][n-1]`.\n",
    "\n",
    "Now, let's implement this algorithm in Python.\n",
    "\n",
    "The algorithm correctly finds that the length of the longest palindromic subsequence in the string \"MAPTPTMTPA\" is 7. This corresponds to the subsequence \"APTMTPA\", which is indeed a palindrome. The algorithm runs in \\( O(n^2) \\) time and space, as required.\n"
   ]
  },
  {
   "cell_type": "code",
   "execution_count": 3,
   "metadata": {},
   "outputs": [],
   "source": [
    "def longest_palindromic_subsequence(s):\n",
    "    n = len(s)\n",
    "    dp = [[0 for _ in range(n)] for _ in range(n)]\n",
    "\n",
    "    # Every single character is a palindrome of length 1\n",
    "    for i in range(n):\n",
    "        dp[i][i] = 1\n",
    "\n",
    "    # Filling the table\n",
    "    # The outer loop for lengths of the substring\n",
    "    for i in range(n - 1, -1, -1):\n",
    "        for j in range(i + 1, n):\n",
    "            if s[i] == s[j]:\n",
    "                dp[i][j] = dp[i + 1][j - 1] + 2\n",
    "            else:\n",
    "                dp[i][j] = max(dp[i + 1][j], dp[i][j - 1])\n",
    "    return dp[0][n - 1]"
   ]
  },
  {
   "cell_type": "code",
   "execution_count": 4,
   "metadata": {},
   "outputs": [
    {
     "data": {
      "text/plain": [
       "7"
      ]
     },
     "execution_count": 4,
     "metadata": {},
     "output_type": "execute_result"
    }
   ],
   "source": [
    "# Test the function with the provided example\n",
    "longest_palindromic_subsequence(\"MAPTPTMTPA\")"
   ]
  }
 ],
 "metadata": {
  "kernelspec": {
   "display_name": ".venv",
   "language": "python",
   "name": "python3"
  },
  "language_info": {
   "codemirror_mode": {
    "name": "ipython",
    "version": 3
   },
   "file_extension": ".py",
   "mimetype": "text/x-python",
   "name": "python",
   "nbconvert_exporter": "python",
   "pygments_lexer": "ipython3",
   "version": "3.10.10"
  }
 },
 "nbformat": 4,
 "nbformat_minor": 2
}
