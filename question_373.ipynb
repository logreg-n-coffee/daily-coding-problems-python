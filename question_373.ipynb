{
 "cells": [
  {
   "cell_type": "markdown",
   "metadata": {},
   "source": [
    "# Question 373\n",
    "\n",
    "## Description\n",
    "\n",
    "Given a list of integers L, find the maximum length of a sequence of consecutive numbers that can be formed using elements from L.\n",
    "\n",
    "For example, given `L = [5, 2, 99, 3, 4, 1, 100]`, return `5` as we can build a sequence `[1, 2, 3, 4, 5]` which has length `5`.\n"
   ]
  },
  {
   "cell_type": "markdown",
   "metadata": {},
   "source": [
    "## Solution\n",
    "\n",
    "1. Convert the list to a set for O(1) lookup time.\n",
    "2. For each number in the list, check if it's the start of a sequence (i.e., number-1 is not in the set).\n",
    "3. If it's the start, count the length of the consecutive sequence and update the maximum length found so far.\n"
   ]
  },
  {
   "cell_type": "code",
   "execution_count": 4,
   "metadata": {},
   "outputs": [],
   "source": [
    "def longest_consecutive_sequence(L):\n",
    "    num_set = set(L)\n",
    "    max_length = 0\n",
    "\n",
    "    for num in L:\n",
    "        if num - 1 not in num_set:  # Check if this is the start of a sequence\n",
    "            current_num = num\n",
    "            current_length = 1\n",
    "\n",
    "            while current_num + 1 in num_set:  # Count the sequence length\n",
    "                current_num += 1\n",
    "                current_length += 1\n",
    "\n",
    "            max_length = max(max_length, current_length)\n",
    "\n",
    "    return max_length"
   ]
  },
  {
   "cell_type": "code",
   "execution_count": 5,
   "metadata": {},
   "outputs": [
    {
     "name": "stdout",
     "output_type": "stream",
     "text": [
      "5\n",
      "4\n",
      "1\n",
      "0\n",
      "8\n",
      "5\n",
      "4\n",
      "9\n"
     ]
    }
   ],
   "source": [
    "L1 = [5, 2, 99, 3, 4, 1, 100]\n",
    "print(longest_consecutive_sequence(L1))  # Expected output: 5 (sequence: 1, 2, 3, 4, 5)\n",
    "\n",
    "L2 = [1, 2, 3, 5, 6, 7, 8, 10]\n",
    "print(longest_consecutive_sequence(L2))  # Expected output: 4 (sequence: 5, 6, 7, 8)\n",
    "\n",
    "L3 = [1, 3, 5, 7, 9]\n",
    "print(longest_consecutive_sequence(L3))  # Expected output: 1 (All numbers are isolated)\n",
    "\n",
    "L4 = []\n",
    "print(longest_consecutive_sequence(L4))  # Expected output: 0 (No numbers)\n",
    "\n",
    "L5 = [10, 11, 12, 14, 15, 16, 17, 13]\n",
    "print(\n",
    "    longest_consecutive_sequence(L5)\n",
    ")  # Expected output: 8 (sequence: 10, 11, 12, 13, 14, 15, 16, 17)\n",
    "\n",
    "L6 = [5, 100, 200, 6, 101, 7, 8, 102, 9]\n",
    "print(longest_consecutive_sequence(L6))  # Expected output: 5 (sequence: 5, 6, 7, 8, 9)\n",
    "\n",
    "L7 = [1, 1, 1, 1, 1, 1, 2, 2, 2, 2, 3, 4]\n",
    "print(\n",
    "    longest_consecutive_sequence(L7)\n",
    ")  # Expected output: 4 (sequence: 1, 2, 3, 4) Note: Repeated numbers are counted only once.\n",
    "\n",
    "L8 = [5, 4, 3, 2, 1, 0, -1, -2, -3]\n",
    "print(\n",
    "    longest_consecutive_sequence(L8)\n",
    ")  # Expected output: 9 (sequence: -3, -2, -1, 0, 1, 2, 3, 4, 5) Handling negative numbers."
   ]
  },
  {
   "cell_type": "markdown",
   "metadata": {},
   "source": [
    "# Bonus\n",
    "\n",
    "I want the longest consecutive sequence length and at the same time I want to identify the numbers. Return the numbers as a list.\n",
    "\n",
    "## Solution\n",
    "\n",
    "1. Instead of just counting the length, we'll also record the numbers of the longest sequence.\n",
    "2. When a new sequence is found that is longer than the previous longest sequence, we'll update our list of numbers.\n"
   ]
  },
  {
   "cell_type": "code",
   "execution_count": 6,
   "metadata": {},
   "outputs": [
    {
     "name": "stdout",
     "output_type": "stream",
     "text": [
      "5\n",
      "[1, 2, 3, 4, 5]\n"
     ]
    }
   ],
   "source": [
    "def find_longest_consecutive_sequence(L):\n",
    "    num_set = set(L)\n",
    "    max_length = 0\n",
    "    longest_sequence = []\n",
    "\n",
    "    for num in L:\n",
    "        if num - 1 not in num_set:  # Check if this is the start of a sequence\n",
    "            current_num = num\n",
    "            current_length = 1\n",
    "            current_sequence = [current_num]\n",
    "\n",
    "            while current_num + 1 in num_set:  # Count the sequence length\n",
    "                current_num += 1\n",
    "                current_length += 1\n",
    "                current_sequence.append(current_num)\n",
    "\n",
    "            if current_length > max_length:\n",
    "                max_length = current_length\n",
    "                longest_sequence = current_sequence\n",
    "\n",
    "    return max_length, longest_sequence\n",
    "\n",
    "\n",
    "L = [5, 2, 99, 3, 4, 1, 100]\n",
    "length, sequence = find_longest_consecutive_sequence(L)\n",
    "print(length)  # Output: 5\n",
    "print(sequence)  # Output: [1, 2, 3, 4, 5]"
   ]
  }
 ],
 "metadata": {
  "kernelspec": {
   "display_name": ".venv",
   "language": "python",
   "name": "python3"
  },
  "language_info": {
   "codemirror_mode": {
    "name": "ipython",
    "version": 3
   },
   "file_extension": ".py",
   "mimetype": "text/x-python",
   "name": "python",
   "nbconvert_exporter": "python",
   "pygments_lexer": "ipython3",
   "version": "3.10.10"
  }
 },
 "nbformat": 4,
 "nbformat_minor": 2
}
