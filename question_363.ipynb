{
 "cells": [
  {
   "cell_type": "markdown",
   "metadata": {},
   "source": [
    "# Question 363\n",
    "\n",
    "## Description\n",
    "\n",
    "Write a function, add_subtract, which alternately adds and subtracts curried arguments. Here are some sample operations:\n",
    "\n",
    "```text\n",
    "add_subtract(7) -> 7\n",
    "\n",
    "add_subtract(1)(2)(3) -> 1 + 2 - 3 -> 0\n",
    "\n",
    "add_subtract(-5)(10)(3)(9) -> -5 + 10 - 3 + 9 -> 11\n",
    "```"
   ]
  },
  {
   "cell_type": "code",
   "execution_count": 2,
   "metadata": {},
   "outputs": [
    {
     "data": {
      "text/plain": [
       "(7, 0, 11)"
      ]
     },
     "execution_count": 2,
     "metadata": {},
     "output_type": "execute_result"
    }
   ],
   "source": [
    "class AddSubtract:\n",
    "    def __init__(self, n):\n",
    "        self.total = n\n",
    "        self.count = 1\n",
    "\n",
    "    def __call__(self, x=None):\n",
    "        if x is None:\n",
    "            return self.total\n",
    "        self.total = self.total + x if self.count % 2 == 1 else self.total - x\n",
    "        self.count += 1\n",
    "        return self\n",
    "\n",
    "    def __repr__(self):\n",
    "        return str(self.total)\n",
    "\n",
    "\n",
    "def add_subtract(n):\n",
    "    return AddSubtract(n)\n",
    "\n",
    "\n",
    "test_1 = add_subtract(7)\n",
    "test_2 = add_subtract(1)(2)(3)\n",
    "test_3 = add_subtract(-5)(10)(3)(9)\n",
    "\n",
    "\n",
    "test_1, test_2, test_3"
   ]
  }
 ],
 "metadata": {
  "kernelspec": {
   "display_name": ".venv",
   "language": "python",
   "name": "python3"
  },
  "language_info": {
   "codemirror_mode": {
    "name": "ipython",
    "version": 3
   },
   "file_extension": ".py",
   "mimetype": "text/x-python",
   "name": "python",
   "nbconvert_exporter": "python",
   "pygments_lexer": "ipython3",
   "version": "3.10.10"
  }
 },
 "nbformat": 4,
 "nbformat_minor": 2
}
