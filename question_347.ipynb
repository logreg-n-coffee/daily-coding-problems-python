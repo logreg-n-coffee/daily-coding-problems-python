{
 "cells": [
  {
   "cell_type": "markdown",
   "metadata": {},
   "source": [
    "# Question 347\n",
    "\n",
    "## Description\n",
    "\n",
    "You are given a string of length N and a parameter k. The string can be manipulated by taking one of the first k letters and moving it to the end.\n",
    "\n",
    "Write a program to determine the lexicographically smallest string that can be created after an unlimited number of moves.\n",
    "\n",
    "For example, suppose we are given the string daily and k = 1. The best we can create in this case is ailyd."
   ]
  },
  {
   "cell_type": "markdown",
   "metadata": {},
   "source": [
    "## Solution\n",
    "\n",
    "We can break this problem down into two cases.\n",
    "\n",
    "First, consider the case where k = 1. Here we are only allowed to rotate the string, so we can simply choose the alphabetically earliest rotation.\n",
    "\n",
    "Now suppose k > 1. This situation is a bit trickier, as it seems we must figure out which of the first k items to move at each step. However, it turns out that there is a series of moves that allows us to effectively swap any two letters.\n",
    "\n",
    "We can understand these moves by looking at the general example of converting xxabxx to xxbaxx. In the diagram below, each string represents the newly formed result of the preceding transformation.\n",
    "\n",
    "```text\n",
    "string | transformation\n",
    "-------------------------\n",
    "xxabxx | move all x to end, one at a time\n",
    "abxxxx | move b to end \n",
    "axxxxb | move a to end\n",
    "xxxxba | move x to end, one at a time, until reaching initial position\n",
    "xxbaxx | -\n",
    "```\n",
    "\n",
    "Our solution will be to return the alphabetically earliest rotation if k = 1, and otherwise the sorted string."
   ]
  },
  {
   "cell_type": "code",
   "execution_count": 5,
   "metadata": {},
   "outputs": [],
   "source": [
    "def get_best_words(string, k):\n",
    "    string_list = list(string)\n",
    "    \n",
    "    if k == 1:\n",
    "        best = string_list\n",
    "        for i in range(1, len(string_list)):\n",
    "            if string_list[i:] + string_list[:i] < best:\n",
    "                best = string_list[i:] + string_list[:i]\n",
    "        return \"\".join(best)\n",
    "    \n",
    "    else:\n",
    "        return \"\".join(sorted(string_list))"
   ]
  },
  {
   "cell_type": "code",
   "execution_count": 6,
   "metadata": {},
   "outputs": [
    {
     "name": "stdout",
     "output_type": "stream",
     "text": [
      "ailyd\n"
     ]
    }
   ],
   "source": [
    "print(get_best_words(\"daily\", 1))"
   ]
  },
  {
   "cell_type": "markdown",
   "metadata": {},
   "source": [
    "## Complexity Analysis\n",
    "\n",
    "our algorithm loops through Nrotations and compares two strings of length N, for a time complexity of O(N2). The space required will be O(N), the size of our two string variables.\n",
    "\n",
    "sorting our string will take O(N log N) time, and building the new string will require O(N) space."
   ]
  }
 ],
 "metadata": {
  "kernelspec": {
   "display_name": ".venv",
   "language": "python",
   "name": "python3"
  },
  "language_info": {
   "codemirror_mode": {
    "name": "ipython",
    "version": 3
   },
   "file_extension": ".py",
   "mimetype": "text/x-python",
   "name": "python",
   "nbconvert_exporter": "python",
   "pygments_lexer": "ipython3",
   "version": "3.10.10"
  }
 },
 "nbformat": 4,
 "nbformat_minor": 2
}
