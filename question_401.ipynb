{
 "cells": [
  {
   "cell_type": "markdown",
   "metadata": {},
   "source": [
    "# Question 401\n",
    "\n",
    "## Description\n",
    "\n",
    "This problem was asked by Twitter.\n",
    "\n",
    "A permutation can be specified by an array `P`, where `P[i]` represents the location of the element at `i` in the permutation. For example, `[2, 1, 0]` represents the permutation where elements at the index `0` and `2` are swapped.\n",
    "\n",
    "Given an array and a permutation, apply the permutation to the array. For example, given the array `[\"a\", \"b\", \"c\"]` and the permutation `[2, 1, 0]`, return `[\"c\", \"b\", \"a\"]`.\n"
   ]
  },
  {
   "cell_type": "code",
   "execution_count": 1,
   "metadata": {},
   "outputs": [
    {
     "name": "stdout",
     "output_type": "stream",
     "text": [
      "['c', 'b', 'a']\n"
     ]
    }
   ],
   "source": [
    "def apply_permutation(arr: list, perm: list) -> list:\n",
    "    # create a new array to store the rearranged elements\n",
    "    result = [None] * len(arr)\n",
    "\n",
    "    # iterate through the permutation array\n",
    "    for i, p in enumerate(perm):\n",
    "        # store the value of the current element in the result array\n",
    "        # at the index specified by the permutation array\n",
    "        result[p] = arr[i]\n",
    "\n",
    "    return result\n",
    "\n",
    "\n",
    "# Example usage\n",
    "arr = [\"a\", \"b\", \"c\"]\n",
    "perm = [2, 1, 0]\n",
    "result = apply_permutation(arr, perm)\n",
    "print(result)  # Output should be [\"c\", \"b\", \"a\"]"
   ]
  }
 ],
 "metadata": {
  "kernelspec": {
   "display_name": ".venv",
   "language": "python",
   "name": "python3"
  },
  "language_info": {
   "codemirror_mode": {
    "name": "ipython",
    "version": 3
   },
   "file_extension": ".py",
   "mimetype": "text/x-python",
   "name": "python",
   "nbconvert_exporter": "python",
   "pygments_lexer": "ipython3",
   "version": "3.10.10"
  }
 },
 "nbformat": 4,
 "nbformat_minor": 2
}
