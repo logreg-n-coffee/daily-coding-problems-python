{
 "cells": [
  {
   "cell_type": "markdown",
   "metadata": {},
   "source": [
    "# Question 334\n",
    "\n",
    "## Description\n",
    "\n",
    "The 24 game is played as follows. You are given a list of four integers, each between 1 and 9, in a fixed order. By placing the operators +, -, \\*, and / between the numbers, and grouping them with parentheses, determine whether it is possible to reach the value 24.\n",
    "\n",
    "For example, given the input [5, 2, 7, 8], you should return True, since `(5 * 2 - 7) * 8 = 24`.\n",
    "\n",
    "Write a function that plays the 24 game.\n"
   ]
  },
  {
   "cell_type": "code",
   "execution_count": 11,
   "metadata": {},
   "outputs": [
    {
     "name": "stdout",
     "output_type": "stream",
     "text": [
      "True\n",
      "False\n",
      "True\n",
      "True\n"
     ]
    }
   ],
   "source": [
    "def play_24_game(nums: list[float]) -> bool:\n",
    "    if len(nums) == 1:\n",
    "        # Check if the number is 24 - float number comparison\n",
    "        return abs(nums[0] - 24) < 1e-6\n",
    "\n",
    "    for i in range(len(nums)):\n",
    "        for j in range(len(nums)):\n",
    "            if i != j:\n",
    "                remaining_nums = [x for k, x in enumerate(\n",
    "                    nums) if k != i and k != j]\n",
    "\n",
    "                next_num: float = 0  # Define next_num with a default value\n",
    "\n",
    "                for op in [\"+\", \"-\", \"*\", \"/\"]:\n",
    "                    if (op == \"+\" or op == \"*\") and i > j:\n",
    "                        continue  # Skip duplicate combinations\n",
    "                    if op == \"/\" and nums[j] == 0:\n",
    "                        continue  # Skip division by zero\n",
    "\n",
    "                    if op == \"+\":\n",
    "                        next_num = nums[i] + nums[j]\n",
    "                    elif op == \"-\":\n",
    "                        next_num = nums[i] - nums[j]\n",
    "                    elif op == \"*\":\n",
    "                        next_num = nums[i] * nums[j]\n",
    "                    elif op == \"/\":\n",
    "                        next_num = nums[i] / nums[j]\n",
    "\n",
    "                    if play_24_game(remaining_nums + [next_num]):\n",
    "                        return True\n",
    "\n",
    "    return False\n",
    "\n",
    "\n",
    "if __name__ == '__main__':\n",
    "    # Test the function\n",
    "    # Should return True, because ((5 * 2 - 7) * 8) = 24\n",
    "    print(play_24_game([5, 2, 7, 8]))\n",
    "    # Should return False, because there's no way to make 24\n",
    "    print(play_24_game([1, 1, 1, 1]))\n",
    "    # Should return True, because ((8 - 1) * 6 / 6) = 24\n",
    "    print(play_24_game([8, 1, 6, 6]))\n",
    "    # Should return True, because ((2 + 3 + 4) * 5) = 24\n",
    "    print(play_24_game([2, 3, 4, 5]))"
   ]
  }
 ],
 "metadata": {
  "kernelspec": {
   "display_name": ".venv",
   "language": "python",
   "name": "python3"
  },
  "language_info": {
   "codemirror_mode": {
    "name": "ipython",
    "version": 3
   },
   "file_extension": ".py",
   "mimetype": "text/x-python",
   "name": "python",
   "nbconvert_exporter": "python",
   "pygments_lexer": "ipython3",
   "version": "3.10.10"
  }
 },
 "nbformat": 4,
 "nbformat_minor": 2
}
