{
 "cells": [
  {
   "cell_type": "markdown",
   "metadata": {},
   "source": [
    "# Question 349\n",
    "\n",
    "## Description\n",
    "\n",
    "Soundex is an algorithm used to categorize phonetically, such that two names that sound alike but are spelled differently have the same representation.\n",
    "\n",
    "Soundex maps every name to a string consisting of one letter and three numbers, like M460.\n",
    "\n",
    "One version of the algorithm is as follows:\n",
    "\n",
    "Remove consecutive consonants with the same sound (for example, change ck -> c).\n",
    "Keep the first letter. The remaining steps only apply to the rest of the string.\n",
    "Remove all vowels, including y, w, and h.\n",
    "Replace all consonants with the following digits:\n",
    "* b, f, p, v → 1\n",
    "* c, g, j, k, q, s, x, z → 2\n",
    "* d, t → 3\n",
    "* l → 4\n",
    "* m, n → 5\n",
    "* r → 6\n",
    "\n",
    "If you don't have three numbers yet, append zeros until you do. Keep the first three numbers.\n",
    "Using this scheme, Jackson and Jaxen both map to J250.\n",
    "\n",
    "Implement Soundex."
   ]
  },
  {
   "cell_type": "code",
   "execution_count": 6,
   "metadata": {},
   "outputs": [
    {
     "data": {
      "text/plain": [
       "('J250', 'J250')"
      ]
     },
     "execution_count": 6,
     "metadata": {},
     "output_type": "execute_result"
    }
   ],
   "source": [
    "def soundex(name: str) -> str:\n",
    "    # step 1: convert letters to uppercase\n",
    "    name = name.upper()\n",
    "\n",
    "    # step 2: keep the first letter\n",
    "    first_letter = name[0]\n",
    "\n",
    "    # mapping letters to digits\n",
    "    mapping: dict[str, str] = {\n",
    "        \"B\": \"1\",\n",
    "        \"F\": \"1\",\n",
    "        \"P\": \"1\",\n",
    "        \"V\": \"1\",\n",
    "        \"C\": \"2\",\n",
    "        \"G\": \"2\",\n",
    "        \"J\": \"2\",\n",
    "        \"K\": \"2\",\n",
    "        \"Q\": \"2\",\n",
    "        \"S\": \"2\",\n",
    "        \"X\": \"2\",\n",
    "        \"Z\": \"2\",\n",
    "        \"D\": \"3\",\n",
    "        \"T\": \"3\",\n",
    "        \"L\": \"4\",\n",
    "        \"M\": \"5\",\n",
    "        \"N\": \"5\",\n",
    "        \"R\": \"6\",\n",
    "    }\n",
    "\n",
    "    # Step 3: Remove consecutive consonants with the same sound\n",
    "    encoded_name = name[0]\n",
    "    for i in range(1, len(name)):\n",
    "        if mapping.get(name[i], None) != mapping.get(name[i - 1], None):\n",
    "            encoded_name += name[i]\n",
    "\n",
    "    # Step 4: Remove all vowels, including y, w, and h\n",
    "    for char in [\"A\", \"E\", \"I\", \"O\", \"U\", \"Y\", \"W\", \"H\"]:\n",
    "        encoded_name = encoded_name.replace(char, \"\")\n",
    "\n",
    "    # Step 5: Replace consonants with corresponding digits\n",
    "    code = \"\".join(\n",
    "        [mapping[char] if char in mapping else char for char in encoded_name]\n",
    "    )\n",
    "\n",
    "    # Step 6: If there are fewer than three digits, append zeros\n",
    "    code += \"000\"\n",
    "\n",
    "    # Step 7: Return the first letter followed by the first three digits\n",
    "    return first_letter + code[1:4]\n",
    "\n",
    "\n",
    "soundex(\"Jackson\"), soundex(\"Jaxen\")"
   ]
  }
 ],
 "metadata": {
  "kernelspec": {
   "display_name": ".venv",
   "language": "python",
   "name": "python3"
  },
  "language_info": {
   "codemirror_mode": {
    "name": "ipython",
    "version": 3
   },
   "file_extension": ".py",
   "mimetype": "text/x-python",
   "name": "python",
   "nbconvert_exporter": "python",
   "pygments_lexer": "ipython3",
   "version": "3.10.10"
  }
 },
 "nbformat": 4,
 "nbformat_minor": 2
}
