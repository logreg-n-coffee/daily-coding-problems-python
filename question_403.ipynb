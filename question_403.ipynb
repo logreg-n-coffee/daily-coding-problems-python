{
 "cells": [
  {
   "cell_type": "markdown",
   "metadata": {},
   "source": [
    "# Question 403\n",
    "\n",
    "## Description\n",
    "\n",
    "This problem was asked by Two Sigma.\n",
    "\n",
    "Using a function `rand5()` that returns an integer from 1 to 5 (inclusive) with uniform probability, implement a function `rand7()` that returns an integer from 1 to 7 (inclusive).\n"
   ]
  },
  {
   "cell_type": "code",
   "execution_count": 1,
   "metadata": {},
   "outputs": [
    {
     "data": {
      "text/plain": [
       "([4, 1, 1, 1, 6, 1, 3, 2, 6, 3], 1, 7)"
      ]
     },
     "execution_count": 1,
     "metadata": {},
     "output_type": "execute_result"
    }
   ],
   "source": [
    "import random\n",
    "\n",
    "\n",
    "def rand5():\n",
    "    return random.randint(1, 5)\n",
    "\n",
    "\n",
    "def rand7():\n",
    "    \"\"\"\n",
    "    Generate a number from 1 to 7 using rand5.\n",
    "    \"\"\"\n",
    "    while True:\n",
    "        # Generate a number from 0 to 24\n",
    "        num = 5 * (rand5() - 1) + (rand5() - 1)\n",
    "\n",
    "        # If the number is in the first 21, use it to generate a number from 1 to 7\n",
    "        if num < 21:\n",
    "            return num % 7 + 1\n",
    "\n",
    "\n",
    "# Test the function to check if it generates numbers in the range of 1 to 7\n",
    "test_results = [rand7() for _ in range(1000)]\n",
    "test_results[:10], min(test_results), max(test_results)"
   ]
  },
  {
   "cell_type": "markdown",
   "metadata": {},
   "source": [
    "To analyze the complexity of the `rand7()` function implemented using `rand5()`, we need to consider two main aspects: time complexity and space complexity.\n",
    "\n",
    "### Time Complexity\n",
    "\n",
    "1. **rand5() Calls**: The function generates a number between 0 to 24 (inclusive) using two calls to `rand5()`. Each call to `rand5()` is an O(1) operation.\n",
    "\n",
    "2. **While Loop**: The key part affecting time complexity is the while loop. In each iteration of the while loop, we generate a number and check if it's less than 21. If it is not, we repeat the process. The probability of getting a number less than 21 is \\(\\frac{21}{25}\\), as there are 21 favorable outcomes (0 to 20) out of 25 possible outcomes.\n",
    "\n",
    "3. **Expected Number of Iterations**: The expected number of iterations can be calculated as the reciprocal of the probability of exiting the loop in a given iteration. This is \\( \\frac{1}{\\frac{21}{25}} = \\frac{25}{21} \\).\n",
    "\n",
    "4. **Overall Time Complexity**: Considering the constant time operations within the loop and the expected number of iterations, the average time complexity is O(1). However, in the worst case (very unlikely), it could take more iterations, but this does not affect the average case complexity.\n",
    "\n",
    "### Space Complexity\n",
    "\n",
    "The space complexity of the `rand7()` function is O(1). It uses a fixed amount of space regardless of input size or iterations, as it only stores a few integer variables and does not use any data structures that grow with input size.\n",
    "\n",
    "### Summary\n",
    "\n",
    "- **Time Complexity**: O(1) on average.\n",
    "- **Space Complexity**: O(1).\n",
    "\n",
    "This analysis shows that the function is efficient both in terms of time and space. However, it's important to note that the while loop can theoretically run indefinitely, but the probability of it running a large number of times is extremely low.\n"
   ]
  }
 ],
 "metadata": {
  "kernelspec": {
   "display_name": "Python 3",
   "language": "python",
   "name": "python3"
  },
  "language_info": {
   "codemirror_mode": {
    "name": "ipython",
    "version": 3
   },
   "file_extension": ".py",
   "mimetype": "text/x-python",
   "name": "python",
   "nbconvert_exporter": "python",
   "pygments_lexer": "ipython3",
   "version": "3.11.1"
  }
 },
 "nbformat": 4,
 "nbformat_minor": 2
}
