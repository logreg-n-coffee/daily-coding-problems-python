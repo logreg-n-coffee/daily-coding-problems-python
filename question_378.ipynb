{
 "cells": [
  {
   "cell_type": "markdown",
   "metadata": {},
   "source": [
    "# Question 378\n",
    "\n",
    "## Description\n",
    "\n",
    "This problem was asked by Coinbase.\n",
    "\n",
    "Write a function that takes in a number, string, list, or dictionary and returns its JSON encoding. It should also handle nulls.\n",
    "\n",
    "For example, given the following input:\n",
    "\n",
    "`[None, 123, [\"a\", \"b\"], {\"c\":\"d\"}]`\n",
    "\n",
    "You should return the following, as a string:\n",
    "\n",
    "`'[null, 123, [\"a\", \"b\"], {\"c\": \"d\"}]'`\n"
   ]
  },
  {
   "cell_type": "code",
   "execution_count": 1,
   "metadata": {},
   "outputs": [],
   "source": [
    "# Solution 1\n",
    "import json\n",
    "\n",
    "\n",
    "def json_encode(obj):\n",
    "    return json.dumps(obj, ensure_ascii=False)"
   ]
  },
  {
   "cell_type": "code",
   "execution_count": 2,
   "metadata": {},
   "outputs": [],
   "source": [
    "# Solution 2\n",
    "def encode_json(obj):\n",
    "    if obj is None:\n",
    "        return \"null\"\n",
    "    elif isinstance(obj, bool):\n",
    "        return \"true\" if obj else \"false\"\n",
    "    elif isinstance(obj, (int, float)):\n",
    "        return str(obj)\n",
    "    elif isinstance(obj, str):\n",
    "        return '\"' + obj.replace('\"', '\\\\\"') + '\"'\n",
    "    elif isinstance(obj, list):\n",
    "        encoded_elements = [encode_json(e) for e in obj]\n",
    "        return \"[\" + \", \".join(encoded_elements) + \"]\"\n",
    "    elif isinstance(obj, dict):\n",
    "        encoded_items = [encode_json(k) + \": \" + encode_json(v) for k, v in obj.items()]\n",
    "        return \"{\" + \", \".join(encoded_items) + \"}\"\n",
    "    else:\n",
    "        raise ValueError(f\"Unsupported type: {type(obj)}\")"
   ]
  },
  {
   "cell_type": "code",
   "execution_count": 3,
   "metadata": {},
   "outputs": [
    {
     "name": "stdout",
     "output_type": "stream",
     "text": [
      "[null, 123, [\"a\", \"b\"], {\"c\": \"d\"}]\n",
      "[null, 123, [\"a\", \"b\"], {\"c\": \"d\"}]\n"
     ]
    }
   ],
   "source": [
    "# Test\n",
    "data = [None, 123, [\"a\", \"b\"], {\"c\": \"d\"}]\n",
    "print(json_encode(data))\n",
    "\n",
    "# Test\n",
    "data = [None, 123, [\"a\", \"b\"], {\"c\": \"d\"}]\n",
    "print(encode_json(data))"
   ]
  }
 ],
 "metadata": {
  "kernelspec": {
   "display_name": ".venv",
   "language": "python",
   "name": "python3"
  },
  "language_info": {
   "codemirror_mode": {
    "name": "ipython",
    "version": 3
   },
   "file_extension": ".py",
   "mimetype": "text/x-python",
   "name": "python",
   "nbconvert_exporter": "python",
   "pygments_lexer": "ipython3",
   "version": "3.10.10"
  }
 },
 "nbformat": 4,
 "nbformat_minor": 2
}
