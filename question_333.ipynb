{
 "cells": [
  {
   "cell_type": "markdown",
   "metadata": {},
   "source": [
    "# Question 333\n",
    "\n",
    "## Description\n",
    "\n",
    "At a party, there is a single person who everyone knows, but who does not know anyone in return (the \"celebrity\"). To help figure out who this is, you have access to an O(1) method called knows(a, b), which returns True if person a knows person b, else False.\n",
    "\n",
    "Given a list of N people and the above operation, find a way to identify the celebrity in O(N) time.\n"
   ]
  },
  {
   "cell_type": "code",
   "execution_count": 5,
   "metadata": {},
   "outputs": [
    {
     "name": "stdout",
     "output_type": "stream",
     "text": [
      "4\n"
     ]
    }
   ],
   "source": [
    "# A mock matrix that represents who knows whom.\n",
    "# If matrix[a][b] is True, it means a knows b.\n",
    "matrix = [\n",
    "    [True, False, False, False, True],  # Person 0\n",
    "    [True, True, True, True, True],  # Person 1\n",
    "    [False, False, True, False, False],  # Person 2\n",
    "    [True, True, True, True, True],  # Person 3\n",
    "    [False, False, False, False, True],  # Person 4 (The celebrity)\n",
    "]\n",
    "\n",
    "\n",
    "def knows(a, b):\n",
    "    # Return True if a knows b, else False\n",
    "    return matrix[a][b]\n",
    "\n",
    "\n",
    "def find_celebrity(people):\n",
    "    while len(people) > 1:\n",
    "        i, j = people.pop(), people.pop()\n",
    "\n",
    "        # If i knows j, it is impossible for i to be the celebrity, since the celebrity does not know anyone.\n",
    "        if knows(i, j):\n",
    "            people.append(j)\n",
    "\n",
    "        # On the other hand, if i does not know j, j cannot be the celebrity.\n",
    "        else:\n",
    "            people.append(i)\n",
    "\n",
    "    return people[0]\n",
    "\n",
    "\n",
    "# Example usage\n",
    "people = [0, 1, 2, 3, 4]  # Let's assume people are identified by integers\n",
    "print(find_celebrity(people))"
   ]
  }
 ],
 "metadata": {
  "kernelspec": {
   "display_name": ".venv",
   "language": "python",
   "name": "python3"
  },
  "language_info": {
   "codemirror_mode": {
    "name": "ipython",
    "version": 3
   },
   "file_extension": ".py",
   "mimetype": "text/x-python",
   "name": "python",
   "nbconvert_exporter": "python",
   "pygments_lexer": "ipython3",
   "version": "3.10.10"
  }
 },
 "nbformat": 4,
 "nbformat_minor": 2
}
