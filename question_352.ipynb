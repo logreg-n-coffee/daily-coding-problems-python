{
 "cells": [
  {
   "cell_type": "markdown",
   "metadata": {},
   "source": [
    "# Question 352\n",
    "\n",
    "## Description\n",
    "\n",
    "A typical American-style crossword puzzle grid is an N x N matrix with black and white squares, which obeys the following rules:\n",
    "\n",
    "* Every white square must be part of an \"across\" word and a \"down\" word.\n",
    "* No word can be fewer than three letters long.\n",
    "* Every white square must be reachable from every other white square.\n",
    "* The grid is rotationally symmetric (for example, the colors of the top left and bottom right squares must match).\n",
    "\n",
    "Write a program to determine whether a given matrix qualifies as a crossword grid.\n"
   ]
  },
  {
   "cell_type": "code",
   "execution_count": null,
   "metadata": {},
   "outputs": [],
   "source": [
    "def has_valid_word_length(grid):\n",
    "    for row in grid:\n",
    "        word_length = 0\n",
    "        \n",
    "        for square in row:\n",
    "            if square == 0:\n",
    "                word_length += 1\n",
    "            else:\n",
    "                if 0 < word_length < 3:\n",
    "                    return False\n",
    "                word_length = 0\n",
    "            \n",
    "        if 0 < word_length < 3:\n",
    "            return False\n",
    "    \n",
    "    return True"
   ]
  },
  {
   "cell_type": "markdown",
   "metadata": {},
   "source": [
    "To check rotational symmetry, we need to ensure that the grid looks the same after rotating 180 degrees. While this can be achieved by iterating over the grid square by square, an alternative method is to use a combination of transposals and row reversals.\n",
    "\n",
    "The following steps will allow us to find the rotated grid:\n",
    "\n",
    "* Transpose the matrix\n",
    "* Reverse the matrix\n",
    "* Transpose the matrix again\n",
    "* Reverse the matrix again\n",
    "\n",
    "Here is how these operations would look on a sample input matrix:\n",
    "\n",
    "```text\n",
    "[[0, 1, 1],    [[0, 0, 0],    [[1, 1, 1],    [[1, 1, 0],    [[1, 0, 0],\n",
    " [0, 0, 1], ->  [1, 0, 0], ->  [1, 0, 0], ->  [1, 0, 0], ->  [1, 0, 0],\n",
    " [0, 0, 1]]     [1, 1, 1]]     [0, 0, 0]]     [1, 0, 0]]     [1, 1, 0]]\n",
    "```\n",
    "\n",
    "This operation takes O(N) time and space, since we must iterate over each square and create a new grid."
   ]
  },
  {
   "cell_type": "code",
   "execution_count": null,
   "metadata": {},
   "outputs": [],
   "source": [
    "def is_rotationally_symmetric(grid):\n",
    "    transpose = list(zip(*grid))\n",
    "    reverse = transpose[::-1]\n",
    "    \n",
    "    return grid == list(map(list, reverse))"
   ]
  },
  {
   "cell_type": "markdown",
   "metadata": {},
   "source": [
    "Finally, to check the connectedness of our matrix we can perform a breadth-first search from a random white square and see if we can reach all other white squares."
   ]
  },
  {
   "cell_type": "code",
   "execution_count": null,
   "metadata": {},
   "outputs": [],
   "source": [
    "from collections import deque\n",
    "\n",
    "def is_connected(grid):\n",
    "    # check how many white squares there are in the grid\n",
    "    count = sum([1 - square for row in grid for square in row])\n",
    "    \n",
    "    # find the first one to begin our search form \n",
    "    start = None\n",
    "    for i, row in enumerate(grid):\n",
    "        for j in row:\n",
    "            if grid[i][j] == 0:\n",
    "                start = (i, j)\n",
    "                break\n",
    "    \n",
    "    if not start:\n",
    "        return False\n",
    "    \n",
    "    # perform bfs. adding each unvisited adjacent white square to the queue\n",
    "    queue = deque([start])\n",
    "    visited = set()\n",
    "    connected_count = 0\n",
    "    \n",
    "    while queue:\n",
    "        square = queue.popleft()\n",
    "        if square not in visited:\n",
    "            visited.add(square)\n",
    "            connected_count += 1\n",
    "            \n",
    "            i, j = square\n",
    "            for neighbor in [(i - 1, j), (i + 1, j), (i, j - 1), (i, j + 1)]:\n",
    "                row, col = neighbor\n",
    "                if 0 <= row < len(grid) and 0 <= col < len(grid[0]) and grid[row][col] == 0:\n",
    "                    queue.append(neighbor)\n",
    "    \n",
    "    # check whether the visited count matches the overall count\n",
    "    return connected_count == count"
   ]
  },
  {
   "cell_type": "markdown",
   "metadata": {},
   "source": [
    "Putting it all together, a valid grid must satisfy all four methods we have just defined."
   ]
  },
  {
   "cell_type": "code",
   "execution_count": null,
   "metadata": {},
   "outputs": [],
   "source": [
    "def is_valid(grid):\n",
    "    return has_valid_word_length(grid) and \\\n",
    "           has_valid_word_length(zip(*grid)) and \\\n",
    "           is_rotationally_symmetric(grid) and \\\n",
    "           is_connected(grid)"
   ]
  }
 ],
 "metadata": {
  "kernelspec": {
   "display_name": ".venv",
   "language": "python",
   "name": "python3"
  },
  "language_info": {
   "name": "python",
   "version": "3.10.10"
  }
 },
 "nbformat": 4,
 "nbformat_minor": 2
}
