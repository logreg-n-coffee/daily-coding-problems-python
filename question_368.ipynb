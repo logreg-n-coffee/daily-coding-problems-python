{
 "cells": [
  {
   "cell_type": "markdown",
   "metadata": {},
   "source": [
    "# Question 368\n",
    "\n",
    "## Description\n",
    "\n",
    "Implement a key value store, where keys and values are integers, with the following methods:\n",
    "\n",
    "1. `update(key, vl)`: updates the value at key to val, or sets it if doesn't exist\n",
    "2. `get(key)`: returns the value with key, or None if no such value exists\n",
    "3. `max_key(val)`: returns the largest key with value val, or None if no key with that value exists\n",
    "\n",
    "For example, if we ran the following calls:\n",
    "\n",
    "```python\n",
    "kv.update(1, 1)\n",
    "kv.update(2, 1)\n",
    "```\n",
    "\n",
    "And then called `kv.max_key(1)`, it should return `2`, since it's the largest key with value `1`.\n"
   ]
  },
  {
   "cell_type": "code",
   "execution_count": 4,
   "metadata": {},
   "outputs": [],
   "source": [
    "from collections import defaultdict\n",
    "\n",
    "\n",
    "class KeyValueStore:\n",
    "    def __init__(self) -> None:\n",
    "        self.data = {}\n",
    "        self.value_to_keys = defaultdict(set)\n",
    "\n",
    "    def update(self, key, val):\n",
    "        # If the key already exists, remove its old value from value_to_keys\n",
    "        if key in self.data:\n",
    "            old_val = self.data\n",
    "            self.value_to_keys[old_val].remove(key)\n",
    "            if not self.value_to_keys[old_val]:\n",
    "                del self.value_to_keys[old_val]\n",
    "\n",
    "        # Update the key's value\n",
    "        self.data[key] = val\n",
    "\n",
    "        # Add the new value to value_to_keys\n",
    "        self.value_to_keys[val].add(key)\n",
    "\n",
    "    def get(self, key):\n",
    "        return self.data.get(key, None)\n",
    "\n",
    "    def max_key(self, val):\n",
    "        if val not in self.value_to_keys:\n",
    "            return None\n",
    "        return max(self.value_to_keys[val])"
   ]
  },
  {
   "cell_type": "code",
   "execution_count": 5,
   "metadata": {},
   "outputs": [
    {
     "data": {
      "text/plain": [
       "True"
      ]
     },
     "execution_count": 5,
     "metadata": {},
     "output_type": "execute_result"
    }
   ],
   "source": [
    "kv = KeyValueStore()\n",
    "kv.update(1, 1)\n",
    "kv.update(2, 1)\n",
    "kv.max_key(1) == 2"
   ]
  }
 ],
 "metadata": {
  "kernelspec": {
   "display_name": ".venv",
   "language": "python",
   "name": "python3"
  },
  "language_info": {
   "codemirror_mode": {
    "name": "ipython",
    "version": 3
   },
   "file_extension": ".py",
   "mimetype": "text/x-python",
   "name": "python",
   "nbconvert_exporter": "python",
   "pygments_lexer": "ipython3",
   "version": "3.10.10"
  }
 },
 "nbformat": 4,
 "nbformat_minor": 2
}
