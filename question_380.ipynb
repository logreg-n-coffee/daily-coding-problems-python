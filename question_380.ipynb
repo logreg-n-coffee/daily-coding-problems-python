{
 "cells": [
  {
   "cell_type": "markdown",
   "metadata": {},
   "source": [
    "# Question 380\n",
    "\n",
    "This problem was asked by Nextdoor.\n",
    "\n",
    "Implement integer division without using the division operator. Your function should return a tuple of (dividend, remainder) and it should take two numbers, the product and divisor.\n",
    "\n",
    "For example, calling divide(10, 3) should return (3, 1) since the divisor is 3 and the remainder is 1.\n",
    "\n",
    "Bonus: Can you do it in O(log n) time?\n"
   ]
  },
  {
   "cell_type": "markdown",
   "metadata": {},
   "source": [
    "## Solution:\n",
    "\n",
    "To achieve O(log n) time complexity, we can use a binary search-like approach to double the divisor until it surpasses the product and then subtract the doubled divisor in decreasing powers of two.\n"
   ]
  },
  {
   "cell_type": "code",
   "execution_count": 1,
   "metadata": {},
   "outputs": [],
   "source": [
    "def divide(product, divisor):\n",
    "    # edge case: division by zero\n",
    "    if divisor == 0:\n",
    "        raise ValueError(\"Cannot divide by zero\")\n",
    "\n",
    "    # sign of quotient\n",
    "    negative = (product < 0) != (divisor < 0)\n",
    "\n",
    "    # take absolute value\n",
    "    product = abs(product)\n",
    "    divisor = abs(divisor)\n",
    "\n",
    "    # edge case: if the product less than th divisor, the quotient is zero\n",
    "    if product < divisor:\n",
    "        return (0, product)\n",
    "\n",
    "    # initialize quotient and sum of divisors\n",
    "    quotient = 0\n",
    "    sum_divisors = divisor\n",
    "\n",
    "    # store the multiples of divisor\n",
    "    multiples = [divisor]\n",
    "\n",
    "    # double the divisor and its multiples until the sum is greater than the product\n",
    "    while sum_divisors * 2 <= product:\n",
    "        sum_divisors *= 2\n",
    "        multiples.append(sum_divisors)\n",
    "\n",
    "    # subtract the divisor's multiples from the product to find the quotient\n",
    "    for multiple in reversed(multiples):\n",
    "        if product >= multiple:\n",
    "            product -= multiple\n",
    "            quotient += 1 << (len(multiples) - multiples.index(multiple) - 1)\n",
    "\n",
    "    # adjust the sign of the quotient\n",
    "    if negative:\n",
    "        quotient = -quotient\n",
    "\n",
    "    # return quotient and remainder\n",
    "    remainder = product\n",
    "    return (quotient, remainder)"
   ]
  },
  {
   "cell_type": "code",
   "execution_count": 2,
   "metadata": {},
   "outputs": [
    {
     "name": "stdout",
     "output_type": "stream",
     "text": [
      "(3, 1)\n"
     ]
    }
   ],
   "source": [
    "# Test the function\n",
    "print(divide(10, 3))  # Output should be (3, 1)"
   ]
  }
 ],
 "metadata": {
  "kernelspec": {
   "display_name": ".venv",
   "language": "python",
   "name": "python3"
  },
  "language_info": {
   "codemirror_mode": {
    "name": "ipython",
    "version": 3
   },
   "file_extension": ".py",
   "mimetype": "text/x-python",
   "name": "python",
   "nbconvert_exporter": "python",
   "pygments_lexer": "ipython3",
   "version": "3.10.10"
  }
 },
 "nbformat": 4,
 "nbformat_minor": 2
}
