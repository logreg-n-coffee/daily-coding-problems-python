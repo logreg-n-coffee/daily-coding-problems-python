{
 "cells": [
  {
   "cell_type": "markdown",
   "metadata": {},
   "source": [
    "# Question 331\n",
    "\n",
    "## Description\n",
    "\n",
    "You are given a string consisting of the letters x and y, such as xyxxxyxyy. In addition, you have an operation called flip, which changes a single x to y or vice versa.\n",
    "\n",
    "Determine how many times you would need to apply this operation to ensure that all x's come before all y's. In the preceding example, it suffices to flip the second and sixth characters, so you should return 2.\n"
   ]
  },
  {
   "cell_type": "markdown",
   "metadata": {},
   "source": [
    "## Analysis\n",
    "\n",
    "Problems that involve manipulating characters in a string, such as edit distance and making palindromes, often call to mind dynamic programming solutions.\n",
    "\n",
    "Here, let us define a two-dimensional array flips, where flips[i][j] denotes the smallest number of flips needed to properly order the substring up to index i, where the final element ends up taking value j.\n",
    "\n",
    "Our transition function handles the following cases:\n",
    "\n",
    "1. If the ith character is x and should remain x, we can copy over the value of flips[i][0] from flips[i - 1][0].\n",
    "2. If the ith character must change from x to y, we use one more flip than the best solution for the first i - 1 letters.\n",
    "3. If the ith character must change from y to x, we use one more flip than flips[i - 1][0].\n",
    "4. If the ith character is y and it should remain y, we can copy over the value of the best solution up to i - 1.\n"
   ]
  },
  {
   "cell_type": "code",
   "execution_count": 1,
   "metadata": {},
   "outputs": [],
   "source": [
    "# solve the problem with O(n) time complexity and O(n) space complexity\n",
    "\n",
    "\n",
    "def num_flips(s):\n",
    "    flips = [[0 for _ in range(2)] for _ in range(len(s))]\n",
    "\n",
    "    for i, char in enumerate(s):\n",
    "        if char == \"x\":\n",
    "            flips[i][0] = flips[i - 1][0]\n",
    "            flips[i][1] = min(flips[i - 1]) + 1\n",
    "        else:\n",
    "            flips[i][0] = flips[i - 1][0] + 1\n",
    "            flips[i][1] = min(flips[i - 1])\n",
    "\n",
    "    return min(flips[-1])"
   ]
  },
  {
   "cell_type": "code",
   "execution_count": 2,
   "metadata": {},
   "outputs": [
    {
     "name": "stdout",
     "output_type": "stream",
     "text": [
      "0\n",
      "2\n",
      "0\n",
      "1\n"
     ]
    }
   ],
   "source": [
    "# test case\n",
    "\n",
    "if __name__ == \"__main__\":\n",
    "    s1 = \"xxxxyyyy\"\n",
    "    s2 = \"xyxxxyxyy\"\n",
    "    s3 = \"xy\"\n",
    "    s4 = \"yx\"\n",
    "\n",
    "    print(num_flips(s1))\n",
    "    print(num_flips(s2))\n",
    "    print(num_flips(s3))\n",
    "    # for s4, after the first flip, the string becomes \"yy\", so the answer is 1\n",
    "    print(num_flips(s4))"
   ]
  }
 ],
 "metadata": {
  "kernelspec": {
   "display_name": ".venv",
   "language": "python",
   "name": "python3"
  },
  "language_info": {
   "codemirror_mode": {
    "name": "ipython",
    "version": 3
   },
   "file_extension": ".py",
   "mimetype": "text/x-python",
   "name": "python",
   "nbconvert_exporter": "python",
   "pygments_lexer": "ipython3",
   "version": "3.10.10"
  }
 },
 "nbformat": 4,
 "nbformat_minor": 2
}
