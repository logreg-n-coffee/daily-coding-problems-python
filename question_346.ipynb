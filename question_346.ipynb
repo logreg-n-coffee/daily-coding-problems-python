{
 "cells": [
  {
   "cell_type": "markdown",
   "metadata": {},
   "source": [
    "# Question 346\n",
    "\n",
    "## Description\n",
    "\n",
    "You are given a huge list of airline ticket prices between different cities around the world on a given day. These are all direct flights. Each element in the list has the format (source_city, destination, price).\n",
    "\n",
    "Consider a user who is willing to take up to k connections from their origin city A to their destination B. Find the cheapest fare possible for this journey and print the itinerary for that journey.\n",
    "\n",
    "For example, our traveler wants to go from JFK to LAX with up to 3 connections, and our input flights are as follows:\n",
    "\n",
    "[\n",
    "    ('JFK', 'ATL', 150),\n",
    "    ('ATL', 'SFO', 400),\n",
    "    ('ORD', 'LAX', 200),\n",
    "    ('LAX', 'DFW', 80),\n",
    "    ('JFK', 'HKG', 800),\n",
    "    ('ATL', 'ORD', 90),\n",
    "    ('JFK', 'LAX', 500),\n",
    "]\n",
    "\n",
    "Due to some improbably low flight prices, the cheapest itinerary would be JFK -> ATL -> ORD -> LAX, costing $440."
   ]
  },
  {
   "cell_type": "markdown",
   "metadata": {},
   "source": [
    "## Solution \n",
    "\n",
    "Let's first think about how we would approach this problem without the constraint of limiting our traveler to k connections. This reduces to finding the shortest path between two points in a graph, which can be efficiently solved using Dijkstra's algorithm.\n",
    "\n",
    "We will maintain a heap that is keyed on the total cost of the journey so far, and which additionally holds the current node and the accumulated path. Initially, this heap will store a single item representing the fact that it costs nothing to begin at our source airport.\n",
    "\n",
    "At each step of the process, we pop the lowest cost item off the heap. Then, we take all unvisited connecting airports and place them on the heap, with their accumulated flight cost and path. Once we reach our destination, we return these values.\n",
    "\n",
    "To handle the extra constraint, we can add another variable to each heap item representing how many remaining connections are allowed. Initially this will be k + 1, and for each flight taken we will decrement by one. If we reach 0, we know that we cannot continue the current path, so we will skip to the next item."
   ]
  },
  {
   "cell_type": "code",
   "execution_count": 1,
   "metadata": {},
   "outputs": [],
   "source": [
    "import heapq\n",
    "from collections import defaultdict\n",
    "\n",
    "\n",
    "def get_itinerary(flights, source, destination, k):\n",
    "    prices = defaultdict(dict)\n",
    "\n",
    "    for src, dst, price in flights:\n",
    "        prices[src][dst] = price\n",
    "\n",
    "    path = [source]\n",
    "    visited = set()\n",
    "    heap = [(0, source, k + 1, path)]\n",
    "\n",
    "    while heap:\n",
    "        cost, src, stops, path = heapq.heappop(heap)\n",
    "\n",
    "        # stop once we reach our destination\n",
    "        if src == destination:\n",
    "            return cost, path\n",
    "\n",
    "        # decrement stops with each flight taken and stop once we run out\n",
    "        if stops > 0:\n",
    "            for dest in prices[src]:\n",
    "                heapq.heappush(\n",
    "                    heap, (cost + prices[src][dest], dest, stops - 1, path + [dest])\n",
    "                )\n",
    "\n",
    "    return -1"
   ]
  },
  {
   "cell_type": "code",
   "execution_count": 2,
   "metadata": {},
   "outputs": [
    {
     "name": "stdout",
     "output_type": "stream",
     "text": [
      "(440, ['JFK', 'ATL', 'ORD', 'LAX'])\n"
     ]
    }
   ],
   "source": [
    "flights = [\n",
    "    (\"JFK\", \"ATL\", 150),\n",
    "    (\"ATL\", \"SFO\", 400),\n",
    "    (\"ORD\", \"LAX\", 200),\n",
    "    (\"LAX\", \"DFW\", 80),\n",
    "    (\"JFK\", \"HKG\", 800),\n",
    "    (\"ATL\", \"ORD\", 90),\n",
    "    (\"JFK\", \"LAX\", 500),\n",
    "]\n",
    "\n",
    "print(get_itinerary(flights, \"JFK\", \"LAX\", 3))"
   ]
  }
 ],
 "metadata": {
  "kernelspec": {
   "display_name": ".venv",
   "language": "python",
   "name": "python3"
  },
  "language_info": {
   "codemirror_mode": {
    "name": "ipython",
    "version": 3
   },
   "file_extension": ".py",
   "mimetype": "text/x-python",
   "name": "python",
   "nbconvert_exporter": "python",
   "pygments_lexer": "ipython3",
   "version": "3.10.10"
  }
 },
 "nbformat": 4,
 "nbformat_minor": 2
}
