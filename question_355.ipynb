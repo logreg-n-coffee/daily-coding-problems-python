{
 "cells": [
  {
   "cell_type": "markdown",
   "metadata": {},
   "source": [
    "# Question 355\n",
    "\n",
    "## Description\n",
    "\n",
    "You are given an array X of floating-point numbers x1, x2, ... xn. These can be rounded up or down to create a corresponding array Y of integers y1, y2, ... yn.\n",
    "\n",
    "Write an algorithm that finds an appropriate Y array with the following properties:\n",
    "\n",
    "* The rounded sums of both arrays should be equal.\n",
    "* The absolute pairwise difference between elements is minimized. In other words, |x1- y1| + |x2- y2| + ... + |xn- yn| should be as small as possible.\n",
    "\n",
    "For example, suppose your input is [1.3, 2.3, 4.4]. In this case you cannot do better than [1, 2, 5], which has an absolute difference of |1.3 - 1| + |2.3 - 2| + |4.4 - 5| = 1."
   ]
  },
  {
   "cell_type": "code",
   "execution_count": 5,
   "metadata": {},
   "outputs": [
    {
     "name": "stdout",
     "output_type": "stream",
     "text": [
      "[1, 2, 5]\n"
     ]
    }
   ],
   "source": [
    "import heapq\n",
    "\n",
    "def minimize_rounding_difference(nums):\n",
    "    # Ensure the numbers are floats\n",
    "    nums = [float(num) for num in nums]\n",
    "    \n",
    "    # Calculate the floor sum\n",
    "    floor_sum = sum(map(int, nums))\n",
    "    \n",
    "    # Calculate how many numbers need to be rounded up\n",
    "    round_up_count = round(sum(nums)) - floor_sum\n",
    "\n",
    "    # Create a min-heap based on the loss of rounding down\n",
    "    heap = [((int(num) - num), index) for index, num in enumerate(nums)]\n",
    "    heapq.heapify(heap)\n",
    "\n",
    "    result = [int(num) for num in nums]\n",
    "    for _ in range(round_up_count):\n",
    "        _, index = heapq.heappop(heap)\n",
    "        result[index] += 1\n",
    "\n",
    "    return result\n",
    "\n",
    "# Test\n",
    "nums = ['1.3', '2.3', '4.4']\n",
    "print(minimize_rounding_difference(nums))  # Expected: [1, 2, 5]\n"
   ]
  }
 ],
 "metadata": {
  "kernelspec": {
   "display_name": ".venv",
   "language": "python",
   "name": "python3"
  },
  "language_info": {
   "codemirror_mode": {
    "name": "ipython",
    "version": 3
   },
   "file_extension": ".py",
   "mimetype": "text/x-python",
   "name": "python",
   "nbconvert_exporter": "python",
   "pygments_lexer": "ipython3",
   "version": "3.10.10"
  }
 },
 "nbformat": 4,
 "nbformat_minor": 2
}
