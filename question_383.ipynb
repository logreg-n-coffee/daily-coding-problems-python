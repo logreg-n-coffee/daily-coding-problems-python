{
 "cells": [
  {
   "cell_type": "markdown",
   "metadata": {},
   "source": [
    "# Question 383\n",
    "\n",
    "## Description\n",
    "\n",
    "Implement the function `embolden(s, lst)` which takes in a string `s` and list of substrings `lst`, and wraps all substrings in `s` with an HTML bold tag `<b>` and `</b>`.\n",
    "\n",
    "If two bold tags overlap or are contiguous, they should be merged.\n",
    "\n",
    "For example, given `s = abcdefg` and `lst = [\"bc\", \"ef\"]`, return the string `a<b>bc</b>d<b>ef</b>g`.\n",
    "\n",
    "Given `s = abcdefg` and `lst = [\"bcd\", \"def\"]`, return the string `a<b>bcdef</b>g`, since they overlap.\n"
   ]
  },
  {
   "cell_type": "code",
   "execution_count": 3,
   "metadata": {},
   "outputs": [],
   "source": [
    "def embolden(s: str, lst: list[str]) -> str:\n",
    "    # create a list of booleans to indicate which characters should be bolded\n",
    "    bold = [False] * len(s)  # true if the character should be bolded\n",
    "\n",
    "    # for each substring in lst, find all occruences in s and mark them bold in a list\n",
    "    for sub in lst:\n",
    "        start = s.find(sub)\n",
    "        while start != -1:\n",
    "            for i in range(start, start + len(sub)):\n",
    "                bold[i] = True\n",
    "            start = s.find(sub, start + 1)\n",
    "\n",
    "    # Build the result string\n",
    "    result = []\n",
    "    i = 0\n",
    "    while i < len(s):\n",
    "        if bold[i]:\n",
    "            # if this character is bold, find the end of the bold section\n",
    "            end = i\n",
    "            while end < len(s) and bold[end]:\n",
    "                end += 1\n",
    "            # add the bold tags and the bolded substring to the result\n",
    "            result.append(\"<b>\" + s[i:end] + \"</b>\")\n",
    "            # skip to the end of the bold section\n",
    "            i = end\n",
    "        else:\n",
    "            # if this character is not bold, add it to the result\n",
    "            result.append(s[i])\n",
    "            i += 1\n",
    "\n",
    "    return \"\".join(result)"
   ]
  },
  {
   "cell_type": "code",
   "execution_count": 4,
   "metadata": {},
   "outputs": [
    {
     "name": "stdout",
     "output_type": "stream",
     "text": [
      "a<b>bc</b>d<b>ef</b>g\n",
      "a<b>bcdef</b>g\n"
     ]
    }
   ],
   "source": [
    "# Test cases\n",
    "print(embolden(\"abcdefg\", [\"bc\", \"ef\"]))  # Expected: a<b>bc</b>d<b>ef</b>g\n",
    "print(embolden(\"abcdefg\", [\"bcd\", \"def\"]))  # Expected: a<b>bcdef</b>g"
   ]
  }
 ],
 "metadata": {
  "kernelspec": {
   "display_name": ".venv",
   "language": "python",
   "name": "python3"
  },
  "language_info": {
   "codemirror_mode": {
    "name": "ipython",
    "version": 3
   },
   "file_extension": ".py",
   "mimetype": "text/x-python",
   "name": "python",
   "nbconvert_exporter": "python",
   "pygments_lexer": "ipython3",
   "version": "3.10.10"
  }
 },
 "nbformat": 4,
 "nbformat_minor": 2
}
