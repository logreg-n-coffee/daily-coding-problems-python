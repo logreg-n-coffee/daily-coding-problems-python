{
 "cells": [
  {
   "cell_type": "markdown",
   "metadata": {},
   "source": [
    "# Question 353\n",
    "\n",
    "## Description \n",
    "\n",
    "You are given a histogram consisting of rectangles of different heights. These heights are represented in an input list, such that `[1, 3, 2, 5]` corresponds to the following diagram:\n",
    "\n",
    "```text\n",
    "      x\n",
    "      x  \n",
    "  x   x\n",
    "  x x x\n",
    "x x x x\n",
    "```\n",
    "\n",
    "Determine the area of the largest rectangle that can be formed only from the bars of the histogram. For the diagram above, for example, this would be six, representing the 2 x 3 area at the bottom right."
   ]
  },
  {
   "cell_type": "code",
   "execution_count": null,
   "metadata": {},
   "outputs": [],
   "source": [
    "# Time and Space Complexity: O(n) and O(n)\n",
    "def largest_rectangle(arr):\n",
    "    stack = []\n",
    "    max_area = 0\n",
    "\n",
    "    # append a zero to handle cases of non-decreasing heights\n",
    "    arr.append(0)\n",
    "\n",
    "    for right_index, rect in enumerate(arr):\n",
    "        while stack and rect < arr[stack[-1]]:\n",
    "            height = arr[stack.pop()]\n",
    "\n",
    "            left_index = stack[-1] if stack else -1\n",
    "            width = right_index - (left_index + 1)\n",
    "\n",
    "            max_area = max(max_area, height * width)\n",
    "\n",
    "        stack.append(right_index)\n",
    "\n",
    "    return max_area\n",
    "\n",
    "\n",
    "arr = [1, 3, 2, 5]\n",
    "print(largest_rectangle(arr))"
   ]
  }
 ],
 "metadata": {
  "language_info": {
   "name": "python"
  }
 },
 "nbformat": 4,
 "nbformat_minor": 2
}
