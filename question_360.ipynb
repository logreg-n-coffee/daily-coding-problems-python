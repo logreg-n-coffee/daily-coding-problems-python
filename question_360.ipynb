{
 "cells": [
  {
   "cell_type": "markdown",
   "metadata": {},
   "source": [
    "# Question 360\n",
    "\n",
    "## Description\n",
    "\n",
    "You have access to ranked lists of songs for various users. Each song is represented as an integer, and more preferred songs appear earlier in each list. For example, the list [4, 1, 7] indicates that a user likes song 4 the best, followed by songs 1 and 7.\n",
    "\n",
    "Given a set of these ranked lists, interleave them to create a playlist that satisfies everyone's priorities.\n",
    "\n",
    "For example, suppose your input is {[1, 7, 3], [2, 1, 6, 7, 9], [3, 9, 5]}. In this case a satisfactory playlist could be [2, 1, 6, 7, 3, 9, 5]."
   ]
  },
  {
   "cell_type": "markdown",
   "metadata": {},
   "source": [
    "## Approach\n",
    "\n",
    "Convert each playlist into a queue (first-in, first-out data structure).\n",
    "While there are queues remaining, pop the front song from each queue and append it to the playlist, ensuring you don't add duplicates.\n",
    "Repeat until all queues are empty."
   ]
  },
  {
   "cell_type": "code",
   "execution_count": 1,
   "metadata": {},
   "outputs": [],
   "source": [
    "from collections import deque\n",
    "\n",
    "\n",
    "def interleave_playlists(playlists: list[list[int]]) -> list[int]:\n",
    "    playlist = []\n",
    "\n",
    "    # Convert each playlist to a queue\n",
    "    queues = [deque(pl) for pl in playlists]\n",
    "\n",
    "    # Create a set to track songs that have been added\n",
    "    added_songs = set()\n",
    "\n",
    "    # While there are non-empty queues left\n",
    "    while any(queues):\n",
    "        for q in queues:\n",
    "            while q:\n",
    "                song = q.popleft()\n",
    "                if song not in added_songs:\n",
    "                    playlist.append(song)\n",
    "                    added_songs.add(song)\n",
    "                    break\n",
    "\n",
    "        # Remove empty queues\n",
    "        queues = [q for q in queues if q]\n",
    "\n",
    "    return playlist"
   ]
  },
  {
   "cell_type": "code",
   "execution_count": 2,
   "metadata": {},
   "outputs": [
    {
     "name": "stdout",
     "output_type": "stream",
     "text": [
      "[1, 2, 3, 7, 6, 9, 5]\n"
     ]
    }
   ],
   "source": [
    "playlists = [[1, 7, 3], [2, 1, 6, 7, 9], [3, 9, 5]]\n",
    "print(interleave_playlists(playlists))  # Expected output: A valid interleaving, e.g., [1, 2, 3, 7, 6, 9, 5]"
   ]
  }
 ],
 "metadata": {
  "kernelspec": {
   "display_name": ".venv",
   "language": "python",
   "name": "python3"
  },
  "language_info": {
   "codemirror_mode": {
    "name": "ipython",
    "version": 3
   },
   "file_extension": ".py",
   "mimetype": "text/x-python",
   "name": "python",
   "nbconvert_exporter": "python",
   "pygments_lexer": "ipython3",
   "version": "3.10.10"
  }
 },
 "nbformat": 4,
 "nbformat_minor": 2
}
