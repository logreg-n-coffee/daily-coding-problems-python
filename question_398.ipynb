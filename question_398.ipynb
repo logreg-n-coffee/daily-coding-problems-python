{
 "cells": [
  {
   "cell_type": "markdown",
   "metadata": {},
   "source": [
    "# Question 398\n",
    "\n",
    "## Description\n",
    "\n",
    "This problem was asked by Amazon.\n",
    "\n",
    "Given a linked list and an integer `k`, remove the k-th node from the end of the list and return the head of the list.\n",
    "\n",
    "`k` is guaranteed to be smaller than the length of the list.\n",
    "\n",
    "Do this in one pass.\n"
   ]
  },
  {
   "cell_type": "markdown",
   "metadata": {},
   "source": [
    "## Solution\n",
    "\n",
    "To solve this problem, we can use a two-pointer approach in a single pass over the linked list. The basic idea is to maintain two pointers: `fast` and `slow`. We first move the `fast` pointer `k` nodes into the list, and then start moving both `fast` and `slow` together until `fast` reaches the end of the list. At this point, `slow` will be pointing to the node just before the `k`-th node from the end. We can then remove the `k`-th node by adjusting the `next` pointer of the `slow` node. Here's how this can be implemented:\n",
    "\n",
    "1. Initialize two pointers `fast` and `slow` to the head of the list.\n",
    "2. Move the `fast` pointer `k` nodes ahead in the list.\n",
    "3. Move both `fast` and `slow` pointers together until `fast` reaches the last node of the list.\n",
    "4. Adjust the `next` pointer of the `slow` node to skip the `k`-th node from the end.\n",
    "5. Return the head of the modified list.\n",
    "\n",
    "The solution code assumes that the list is implemented using a `ListNode` class, where each node has a `value` and a reference to the `next` node. The function `removeNthFromEnd` receives the head of the list and an integer `k`, and returns the head of the modified list. The `dummy` node is used to simplify edge cases, such as removing the head of the list.\n"
   ]
  },
  {
   "cell_type": "code",
   "execution_count": 1,
   "metadata": {},
   "outputs": [
    {
     "data": {
      "text/plain": [
       "[1, 2, 3, 5]"
      ]
     },
     "execution_count": 1,
     "metadata": {},
     "output_type": "execute_result"
    }
   ],
   "source": [
    "from typing import Optional, Any\n",
    "\n",
    "\n",
    "class ListNode:\n",
    "    def __init__(self, value: Any = 0, next: Any = None):\n",
    "        self.value = value\n",
    "        self.next = next\n",
    "\n",
    "\n",
    "def removeNthFromEnd(head: Optional[ListNode], k: int) -> Optional[ListNode]:\n",
    "    dummy = ListNode(0)\n",
    "    dummy.next = head\n",
    "    slow = dummy\n",
    "    fast = dummy\n",
    "\n",
    "    # Move fast k steps ahead\n",
    "    for _ in range(k + 1):\n",
    "        fast = fast.next\n",
    "\n",
    "    # Move both pointers\n",
    "    while fast:\n",
    "        fast = fast.next\n",
    "        slow = slow.next\n",
    "\n",
    "    # Remove the nth node from end\n",
    "    if slow.next:\n",
    "        slow.next = slow.next.next\n",
    "\n",
    "    return dummy.next\n",
    "\n",
    "\n",
    "# Helper function to create a linked list from a list of values\n",
    "def createLinkedList(values):\n",
    "    dummy = ListNode(0)\n",
    "    current = dummy\n",
    "    for value in values:\n",
    "        current.next = ListNode(value)\n",
    "        current = current.next\n",
    "    return dummy.next\n",
    "\n",
    "\n",
    "# Helper function to convert linked list to list of values for easy visualization\n",
    "def linkedListToList(head):\n",
    "    result = []\n",
    "    while head:\n",
    "        result.append(head.value)\n",
    "        head = head.next\n",
    "    return result\n",
    "\n",
    "\n",
    "# Test case\n",
    "head = createLinkedList([1, 2, 3, 4, 5])\n",
    "k = 2\n",
    "modifiedHead = removeNthFromEnd(head, k)\n",
    "linkedListToList(modifiedHead)"
   ]
  }
 ],
 "metadata": {
  "kernelspec": {
   "display_name": ".venv",
   "language": "python",
   "name": "python3"
  },
  "language_info": {
   "codemirror_mode": {
    "name": "ipython",
    "version": 3
   },
   "file_extension": ".py",
   "mimetype": "text/x-python",
   "name": "python",
   "nbconvert_exporter": "python",
   "pygments_lexer": "ipython3",
   "version": "3.10.10"
  }
 },
 "nbformat": 4,
 "nbformat_minor": 2
}
