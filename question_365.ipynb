{
 "cells": [
  {
   "cell_type": "markdown",
   "metadata": {},
   "source": [
    "# Question 365\n",
    "\n",
    "## Description\n",
    "\n",
    "A quack is a data structure combining properties of both stacks and queues. It can be viewed as a list of elements written left to right such that three operations are possible:\n",
    "\n",
    "* push(x): add a new item x to the left end of the list\n",
    "* pop(): remove and return the item on the left end of the list\n",
    "* pull(): remove the item on the right end of the list.\n",
    "\n",
    "Implement a quack using three stacks and O(1) additional memory, so that the amortized time for any push, pop, or pull operation is O(1).\n"
   ]
  },
  {
   "cell_type": "markdown",
   "metadata": {},
   "source": [
    "## Solution\n",
    "\n",
    "Here's a strategy:\n",
    "\n",
    "- Push Stack: This stack is used for the push(x) operation. When an item is pushed onto the quack, it goes onto this stack.\n",
    "- Pop/Pull Stack: This stack is used for both the pop() and pull() operations. If an item is popped from the quack, it's popped from this stack. If an item is pulled, it's popped from the base of this stack (we'll use the third stack to help with this).\n",
    "- Auxiliary Stack: This stack is used to reverse the order of items. It helps facilitate the pull() operation when the pop/pull stack is empty.\n",
    "\n",
    "The idea:\n",
    "\n",
    "- When you push(x), you push x onto the push stack.\n",
    "- When you pop(), you pop from the pop/pull stack. If this stack is empty, you transfer all items from the push stack to the pop/pull stack (reversing their order in the process). This ensures amortized O(1) time for the operation.\n",
    "- When you pull(), if the pop/pull stack is empty, you transfer items as in the pop() operation. But if you need to pull from the base of the pop/pull stack, you transfer all items from the pop/pull stack to the auxiliary stack (reversing their order), pop the top item (which was originally at the base), and then transfer all items back to the pop/pull stack.\n"
   ]
  },
  {
   "cell_type": "code",
   "execution_count": 2,
   "metadata": {},
   "outputs": [],
   "source": [
    "class Quack:\n",
    "    def __init__(self):\n",
    "        self.push_stack = []\n",
    "        self.pop_stack = []\n",
    "        self.aux_stack = []\n",
    "\n",
    "    def push(self, x):\n",
    "        self.push_stack.append(x)\n",
    "\n",
    "    def pop(self):\n",
    "        # if pop/pull stack is empty, transfer all items from push stack to pop/pull stack\n",
    "        if not self.pop_stack:\n",
    "            while self.push_stack:\n",
    "                self.pop_stack.append(self.push_stack.pop())\n",
    "\n",
    "        # if pop/pull stack is still empty, the quack is empty\n",
    "        if not self.pop_stack:\n",
    "            return None\n",
    "\n",
    "        # pop/pull the top item from pop/pull stack\n",
    "        return self.pop_stack.pop()\n",
    "\n",
    "    def pull(self):\n",
    "        # if pop/pull stack is empty, transfer all items from push stack to pop/pull stack\n",
    "        if not self.pop_stack:\n",
    "            while self.push_stack:\n",
    "                self.pop_stack.append(self.push_stack.pop())\n",
    "\n",
    "        # transfer all items from pop/pull stack to aux stack\n",
    "        while self.pop_stack:\n",
    "            self.aux_stack.append(self.pop_stack.pop())\n",
    "\n",
    "        # if aux stack is empty, then quack is empty\n",
    "        if not self.aux_stack:\n",
    "            return None\n",
    "\n",
    "        # pop the item from the aux stack (originally at the base of pop/pull stack)\n",
    "        item = self.aux_stack.pop()\n",
    "\n",
    "        # transfer all items back to pop/pull stack from aux stack\n",
    "        while self.aux_stack:\n",
    "            self.pop_stack.append(self.aux_stack.pop())\n",
    "\n",
    "        return item"
   ]
  },
  {
   "cell_type": "code",
   "execution_count": 3,
   "metadata": {},
   "outputs": [
    {
     "name": "stdout",
     "output_type": "stream",
     "text": [
      "1\n",
      "3\n"
     ]
    }
   ],
   "source": [
    "quack = Quack()\n",
    "quack.push(1)\n",
    "quack.push(2)\n",
    "quack.push(3)\n",
    "pop_val = quack.pop()\n",
    "pull_val = quack.pull()\n",
    "\n",
    "print(pop_val)\n",
    "print(pull_val)"
   ]
  }
 ],
 "metadata": {
  "kernelspec": {
   "display_name": ".venv",
   "language": "python",
   "name": "python3"
  },
  "language_info": {
   "codemirror_mode": {
    "name": "ipython",
    "version": 3
   },
   "file_extension": ".py",
   "mimetype": "text/x-python",
   "name": "python",
   "nbconvert_exporter": "python",
   "pygments_lexer": "ipython3",
   "version": "3.10.10"
  }
 },
 "nbformat": 4,
 "nbformat_minor": 2
}
