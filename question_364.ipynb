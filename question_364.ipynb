{
 "cells": [
  {
   "cell_type": "markdown",
   "metadata": {},
   "source": [
    "# Question 364\n",
    "\n",
    "## Description\n",
    "\n",
    "Describe an algorithm to compute the longest increasing subsequence of an array of numbers in O(n log n) time.\n"
   ]
  },
  {
   "cell_type": "markdown",
   "metadata": {},
   "source": [
    "The problem of finding the longest increasing subsequence (LIS) of an array is a classic one. The \\(O(n^2)\\) dynamic programming solution is straightforward, but there's a more efficient \\(O(n \\log n)\\) algorithm that uses a combination of dynamic programming and binary search.\n",
    "\n",
    "Here's the idea behind the \\(O(n \\log n)\\) algorithm:\n",
    "\n",
    "1. **Initialization**: Start with an empty list called `tails`, where `tails[i]` will store the smallest tail element of all increasing subsequences of length \\(i + 1\\). Also, initialize the length of the LIS to 0.\n",
    "\n",
    "2. **Iterate through the input array**: For each number \\(x\\) in the array:\n",
    "   - If \\(x\\) is the smallest so far, start a new active list of length 1 with \\(x\\).\n",
    "   - If \\(x\\) is the largest so far, clone the longest active list and extend it by \\(x\\).\n",
    "   - If \\(x\\) is in between, find a list with the largest length such that it can be extended by \\(x\\). To do this efficiently, you can use binary search on the `tails` list.\n",
    "3. **Binary search**: Given a number \\(x\\) and the `tails` list, find the position \\(i\\) such that `tails[i - 1]` < \\(x\\) and `tails[i]` ≥ \\(x\\). Replace `tails[i]` with \\(x\\), because \\(x\\) is a better candidate to be the tail of subsequences of length \\(i + 1\\).\n",
    "\n",
    "The final length of the LIS will be the length of the `tails` list at the end of the algorithm.\n",
    "\n",
    "Here's a step-by-step code implementation:\n",
    "\n",
    "The binary search function helps find the position at which the current number \\(x\\) should be placed in the `tails` list. The main function `longest_increasing_subsequence` computes the length of the LIS.\n"
   ]
  },
  {
   "cell_type": "code",
   "execution_count": null,
   "metadata": {},
   "outputs": [],
   "source": [
    "def long_increasing_subsequence(nums):\n",
    "    tails = []\n",
    "    for x in nums:\n",
    "        # use binary search to find the position to replace or append\n",
    "        i = binary_search(tails, x)\n",
    "        if i == len(tails):\n",
    "            tails.append(x)\n",
    "        else:\n",
    "            tails[i] = x\n",
    "    return len(tails)\n",
    "\n",
    "\n",
    "def binary_search(tails, x):\n",
    "    l, r = 0, len(tails) - 1\n",
    "    while l <= r:\n",
    "        mid = (l + r) // 2\n",
    "        if tails[mid] < x:\n",
    "            l = mid + 1\n",
    "        else:\n",
    "            r = mid - 1\n",
    "    return l"
   ]
  }
 ],
 "metadata": {
  "language_info": {
   "name": "python"
  }
 },
 "nbformat": 4,
 "nbformat_minor": 2
}
