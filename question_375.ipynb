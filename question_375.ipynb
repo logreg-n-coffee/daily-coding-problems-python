{
 "cells": [
  {
   "cell_type": "markdown",
   "metadata": {},
   "source": [
    "# Question 375\n",
    "\n",
    "## Description\n",
    "\n",
    "This problem was asked by Google.\n",
    "\n",
    "The h-index is a metric used to measure the impact and productivity of a scientist or researcher.\n",
    "\n",
    "A scientist has index h if h of their N papers have at least h citations each, and the other N - h papers have no more than h citations each. If there are multiple possible values for h, the maximum value is used.\n",
    "\n",
    "Given an array of natural numbers, with each value representing the number of citations of a researcher's paper, return the h-index of that researcher.\n",
    "\n",
    "For example, if the array was:\n",
    "\n",
    "[4, 0, 0, 2, 3]\n",
    "\n",
    "This means the researcher has 5 papers with 4, 1, 0, 2, and 3 citations respectively. The h-index for this researcher is 2, since they have 2 papers with at least 2 citations and the remaining 3 papers have no more than 2 citations.\n"
   ]
  },
  {
   "cell_type": "markdown",
   "metadata": {},
   "source": [
    "To determine the h-index:\n",
    "\n",
    "1. Sort the array of citations in descending order.\n",
    "2. Traverse the sorted array and look for the last position where the value at that position is greater than or equal to the position index (starting from 1).\n",
    "3. The h-index is the position at which the above condition is no longer true.\n",
    "\n",
    "For the following example, the sorted array is [4, 3, 2, 0, 0].\n",
    "\n",
    "- For i=0 (1st position), c=4 which is >=1\n",
    "- For i=1 (2nd position), c=3 which is >=2\n",
    "- For i=2 (3rd position), c=2 which is >=3 (this is not true)\n",
    "\n",
    "So, the h-index is 2.\n"
   ]
  },
  {
   "cell_type": "code",
   "execution_count": 1,
   "metadata": {},
   "outputs": [
    {
     "name": "stdout",
     "output_type": "stream",
     "text": [
      "2\n"
     ]
    }
   ],
   "source": [
    "def h_index(citations):\n",
    "    citations.sort(reverse=True)\n",
    "    for i, c in enumerate(citations):\n",
    "        if c < i + 1:\n",
    "            return i\n",
    "    return len(citations)\n",
    "\n",
    "\n",
    "# Test\n",
    "citations = [4, 0, 0, 2, 3]\n",
    "print(h_index(citations))  # Expected output: 2"
   ]
  },
  {
   "cell_type": "markdown",
   "metadata": {},
   "source": [
    "## Complexity\n",
    "\n",
    "1. Sorting the `citations` list: The sort operation has a time complexity of \\(O(N \\log N)\\) where \\(N\\) is the number of elements in the list.\n",
    "2. Traversing the sorted list: This operation has a linear time complexity of \\(O(N)\\).\n",
    "\n",
    "Therefore, the overall time complexity of the `h_index` function is:\n",
    "\\[O(N \\log N) + O(N)\\]\n",
    "Which simplifies to:\n",
    "\\[O(N \\log N)\\]\n",
    "\n",
    "So, the time complexity of the `h_index` function is \\(O(N \\log N)\\)."
   ]
  }
 ],
 "metadata": {
  "kernelspec": {
   "display_name": ".venv",
   "language": "python",
   "name": "python3"
  },
  "language_info": {
   "codemirror_mode": {
    "name": "ipython",
    "version": 3
   },
   "file_extension": ".py",
   "mimetype": "text/x-python",
   "name": "python",
   "nbconvert_exporter": "python",
   "pygments_lexer": "ipython3",
   "version": "3.10.10"
  }
 },
 "nbformat": 4,
 "nbformat_minor": 2
}
