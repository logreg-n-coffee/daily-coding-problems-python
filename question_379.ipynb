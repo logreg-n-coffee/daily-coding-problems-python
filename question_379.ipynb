{
 "cells": [
  {
   "cell_type": "markdown",
   "metadata": {},
   "source": [
    "# Question 379\n",
    "\n",
    "## Description\n",
    "\n",
    "Given a string, generate all possible subsequences of the string.\n",
    "\n",
    "For example, given the string xyz, return an array or set with the following strings:\n",
    "\n",
    "```text\n",
    "x\n",
    "y\n",
    "z\n",
    "xy\n",
    "xz\n",
    "yz\n",
    "xyz\n",
    "```\n",
    "\n",
    "Note that zx is not a valid subsequence since it is not in the order of the given string.\n"
   ]
  },
  {
   "cell_type": "code",
   "execution_count": 4,
   "metadata": {},
   "outputs": [
    {
     "name": "stdout",
     "output_type": "stream",
     "text": [
      "['xyz', 'xy', 'xz', 'x', 'yz', 'y', 'z']\n"
     ]
    }
   ],
   "source": [
    "# Less Efficient Method\n",
    "\n",
    "\n",
    "def gen_subsequence(s):\n",
    "    def recurse(index, path):\n",
    "        # Exclude the empty string\n",
    "        if index == len(s):\n",
    "            if path:\n",
    "                subsequences.append(\"\".join(path))\n",
    "            return\n",
    "        # Include the character at the current index\n",
    "        recurse(index + 1, path + [s[index]])\n",
    "        # Exclude the character at the current index\n",
    "        recurse(index + 1, path)\n",
    "\n",
    "    subsequences = []\n",
    "    recurse(0, [])\n",
    "    return subsequences\n",
    "\n",
    "\n",
    "# Time Complexity: O(n * 2^n)\n",
    "# Space Complexity: O(n * 2^n)\n",
    "# Example usage:\n",
    "string = \"xyz\"\n",
    "print(gen_subsequence(string))"
   ]
  },
  {
   "cell_type": "markdown",
   "metadata": {},
   "source": [
    "The complexity of generating all possible subsequences of a string is inherently high because the number of possible subsequences of a string of length \\( n \\) is \\( 2^n \\), and we can't improve on that in terms of the number of subsequences generated.\n",
    "\n",
    "However, there are ways to improve on the implementation:\n",
    "\n",
    "1. **String Concatenation**: In the recursive approach, using string concatenation is expensive because strings in Python are immutable, which means every concatenation creates a new string. We can use a list to accumulate characters and then join them only when we need to add the subsequence to the result list. This reduces the cost of concatenation throughout the recursive calls.\n",
    "\n",
    "2. **Generator**: Instead of creating all subsequences at once and storing them in memory, you can use a generator to yield subsequences on-the-fly. This approach can be more memory efficient, especially when the subsequences are consumed one by one.\n",
    "\n",
    "Let's improve the implementation with these optimizations:\n"
   ]
  },
  {
   "cell_type": "code",
   "execution_count": 5,
   "metadata": {},
   "outputs": [
    {
     "name": "stdout",
     "output_type": "stream",
     "text": [
      "abc\n",
      "ab\n",
      "ac\n",
      "a\n",
      "bc\n",
      "b\n",
      "c\n"
     ]
    }
   ],
   "source": [
    "def gen_subsequences(s):\n",
    "    def recurse(index, path):\n",
    "        if index == len(s):\n",
    "            # Exclude the empty string\n",
    "            if path:\n",
    "                yield \"\".join(path)\n",
    "            return\n",
    "        # Include the character at the current index\n",
    "        yield from recurse(index + 1, path + [s[index]])\n",
    "        # Exclude the character at the current index\n",
    "        yield from recurse(index + 1, path)\n",
    "\n",
    "    return recurse(0, [])\n",
    "\n",
    "\n",
    "# Time Complexity: O(n * 2^n)\n",
    "# Space Complexity: O(n * 2^n)\n",
    "# Example Usage:\n",
    "string = \"abc\"\n",
    "for subseq in gen_subsequences(string):\n",
    "    print(subseq)"
   ]
  }
 ],
 "metadata": {
  "kernelspec": {
   "display_name": ".venv",
   "language": "python",
   "name": "python3"
  },
  "language_info": {
   "codemirror_mode": {
    "name": "ipython",
    "version": 3
   },
   "file_extension": ".py",
   "mimetype": "text/x-python",
   "name": "python",
   "nbconvert_exporter": "python",
   "pygments_lexer": "ipython3",
   "version": "3.10.10"
  }
 },
 "nbformat": 4,
 "nbformat_minor": 2
}
