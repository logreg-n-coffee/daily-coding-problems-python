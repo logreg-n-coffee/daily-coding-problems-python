{
 "cells": [
  {
   "cell_type": "markdown",
   "metadata": {},
   "source": [
    "# Question 336\n",
    "\n",
    "## Description\n",
    "\n",
    "Write a program to determine how many distinct ways there are to create a max heap from a list of N given integers.\n",
    "\n",
    "For example, if N = 3, and our integers are [1, 2, 3], there are two ways, shown below.\n",
    "\n",
    "```text\n",
    "  3      3\n",
    " / \\    / \\\n",
    "1   2  2   1\n",
    "```\n"
   ]
  },
  {
   "cell_type": "markdown",
   "metadata": {},
   "source": [
    "Here's how the algorithm works:\n",
    "\n",
    "**Base Case**: If N is 0 or 1, there's only one max heap possible (an empty heap, or a heap with a single element).\n",
    "\n",
    "**Recursion**: For a heap of size N, the root must be the maximum element, and the remaining N - 1 elements must be divided into the left and right subtrees. For each possible division of the remaining elements into the left and right subtrees, we recursively compute the number of distinct max-heaps that can be formed in each subtree.\n"
   ]
  },
  {
   "cell_type": "code",
   "execution_count": 2,
   "metadata": {},
   "outputs": [
    {
     "name": "stdout",
     "output_type": "stream",
     "text": [
      "2\n",
      "2880\n"
     ]
    }
   ],
   "source": [
    "from math import comb\n",
    "\n",
    "\n",
    "# dp to store number of heaps for n elements\n",
    "dp = {}\n",
    "\n",
    "\n",
    "def left_subtree_elements(n) -> int:\n",
    "    if n == 1:\n",
    "        return 0\n",
    "\n",
    "    h = 0\n",
    "    while (2**h) <= n:\n",
    "        h += 1\n",
    "    h -= 1\n",
    "\n",
    "    # num of nodes at the last level of heap\n",
    "    last_level = n - ((2**h) - 1)\n",
    "\n",
    "    # max possible nodes in last level of heap\n",
    "    max_last_level = 2 ** (h - 1)\n",
    "\n",
    "    # nodes in the left subtree\n",
    "    if last_level >= (max_last_level // 2):\n",
    "        return (2**h) - 1\n",
    "    else:\n",
    "        return (2**h) - 1 - ((max_last_level // 2) - last_level)\n",
    "\n",
    "\n",
    "def count_max_heaps(n):\n",
    "    if n <= 1:\n",
    "        return 1\n",
    "\n",
    "    if n in dp:\n",
    "        return dp[n]\n",
    "\n",
    "    left = left_subtree_elements(n)\n",
    "\n",
    "    count = comb(n - 1, left) * count_max_heaps(left) * \\\n",
    "        (count_max_heaps(n - 1 - left))\n",
    "\n",
    "    dp[n] = count\n",
    "\n",
    "    return count\n",
    "\n",
    "\n",
    "if __name__ == \"__main__\":\n",
    "    print(count_max_heaps(3))\n",
    "    print(count_max_heaps(10))"
   ]
  },
  {
   "cell_type": "markdown",
   "metadata": {},
   "source": [
    "The complexity analysis of this algorithm can be broken down as follows:\n",
    "\n",
    "### Time Complexity\n",
    "\n",
    "1. **Dynamic Programming Table**: We build up the DP table for sizes ranging from 1 to `N`.\n",
    "\n",
    "2. **Calculating the Size of the Left Subtree**: For each `N`, the size of the left subtree is calculated in `O(log N)` time.\n",
    "\n",
    "3. **Combinatorial Calculation**: The \"N choose k\" calculation (`comb(N-1, left)`) takes `O(N)` time.\n",
    "\n",
    "Combining these, the overall time complexity can be approximated as follows:\n",
    "\n",
    "1. There are `O(N)` sub-problems we need to solve for `count_max_heaps(N)`.\n",
    "2. Each sub-problem takes `O(log N)` to calculate the left subtree size and `O(N)` to calculate the combinatorial value.\n",
    "\n",
    "So, the overall time complexity is `O(N^2 log N)`.\n",
    "\n",
    "### Space Complexity\n",
    "\n",
    "1. **DP Table**: The table uses `O(N)` space.\n",
    "2. **Recursion Stack**: In the worst case, the recursion depth can go up to `N`, consuming `O(N)` stack space.\n",
    "\n",
    "Combining these, the overall space complexity is `O(N)`.\n",
    "\n",
    "In summary:\n",
    "\n",
    "- Time Complexity: `O(N^2 log N)`\n",
    "- Space Complexity: `O(N)`\n"
   ]
  }
 ],
 "metadata": {
  "kernelspec": {
   "display_name": ".venv",
   "language": "python",
   "name": "python3"
  },
  "language_info": {
   "codemirror_mode": {
    "name": "ipython",
    "version": 3
   },
   "file_extension": ".py",
   "mimetype": "text/x-python",
   "name": "python",
   "nbconvert_exporter": "python",
   "pygments_lexer": "ipython3",
   "version": "3.10.10"
  }
 },
 "nbformat": 4,
 "nbformat_minor": 2
}
