{
 "cells": [
  {
   "cell_type": "markdown",
   "metadata": {},
   "source": [
    "# Question 400\n",
    "\n",
    "## Description\n",
    "\n",
    "This problem was asked by Goldman Sachs.\n",
    "\n",
    "Given a list of numbers `L`, implement a method `sum(i, j)` which returns the sum from the sublist `L[i:j]` (including i, excluding j).\n",
    "\n",
    "For example, given `L = [1, 2, 3, 4, 5]`, `sum(1, 3)` should return `sum([2, 3])`, which is 5.\n",
    "\n",
    "You can assume that you can do some pre-processing. sum() should be optimized over the pre-processing step.\n"
   ]
  },
  {
   "cell_type": "code",
   "execution_count": 3,
   "metadata": {},
   "outputs": [],
   "source": [
    "class ListSum:\n",
    "    def __init__(self, L):\n",
    "        self.cumulative_sum = [0] * (len(L) + 1)\n",
    "        for i in range(len(L)):\n",
    "            self.cumulative_sum[i + 1] = self.cumulative_sum[i] + L[i]\n",
    "\n",
    "    def sum(self, i, j):\n",
    "        return self.cumulative_sum[j] - self.cumulative_sum[i]"
   ]
  },
  {
   "cell_type": "code",
   "execution_count": 4,
   "metadata": {},
   "outputs": [
    {
     "data": {
      "text/plain": [
       "5"
      ]
     },
     "execution_count": 4,
     "metadata": {},
     "output_type": "execute_result"
    }
   ],
   "source": [
    "# Example usage\n",
    "L = [1, 2, 3, 4, 5]\n",
    "ls = ListSum(L)\n",
    "result = ls.sum(1, 3)  # Should return the sum of elements from index 1 to 2 (inclusive)\n",
    "result"
   ]
  },
  {
   "cell_type": "markdown",
   "metadata": {},
   "source": [
    "### Time Complexity\n",
    "\n",
    "1. **Pre-processing Step:**\n",
    "\n",
    "   - The pre-processing step involves calculating the cumulative sum of the list. This is done in a single pass through the list, which takes \\(O(n)\\) time, where \\(n\\) is the length of the list.\n",
    "\n",
    "2. **Sum Query:**\n",
    "\n",
    "   - Once the cumulative sums are pre-computed, each call to the `sum(i, j)` method takes constant time, \\(O(1)\\), because it involves only a subtraction operation.\n",
    "\n",
    "### Space Complexity\n",
    "\n",
    "- The space complexity is primarily determined by the additional array used to store the cumulative sums. This array has a length of \\(n + 1\\) (where \\(n\\) is the length of the original list), resulting in a space complexity of \\(O(n)\\).\n",
    "\n",
    "### Summary\n",
    "\n",
    "- Pre-processing Step: \\(O(n)\\) time\n",
    "- Sum Query: \\(O(1)\\) time per query\n",
    "- Overall Space Complexity: \\(O(n)\\)\n",
    "\n",
    "This approach is efficient for scenarios where there are multiple sum queries after a one-time pre-processing, as each query is answered in constant time regardless of the size of the sublist.\n"
   ]
  }
 ],
 "metadata": {
  "kernelspec": {
   "display_name": ".venv",
   "language": "python",
   "name": "python3"
  },
  "language_info": {
   "codemirror_mode": {
    "name": "ipython",
    "version": 3
   },
   "file_extension": ".py",
   "mimetype": "text/x-python",
   "name": "python",
   "nbconvert_exporter": "python",
   "pygments_lexer": "ipython3",
   "version": "3.10.10"
  }
 },
 "nbformat": 4,
 "nbformat_minor": 2
}
