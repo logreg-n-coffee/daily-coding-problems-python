{
 "cells": [
  {
   "cell_type": "markdown",
   "metadata": {},
   "source": [
    "# Question 368\n",
    "\n",
    "## Description\n",
    "\n",
    "Given two sorted iterators, merge it into one iterator.\n",
    "\n",
    "For example, given these two iterators:\n",
    "\n",
    "foo = iter([5, 10, 15])\n",
    "bar = iter([3, 8, 9])\n",
    "\n",
    "You should be able to do:\n",
    "\n",
    "```python\n",
    "for num in merge_iterators(foo, bar):\n",
    "    print(num)\n",
    "\n",
    "# 3\n",
    "# 5\n",
    "# 8\n",
    "# 9\n",
    "# 10\n",
    "# 15\n",
    "```\n",
    "\n",
    "Bonus: Make it work without pulling in the contents of the iterators in memory.\n"
   ]
  },
  {
   "cell_type": "code",
   "execution_count": 1,
   "metadata": {},
   "outputs": [
    {
     "data": {
      "text/plain": [
       "[3, 5, 8, 9, 10, 15]"
      ]
     },
     "execution_count": 1,
     "metadata": {},
     "output_type": "execute_result"
    }
   ],
   "source": [
    "def merge_iterations(iter1, iter2):\n",
    "    # Helper func to safely get the next item from an iterator\n",
    "    # or return None if it's exhausted\n",
    "    def safe_next(iter):\n",
    "        try:\n",
    "            return next(iter)\n",
    "        except StopIteration:\n",
    "            return None\n",
    "\n",
    "    # Get the first item from each iterator\n",
    "    item1 = safe_next(iter1)\n",
    "    item2 = safe_next(iter2)\n",
    "\n",
    "    # Loop until we've exhausted both iterators\n",
    "    while item1 is not None or item2 is not None:\n",
    "        # If one iterator is exhausted, yield the other\n",
    "        if item1 is None:\n",
    "            yield item2\n",
    "            item2 = safe_next(iter2)\n",
    "        elif item2 is None:\n",
    "            yield item1\n",
    "            item1 = safe_next(iter1)\n",
    "        # If both iterators still have items, yield the smaller one\n",
    "        elif item1 <= item2:\n",
    "            yield item1\n",
    "            item1 = safe_next(iter1)\n",
    "        else:\n",
    "            yield item2\n",
    "            item2 = safe_next(iter2)\n",
    "\n",
    "\n",
    "# Test cases\n",
    "foo = iter([5, 10, 15])\n",
    "bar = iter([3, 8, 9])\n",
    "\n",
    "merged_vals = list(merge_iterations(foo, bar))\n",
    "merged_vals"
   ]
  }
 ],
 "metadata": {
  "kernelspec": {
   "display_name": ".venv",
   "language": "python",
   "name": "python3"
  },
  "language_info": {
   "codemirror_mode": {
    "name": "ipython",
    "version": 3
   },
   "file_extension": ".py",
   "mimetype": "text/x-python",
   "name": "python",
   "nbconvert_exporter": "python",
   "pygments_lexer": "ipython3",
   "version": "3.10.10"
  }
 },
 "nbformat": 4,
 "nbformat_minor": 2
}
