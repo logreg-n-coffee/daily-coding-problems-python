{
 "cells": [
  {
   "cell_type": "markdown",
   "metadata": {},
   "source": [
    "# Question 356\n",
    "\n",
    "## Description\n",
    "\n",
    "Implement a queue using a set of fixed-length arrays.\n",
    "\n",
    "The queue should support `enqueue`, `dequeue`, and `get_size` operations."
   ]
  },
  {
   "cell_type": "code",
   "execution_count": 30,
   "metadata": {},
   "outputs": [],
   "source": [
    "class FixedArrayQueue:\n",
    "    def __init__(self, array_size=10):\n",
    "        self.array_size = array_size\n",
    "        self.queue = [[]]\n",
    "        self.enqueue_position = 0  # index for enqueuing elements\n",
    "        self.dequeue_position = 0  # index for dequeuing elements\n",
    "        self.current_array = 0  # index of the current array for enqueue operation\n",
    "        self.size = 0  # actual size of the queue\n",
    "\n",
    "    def enqueue(self, item):\n",
    "        if self.enqueue_position == self.array_size:  # Current array is full\n",
    "            self.queue.append([])  # Add a new array to the list\n",
    "            self.enqueue_position = 0\n",
    "            self.current_array += 1\n",
    "\n",
    "        self.queue[self.current_array].append(item)\n",
    "        self.enqueue_position += 1\n",
    "        self.size += 1\n",
    "\n",
    "    def dequeue(self):\n",
    "        if self.size == 0:\n",
    "            raise Exception(\"Queue is empty\")\n",
    "\n",
    "        # Fetch the item to dequeue\n",
    "        dequeued_item = self.queue[0][self.dequeue_position]\n",
    "\n",
    "        self.dequeue_position += 1\n",
    "        self.size -= 1\n",
    "\n",
    "        # Check if we've reached the end of the current array\n",
    "        if self.dequeue_position == self.array_size:\n",
    "            self.queue.pop(0)  # Remove the emptied array\n",
    "            self.dequeue_position = 0  # Reset position to the start of the next array\n",
    "            if self.current_array > 0:\n",
    "                self.current_array -= 1\n",
    "\n",
    "        return dequeued_item\n",
    "\n",
    "    def get_size(self):\n",
    "        return self.size"
   ]
  },
  {
   "cell_type": "code",
   "execution_count": 31,
   "metadata": {},
   "outputs": [
    {
     "name": "stdout",
     "output_type": "stream",
     "text": [
      "1\n",
      "3\n",
      "2\n",
      "3\n",
      "4\n"
     ]
    }
   ],
   "source": [
    "# Test the FixedArrayQueue\n",
    "queue = FixedArrayQueue(3)\n",
    "\n",
    "queue.enqueue(1)\n",
    "queue.enqueue(2)\n",
    "queue.enqueue(3)\n",
    "\n",
    "print(queue.dequeue())  # Expected output: 1\n",
    "\n",
    "queue.enqueue(4)\n",
    "\n",
    "print(queue.get_size())  # Expected output: 3\n",
    "print(queue.dequeue())  # Expected output: 2\n",
    "print(queue.dequeue())  # Expected output: 3\n",
    "print(queue.dequeue())  # Expected output: 4"
   ]
  }
 ],
 "metadata": {
  "kernelspec": {
   "display_name": ".venv",
   "language": "python",
   "name": "python3"
  },
  "language_info": {
   "codemirror_mode": {
    "name": "ipython",
    "version": 3
   },
   "file_extension": ".py",
   "mimetype": "text/x-python",
   "name": "python",
   "nbconvert_exporter": "python",
   "pygments_lexer": "ipython3",
   "version": "3.10.10"
  }
 },
 "nbformat": 4,
 "nbformat_minor": 2
}
