{
 "cells": [
  {
   "cell_type": "markdown",
   "metadata": {},
   "source": [
    "# Question 387\n",
    "\n",
    "## Description\n",
    "\n",
    "This problem was recently asked by Amazon.\n",
    "\n",
    "How would you explain the difference between an API and SDK to a non-technical person?\n"
   ]
  },
  {
   "cell_type": "markdown",
   "metadata": {},
   "source": [
    "Explaining the difference between an API (Application Programming Interface) and an SDK (Software Development Kit) to a non-technical person can be done by using simple analogies:\n",
    "\n",
    "1. **API - A Restaurant Menu**: Imagine you're at a restaurant. The menu provides a list of dishes you can order, along with a description of each dish. When you specify which dish you want, the kitchen (the system) prepares the meal and serves it. In this analogy, the menu is the API. It's the language through which you communicate what you want to the kitchen and what they can provide. Similarly, an API is a list of operations that developers can use, along with a description of what they do. The developer doesn't need to know how the API internals work, just like you don't need to know how the kitchen prepares your meal.\n",
    "\n",
    "2. **SDK - A Kitchen Set**: Now, think of an SDK as a kitchen set that comes with everything you need to make certain types of food or meals. This includes the utensils, pans, pots, and sometimes even the ingredients. An SDK is like this set because it's a collection of tools specifically designed to help you develop software. It might include APIs, code samples, libraries, and guides that all work together to help you build your software effectively.\n",
    "\n",
    "So, in simple terms, an API is a way for different software programs to communicate with each other, just like how you order from a menu at a restaurant. An SDK is a full-fledged toolkit that includes everything you need for specific software development, similar to having a complete kitchen set with all the tools and ingredients for cooking.\n"
   ]
  }
 ],
 "metadata": {
  "language_info": {
   "name": "python"
  }
 },
 "nbformat": 4,
 "nbformat_minor": 2
}
