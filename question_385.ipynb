{
 "cells": [
  {
   "cell_type": "markdown",
   "metadata": {},
   "source": [
    "## Question 385\n",
    "\n",
    "# Description\n",
    "\n",
    "This problem was asked by Apple.\n",
    "\n",
    "You are given a hexadecimal-encoded string that has been XOR'd against a single char.\n",
    "\n",
    "Decrypt the message. For example, given the string:\n",
    "\n",
    "`7a575e5e5d12455d405e561254405d5f1276535b5e4b12715d565b5c551262405d505e575f`\n",
    "\n",
    "You should be able to decrypt it and get:\n",
    "\n",
    "`Hello world from Daily Coding Problem`\n"
   ]
  },
  {
   "cell_type": "code",
   "execution_count": 1,
   "metadata": {},
   "outputs": [],
   "source": [
    "from collections import Counter\n",
    "\n",
    "\n",
    "def frequency_analysis_decrypt(hex_string):\n",
    "    \"\"\"\n",
    "    decrypts a hex string by frequency analysis\n",
    "    \"\"\"\n",
    "    hex_bytes = bytes.fromhex(hex_string)\n",
    "\n",
    "    # count the frequency of each byte in the hex string\n",
    "    freq = Counter(hex_bytes)\n",
    "\n",
    "    # most common byte is in the hex string\n",
    "    most_common_bytes = [x[0] for x in freq.most_common(4)]\n",
    "\n",
    "    # common characters in English\n",
    "    common_chars = [ord(\"e\"), ord(\"t\"), ord(\"a\"), ord(\"o\")]\n",
    "\n",
    "    decrypted_messages = []\n",
    "\n",
    "    # try XOR with the most common bytes against common English characters\n",
    "    for byte in most_common_bytes:\n",
    "        for char in common_chars:\n",
    "            key = byte ^ char\n",
    "            decrypted = \"\".join([chr(b ^ key) for b in hex_bytes])\n",
    "            if all(32 <= ord(c) <= 126 for c in decrypted):\n",
    "                decrypted_messages.append((chr(key), decrypted))\n",
    "\n",
    "    return decrypted_messages"
   ]
  },
  {
   "cell_type": "code",
   "execution_count": 2,
   "metadata": {},
   "outputs": [
    {
     "data": {
      "text/plain": [
       "[(';', 'Aleef)~f{em)o{fd)Mh`ep)Jfm`gn)Y{fkeld'),\n",
       " ('1', 'Kfool#tlqog#eqln#Gbjoz#@lgjmd#Sqlaofn'),\n",
       " ('8', 'Boffe*}exfn*lxeg*Nkcfs*Iencdm*Zxehfog'),\n",
       " ('<', 'Fkbba.ya|bj.h|ac.Jogbw.Majg`i.^|albkc'),\n",
       " ('2', 'Hello world from Daily Coding Problem'),\n",
       " ('%', '_r{{x7`xe{s7qexz7Sv~{n7Txs~yp7Gexu{rz')]"
      ]
     },
     "execution_count": 2,
     "metadata": {},
     "output_type": "execute_result"
    }
   ],
   "source": [
    "# Decrypt the message using frequency analysis\n",
    "decrypted_messages_frequency_analysis = frequency_analysis_decrypt('7a575e5e5d12455d405e561254405d5f1276535b5e4b12715d565b5c551262405d505e575f')\n",
    "decrypted_messages_frequency_analysis"
   ]
  },
  {
   "cell_type": "markdown",
   "metadata": {},
   "source": [
    "## Analysis\n",
    "\n",
    "Given the nature of the problem, let's try the Frequency Analysis method, assuming the original message is in English. The most common letters in the English language are 'e', 't', 'a', and 'o'. We can attempt to decrypt the message by XOR'ing the most common characters in the hexadecimal string against these letters.\n",
    "\n",
    "Using frequency analysis, the decryption process successfully revealed the expected message:\n",
    "\n",
    "`Hello world from Daily Coding Problem`\n",
    "\n",
    "This message was obtained by XOR'ing the most common bytes in the hexadecimal string against common English characters (e.g., 'e', 't', 'a', 'o'). The key that resulted in this decryption was the ASCII character '2'.\n"
   ]
  },
  {
   "cell_type": "markdown",
   "metadata": {},
   "source": [
    "The complexity analysis for the decryption method we used, particularly the frequency analysis approach, can be broken down into two parts: the complexity of finding the most common bytes in the hex string, and the complexity of trying each of these bytes as a key against a set of common English characters.\n",
    "\n",
    "1. **Finding Most Common Bytes**:\n",
    "\n",
    "   - We first convert the hexadecimal string into bytes, which is an \\( O(n) \\) operation where \\( n \\) is the length of the hexadecimal string.\n",
    "   - Then, we use a counter to find the frequency of each byte. Counting each byte in a sequence of length \\( n \\) is also an \\( O(n) \\) operation.\n",
    "   - Extracting the most common bytes from this frequency distribution is generally \\( O(1) \\) since we are only interested in the top few elements (not dependent on \\( n \\)).\n",
    "\n",
    "2. **Trying Each Byte as a Key**:\n",
    "   - For each of the most common bytes, we try XOR'ing this byte with each of the common English characters. If we assume there are \\( m \\) common bytes and \\( k \\) common English characters, this results in \\( m \\times k \\) trials.\n",
    "   - Each XOR operation over the sequence of bytes is \\( O(n) \\), so the total complexity for this part is \\( O(m \\times k \\times n) \\). Given that \\( m \\) and \\( k \\) are small and fixed (independent of \\( n \\)), this can be simplified to \\( O(n) \\).\n",
    "\n",
    "Overall, the complexity of the entire process is dominated by the length of the hexadecimal string, leading to a **total time complexity of \\( O(n) \\)**.\n",
    "\n",
    "Regarding space complexity:\n",
    "\n",
    "- We store the frequency distribution of the bytes, which, in the worst case, could have as many entries as there are distinct bytes in the input. However, since the range of a byte is fixed (0-255), this is a constant \\( O(1) \\) space complexity.\n",
    "- The space required for storing the decrypted messages is proportional to the length of the hex string, so it is \\( O(n) \\).\n",
    "\n",
    "Thus, the **total space complexity is \\( O(n) \\)**, primarily due to the storage of the decrypted messages.\n"
   ]
  }
 ],
 "metadata": {
  "kernelspec": {
   "display_name": ".venv",
   "language": "python",
   "name": "python3"
  },
  "language_info": {
   "codemirror_mode": {
    "name": "ipython",
    "version": 3
   },
   "file_extension": ".py",
   "mimetype": "text/x-python",
   "name": "python",
   "nbconvert_exporter": "python",
   "pygments_lexer": "ipython3",
   "version": "3.10.10"
  }
 },
 "nbformat": 4,
 "nbformat_minor": 2
}
