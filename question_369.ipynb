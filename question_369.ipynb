{
 "cells": [
  {
   "cell_type": "markdown",
   "metadata": {},
   "source": [
    "# Question 369\n",
    "\n",
    "## Description\n",
    "\n",
    "You’re tracking stock price at a given instance of time. Implement an API with the following functions: add(), update(), remove(), which adds/updates/removes a datapoint for the stock price you are tracking. The data is given as (timestamp, price), where timestamp is specified in unix epoch time.\n",
    "\n",
    "Also, provide max(), min(), and average() functions that give the max/min/average of all values seen thus far.\n"
   ]
  },
  {
   "cell_type": "markdown",
   "metadata": {},
   "source": [
    "## Solution\n",
    "\n",
    "Here's what we'll do:\n",
    "\n",
    "1. Create a class called `StockTracker` which will have the following methods:\n",
    "\n",
    "   - `add(timestamp, price)`: Adds a new data point.\n",
    "   - `update(timestamp, price)`: Updates an existing data point.\n",
    "   - `remove(timestamp)`: Removes a data point based on the timestamp.\n",
    "   - `max()`: Returns the maximum price seen thus far.\n",
    "   - `min()`: Returns the minimum price seen thus far.\n",
    "   - `average()`: Returns the average of all prices seen thus far.\n",
    "\n",
    "2. We'll use a dictionary (hashmap) to store the timestamp-price pairs for O(1) add, update, and remove operations.\n",
    "3. We'll also maintain a total count and sum of prices for the average calculation. For the max and min operations, we'll maintain variables that track the current max and min values.\n"
   ]
  },
  {
   "cell_type": "code",
   "execution_count": 1,
   "metadata": {},
   "outputs": [],
   "source": [
    "class StockTracker:\n",
    "    def __init__(self):\n",
    "        # dictionary to store timestamp and price pairs\n",
    "        self.data = {}\n",
    "\n",
    "        # variables to store the sum, count, max and min of prices\n",
    "        self.total_price = 0\n",
    "        self.count = 0\n",
    "        self.max_price = float(\"-inf\")\n",
    "        self.min_price = float(\"inf\")\n",
    "\n",
    "    def add(self, timestamp, price):\n",
    "        # if timestamp already exists, it's an update operation\n",
    "        if timestamp in self.data:\n",
    "            self.update(timestamp, price)\n",
    "        else:\n",
    "            # add the new data point\n",
    "            self.data[timestamp] = price\n",
    "\n",
    "            # update the sum, count, max and min variables\n",
    "            self.total_price += price\n",
    "            self.count += 1\n",
    "            self.max_price = max(self.max_price, price)\n",
    "            self.min_price = min(self.min_price, price)\n",
    "\n",
    "    def update(self, timestamp, price):\n",
    "        # Update only if time stamp exists\n",
    "        if timestamp in self.data:\n",
    "            # deduct the old price from the total_price\n",
    "            self.total_price -= self.data[timestamp]\n",
    "\n",
    "            # update the data point\n",
    "            self.data[timestamp] = price\n",
    "\n",
    "            # add the new price to total_price\n",
    "            self.total_price += price\n",
    "\n",
    "            # update the max and min prices\n",
    "            self.max_price = max(self.max_price, price)\n",
    "            self.min_price = min(self.min_price, price)\n",
    "\n",
    "    def remove(self, timestamp):\n",
    "        # remove only if if timestamp exists\n",
    "        if timestamp in self.data:\n",
    "            # deduct the price from the total_price\n",
    "            self.total_price -= self.data[timestamp]\n",
    "\n",
    "            # remove the data point\n",
    "            del self.data[timestamp]\n",
    "\n",
    "            # update the count\n",
    "            self.count -= 1\n",
    "\n",
    "            # update the max and min prices\n",
    "            self.max_price = max(self.data.values())\n",
    "            self.min_price = min(self.data.values())\n",
    "\n",
    "    def max(self):\n",
    "        return self.max_price if self.data else None\n",
    "\n",
    "    def min(self):\n",
    "        return self.min_price if self.data else None\n",
    "\n",
    "    def average(self):\n",
    "        return self.total_price / self.count if self.data else None"
   ]
  },
  {
   "cell_type": "code",
   "execution_count": 2,
   "metadata": {},
   "outputs": [
    {
     "data": {
      "text/plain": [
       "(50, 55, 52.333333333333336)"
      ]
     },
     "execution_count": 2,
     "metadata": {},
     "output_type": "execute_result"
    }
   ],
   "source": [
    "# Testing the StockTracker class\n",
    "tracker = StockTracker()\n",
    "tracker.add(1634985600, 50)\n",
    "tracker.add(1635072000, 55)\n",
    "tracker.add(1635158400, 52)\n",
    "\n",
    "min_price = tracker.min()\n",
    "max_price = tracker.max()\n",
    "avg_price = tracker.average()\n",
    "\n",
    "min_price, max_price, avg_price"
   ]
  }
 ],
 "metadata": {
  "kernelspec": {
   "display_name": ".venv",
   "language": "python",
   "name": "python3"
  },
  "language_info": {
   "codemirror_mode": {
    "name": "ipython",
    "version": 3
   },
   "file_extension": ".py",
   "mimetype": "text/x-python",
   "name": "python",
   "nbconvert_exporter": "python",
   "pygments_lexer": "ipython3",
   "version": "3.10.10"
  }
 },
 "nbformat": 4,
 "nbformat_minor": 2
}
