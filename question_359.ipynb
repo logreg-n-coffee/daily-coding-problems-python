{
 "cells": [
  {
   "cell_type": "markdown",
   "metadata": {},
   "source": [
    "# Question 359\n",
    "\n",
    "## Description\n",
    "\n",
    "You are given a string formed by concatenating several words corresponding to the integers zero through nine and then anagramming.\n",
    "\n",
    "For example, the input could be 'niesevehrtfeev', which is an anagram of 'threefiveseven'. Note that there can be multiple instances of each integer.\n",
    "\n",
    "Given this string, return the original integers in sorted order. In the example above, this would be 357."
   ]
  },
  {
   "cell_type": "code",
   "execution_count": 2,
   "metadata": {},
   "outputs": [
    {
     "name": "stdout",
     "output_type": "stream",
     "text": [
      "357\n"
     ]
    }
   ],
   "source": [
    "def original_numbers(s: str) -> int:\n",
    "    # Each tuple contains the unique letter for that word, the corresponding number, and the word itself\n",
    "    patterns = [\n",
    "        ('z', 0, 'zero'),\n",
    "        ('w', 2, 'two'),\n",
    "        ('u', 4, 'four'),\n",
    "        ('x', 6, 'six'),\n",
    "        ('g', 8, 'eight'),\n",
    "        ('o', 1, 'one'),  # Remaining 1's after removing 0, 2, 4\n",
    "        ('h', 3, 'three'),  # Remaining 3's after removing 8\n",
    "        ('f', 5, 'five'),  # Remaining 5's after removing 4\n",
    "        ('s', 7, 'seven'),  # Remaining 7's after removing 6\n",
    "        ('i', 9, 'nine')   # Remaining 9's after removing 5, 6, 8\n",
    "    ]\n",
    "    \n",
    "    count = [0] * 10\n",
    "    for ch, num, word in patterns:\n",
    "        while ch in s:\n",
    "            count[num] += 1\n",
    "            for letter in word:\n",
    "                s = s.replace(letter, '', 1)\n",
    "\n",
    "    result = ''\n",
    "    for i in range(10):\n",
    "        result += str(i) * count[i]\n",
    "    \n",
    "    return int(result)\n",
    "\n",
    "# Test\n",
    "s = \"niesevehrtfeev\"\n",
    "print(original_numbers(s))  # Expected output: 357\n"
   ]
  }
 ],
 "metadata": {
  "kernelspec": {
   "display_name": ".venv",
   "language": "python",
   "name": "python3"
  },
  "language_info": {
   "codemirror_mode": {
    "name": "ipython",
    "version": 3
   },
   "file_extension": ".py",
   "mimetype": "text/x-python",
   "name": "python",
   "nbconvert_exporter": "python",
   "pygments_lexer": "ipython3",
   "version": "3.10.10"
  }
 },
 "nbformat": 4,
 "nbformat_minor": 2
}
