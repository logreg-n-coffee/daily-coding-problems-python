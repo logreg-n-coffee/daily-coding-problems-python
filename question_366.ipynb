{
 "cells": [
  {
   "cell_type": "markdown",
   "metadata": {},
   "source": [
    "# Question 366\n",
    "\n",
    "## Description\n",
    "\n",
    "This problem was asked by Flexport.\n",
    "\n",
    "Given a string s, rearrange the characters so that any two adjacent characters are not the same. If this is not possible, return null.\n",
    "\n",
    "For example, if `s = yyz` then return `yzy`. If `s = yyy` then return null.\n"
   ]
  },
  {
   "cell_type": "markdown",
   "metadata": {},
   "source": [
    "## Solution\n",
    "\n",
    "1. Count the frequency of each character in the string.\n",
    "2. Sort the characters based on their frequencies in decreasing order.\n",
    "3. Create a new string where we place the most frequent characters first, while ensuring that no two adjacent characters are the same.\n",
    "4. If at any point, we can't place a character without violating the condition, return null.\n"
   ]
  },
  {
   "cell_type": "code",
   "execution_count": 4,
   "metadata": {},
   "outputs": [],
   "source": [
    "from collections import Counter\n",
    "from heapq import heappush, heappop\n",
    "\n",
    "\n",
    "def rearrange(s):\n",
    "    # count the frequency of each character in the string\n",
    "    counter = Counter(s)\n",
    "\n",
    "    # sort the characters by frequency (highest to lowest) - use heap\n",
    "    max_heap = []\n",
    "    for char, freq in counter.items():\n",
    "        heappush(max_heap, (-freq, char))  # use -freq to make it a max heap\n",
    "\n",
    "    result = []\n",
    "    prev_char = None\n",
    "    prev_freq = 0\n",
    "\n",
    "    # create a new string where we place the most frequent characters first\n",
    "    while max_heap:\n",
    "        freq, char = heappop(max_heap)\n",
    "\n",
    "        # If it's not possible to place a character without violating the condition, return None\n",
    "        if char == prev_char:\n",
    "            return None\n",
    "\n",
    "        result.append(char)\n",
    "\n",
    "        # Decrease the frequency of the current character\n",
    "        freq += 1\n",
    "\n",
    "        # If the previous character's frequency was more than 0, push it back to the heap\n",
    "        if prev_freq < 0:\n",
    "            heappush(max_heap, (prev_freq, prev_char))\n",
    "\n",
    "        # Update previous character and its frequency\n",
    "        prev_char, prev_freq = char, freq\n",
    "\n",
    "    # If the last character has a frequency greater than 0 (i.e., there are still some instances of the character left)\n",
    "    # and it's the same as the last placed character, return null\n",
    "    if prev_freq < 0:\n",
    "        return None\n",
    "\n",
    "    return \"\".join(result)"
   ]
  },
  {
   "cell_type": "code",
   "execution_count": 5,
   "metadata": {},
   "outputs": [
    {
     "data": {
      "text/plain": [
       "['yzy', None]"
      ]
     },
     "execution_count": 5,
     "metadata": {},
     "output_type": "execute_result"
    }
   ],
   "source": [
    "# Test the function with the provided examples\n",
    "test_strings = [\"yyz\", \"yyy\"]\n",
    "results = [rearrange(s) for s in test_strings]\n",
    "results"
   ]
  }
 ],
 "metadata": {
  "kernelspec": {
   "display_name": ".venv",
   "language": "python",
   "name": "python3"
  },
  "language_info": {
   "codemirror_mode": {
    "name": "ipython",
    "version": 3
   },
   "file_extension": ".py",
   "mimetype": "text/x-python",
   "name": "python",
   "nbconvert_exporter": "python",
   "pygments_lexer": "ipython3",
   "version": "3.10.10"
  }
 },
 "nbformat": 4,
 "nbformat_minor": 2
}
