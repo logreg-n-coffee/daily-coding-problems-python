{
 "cells": [
  {
   "cell_type": "markdown",
   "metadata": {},
   "source": [
    "# Question 329\n",
    "\n",
    "The stable marriage problem is defined as follows:\n",
    "\n",
    "Suppose you have N men and N women, and each person has ranked their prospective opposite-sex partners in order of preference.\n",
    "\n",
    "For example, if N = 3, the input could be something like this:\n",
    "\n",
    "```python\n",
    "guy_preferences = {\n",
    "    'andrew': ['caroline', 'abigail', 'betty'],\n",
    "    'bill': ['caroline', 'betty', 'abigail'],\n",
    "    'chester': ['betty', 'caroline', 'abigail'],\n",
    "}\n",
    "\n",
    "gal_preferences = {\n",
    "    'abigail': ['andrew', 'bill', 'chester'],\n",
    "    'betty': ['bill', 'andrew', 'chester'],\n",
    "    'caroline': ['bill', 'chester', 'andrew']\n",
    "}\n",
    "```\n",
    "\n",
    "Write an algorithm that pairs the men and women together in such a way that no two people of opposite sex would both rather be with each other than with their current partners.\n"
   ]
  },
  {
   "cell_type": "code",
   "execution_count": 2,
   "metadata": {},
   "outputs": [
    {
     "name": "stdout",
     "output_type": "stream",
     "text": [
      "[('m1', 'w1'), ('m2', 'w2'), ('m3', 'w3')]\n",
      "[('bill', 'caroline'), ('chester', 'betty'), ('andrew', 'abigail')]\n"
     ]
    }
   ],
   "source": [
    "# Solve the problem with Gale-Shapley algorithm - Time: O(n^2) - Space: O(n)\n",
    "def stable_matching(men_preferences, women_preferences):\n",
    "    # Initialize all men and women to be free.\n",
    "    free_men = list(men_preferences.keys())\n",
    "    engaged = {}\n",
    "\n",
    "    # Each man proposes to women according to his preference list\n",
    "    # until everyone is engaged.\n",
    "    while free_men:\n",
    "        man = free_men.pop(0)\n",
    "        man_preferences = men_preferences[man]\n",
    "\n",
    "        for woman in man_preferences:\n",
    "            # Check if this woman is already engaged.\n",
    "            fiance = engaged.get(woman)\n",
    "\n",
    "            if not fiance:\n",
    "                # The woman is free, engage her with the man.\n",
    "                engaged[woman] = man\n",
    "                break\n",
    "\n",
    "            # If the woman is already engaged, she will consider to\n",
    "            # \"cheat\" if she prefers this man over her current fiance.\n",
    "            woman_preferences = women_preferences[woman]\n",
    "\n",
    "            if woman_preferences.index(man) < woman_preferences.index(fiance):\n",
    "                # The woman prefers this man over her current fiance.\n",
    "                # Break the engagement with the fiance and engage her with this man.\n",
    "                engaged[woman] = man\n",
    "                free_men.append(fiance)\n",
    "                break\n",
    "\n",
    "    # Return the set of engaged pairs.\n",
    "    return [(man, woman) for woman, man in engaged.items()]\n",
    "\n",
    "\n",
    "# Example usage:\n",
    "men_preferences = {\n",
    "    'm1': ['w1', 'w2', 'w3'],\n",
    "    'm2': ['w2', 'w3', 'w1'],\n",
    "    'm3': ['w3', 'w1', 'w2']\n",
    "}\n",
    "\n",
    "women_preferences = {\n",
    "    'w1': ['m1', 'm2', 'm3'],\n",
    "    'w2': ['m2', 'm3', 'm1'],\n",
    "    'w3': ['m3', 'm1', 'm2']\n",
    "}\n",
    "\n",
    "guy_preferences = {\n",
    "    'andrew': ['caroline', 'abigail', 'betty'],\n",
    "    'bill': ['caroline', 'betty', 'abigail'],\n",
    "    'chester': ['betty', 'caroline', 'abigail'],\n",
    "}\n",
    "\n",
    "gal_preferences = {\n",
    "    'abigail': ['andrew', 'bill', 'chester'],\n",
    "    'betty': ['bill', 'andrew', 'chester'],\n",
    "    'caroline': ['bill', 'chester', 'andrew']\n",
    "}\n",
    "\n",
    "# multiple stable matchings can exist for the same problem; this algorithm will find one of them.\n",
    "print(stable_matching(men_preferences, women_preferences))\n",
    "print(stable_matching(guy_preferences, gal_preferences))"
   ]
  }
 ],
 "metadata": {
  "kernelspec": {
   "display_name": ".venv",
   "language": "python",
   "name": "python3"
  },
  "language_info": {
   "codemirror_mode": {
    "name": "ipython",
    "version": 3
   },
   "file_extension": ".py",
   "mimetype": "text/x-python",
   "name": "python",
   "nbconvert_exporter": "python",
   "pygments_lexer": "ipython3",
   "version": "3.10.10"
  }
 },
 "nbformat": 4,
 "nbformat_minor": 2
}
