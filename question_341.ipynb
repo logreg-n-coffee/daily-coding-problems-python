{
 "cells": [
  {
   "cell_type": "markdown",
   "metadata": {},
   "source": [
    "# Question 341\n",
    "\n",
    "## Description\n",
    "\n",
    "You are given an N by N matrix of random letters and a dictionary of words. Find the maximum number of words that can be packed on the board from the given dictionary.\n",
    "\n",
    "A word is considered to be able to be packed on the board if:\n",
    "\n",
    "It can be found in the dictionary\n",
    "It can be constructed from untaken letters by other words found so far on the board\n",
    "The letters are adjacent to each other (vertically and horizontally, not diagonally).\n",
    "Each tile can be visited only once by any word.\n",
    "\n",
    "For example, given the following dictionary:\n",
    "\n",
    "{ 'eat', 'rain', 'in', 'rat' }\n",
    "and matrix:\n",
    "\n",
    "[['e', 'a', 'n'],\n",
    " ['t', 't', 'i'],\n",
    " ['a', 'r', 'a']]\n",
    "Your function should return 3, since we can make the words 'eat', 'in', and 'rat' without them touching each other. We could have alternatively made 'eat' and 'rain', but that would be incorrect since that's only 2 words.\n",
    "\n"
   ]
  },
  {
   "cell_type": "code",
   "execution_count": 3,
   "metadata": {},
   "outputs": [],
   "source": [
    "DIRECTIONS = [\n",
    "    (1, 0),\n",
    "    (-1, 0),\n",
    "    (0, 1),\n",
    "    (0, -1),\n",
    "]\n",
    "\n",
    "\n",
    "def max_words(board, n, m, words, visited, r, c, curr_word):\n",
    "    if r < 0 or r >= n or c < 0 or c >= m or visited[r][c]:\n",
    "        return []\n",
    "\n",
    "    curr_word += board[r][c]\n",
    "    # if no words in |words| start with |curr_word|, then return early.\n",
    "    if not any(word.startswith(curr_word) for word in words):\n",
    "        return []\n",
    "\n",
    "    visited[r][c] = True\n",
    "\n",
    "    max_word_set = []\n",
    "    if curr_word in words:\n",
    "        # A valid words has been found: terminate current word search and start a new one\n",
    "        for r, row in enumerate(board):\n",
    "            for c, val in enumerate(row):\n",
    "                curr_word_set = max_words(board, n, m, words, visited, r, c, '')\n",
    "                if len(curr_word_set) > len(max_word_set):\n",
    "                    max_word_set = curr_word_set\n",
    "        max_word_set.append(curr_word)\n",
    "    else:\n",
    "        for dr, dc in DIRECTIONS:\n",
    "            curr_word_set = max_words(board, n, m, words, visited, r + dr, c + dc, curr_word)\n",
    "            if len(curr_word_set) > len(max_word_set):\n",
    "                max_word_set = curr_word_set\n",
    "\n",
    "    visited[r][c] = False\n",
    "    return max_word_set\n",
    "\n",
    "\n",
    "def find_max_words(board, words):\n",
    "    if not board:\n",
    "        return 0\n",
    "\n",
    "    n, m = len(board), len(board[0])\n",
    "    visited = [[False for _ in range(m)] for _ in range(n)]\n",
    "    max_words_so_far = []\n",
    "\n",
    "    for r, row in enumerate(board):\n",
    "        for c, val in enumerate(row):\n",
    "            word_set = max_words(board, n, m, words, visited, r, c, '')\n",
    "            if len(word_set) > len(max_words_so_far):\n",
    "                max_words_so_far = word_set\n",
    "\n",
    "    print(max_words_so_far)\n",
    "    return len(max_words_so_far)"
   ]
  },
  {
   "cell_type": "code",
   "execution_count": 4,
   "metadata": {},
   "outputs": [
    {
     "name": "stdout",
     "output_type": "stream",
     "text": [
      "['rat', 'in', 'eat']\n",
      "3\n"
     ]
    }
   ],
   "source": [
    "# Test the function with the given example\n",
    "matrix = [['e', 'a', 'n'], ['t', 't', 'i'], ['a', 'r', 'a']]\n",
    "word_dict = {'eat', 'rain', 'in', 'rat'}\n",
    "print(find_max_words(matrix, word_dict))  # Output: 3"
   ]
  }
 ],
 "metadata": {
  "kernelspec": {
   "display_name": ".venv",
   "language": "python",
   "name": "python3"
  },
  "language_info": {
   "codemirror_mode": {
    "name": "ipython",
    "version": 3
   },
   "file_extension": ".py",
   "mimetype": "text/x-python",
   "name": "python",
   "nbconvert_exporter": "python",
   "pygments_lexer": "ipython3",
   "version": "3.10.10"
  }
 },
 "nbformat": 4,
 "nbformat_minor": 2
}
