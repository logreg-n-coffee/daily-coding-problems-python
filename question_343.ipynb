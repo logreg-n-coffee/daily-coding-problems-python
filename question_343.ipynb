{
 "cells": [
  {
   "cell_type": "markdown",
   "metadata": {},
   "source": [
    "# Question 343\n",
    "\n",
    "## Description \n",
    "\n",
    "Given a binary search tree and a range [a, b] (inclusive), return the sum of the elements of the binary search tree within the range.\n",
    "\n",
    "For example, given the following tree:\n",
    "\n",
    "```text\n",
    "    5\n",
    "   / \\\n",
    "  3   8\n",
    " / \\ / \\\n",
    "2  4 6  10\n",
    "```\n",
    "\n",
    "and the range [4, 9], return 23 (5 + 4 + 6 + 8)."
   ]
  },
  {
   "cell_type": "code",
   "execution_count": 1,
   "metadata": {},
   "outputs": [],
   "source": [
    "class TreeNode:\n",
    "    def __init__(self, value = 0, left = None, right = None):\n",
    "        self.value = value\n",
    "        self.left = left\n",
    "        self.right = right\n",
    "        \n",
    "def range_sum_bst(root: TreeNode, low: int, high: int):\n",
    "    def dfs(node):\n",
    "        if not node:\n",
    "            return 0 \n",
    "        \n",
    "        # in-order traversal: left -> node -> right\n",
    "        total = 0\n",
    "        if low <= node.value <= high:\n",
    "            total += node.value\n",
    "            \n",
    "        if low < node.value:\n",
    "            total += dfs(node.left)\n",
    "            \n",
    "        if node.value < high:\n",
    "            total += dfs(node.right)\n",
    "            \n",
    "        return total\n",
    "    \n",
    "    return dfs(root)"
   ]
  },
  {
   "cell_type": "code",
   "execution_count": 2,
   "metadata": {},
   "outputs": [
    {
     "name": "stdout",
     "output_type": "stream",
     "text": [
      "23\n"
     ]
    }
   ],
   "source": [
    "# Example Usage\n",
    "root = TreeNode(5)\n",
    "root.left = TreeNode(3)\n",
    "root.right = TreeNode(8)\n",
    "root.left.left = TreeNode(2)\n",
    "root.left.right = TreeNode(4)\n",
    "root.right.left = TreeNode(6)\n",
    "root.right.right = TreeNode(10)\n",
    "\n",
    "print(range_sum_bst(root, 4, 9))  # Output: 23\n",
    "\n",
    "# Complexity Analysis:\n",
    "# Where N is the number of nodes in the tree:\n",
    "# Time Complexity: O(N) for the worst case; O(logN) for the best case.\n",
    "# Space Complexity: O(N) for the worst case; O(logN) for the best case."
   ]
  }
 ],
 "metadata": {
  "kernelspec": {
   "display_name": ".venv",
   "language": "python",
   "name": "python3"
  },
  "language_info": {
   "codemirror_mode": {
    "name": "ipython",
    "version": 3
   },
   "file_extension": ".py",
   "mimetype": "text/x-python",
   "name": "python",
   "nbconvert_exporter": "python",
   "pygments_lexer": "ipython3",
   "version": "3.10.10"
  }
 },
 "nbformat": 4,
 "nbformat_minor": 2
}
