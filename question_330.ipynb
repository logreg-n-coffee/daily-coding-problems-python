{
 "cells": [
  {
   "cell_type": "markdown",
   "metadata": {},
   "source": [
    "# Question 330\n",
    "\n",
    "## Description\n",
    "\n",
    "A Boolean formula can be said to be satisfiable if there is a way to assign truth values to each variable such that the entire formula evaluates to true.\n",
    "\n",
    "For example, suppose we have the following formula, where the symbol ¬ is used to denote negation:\n",
    "\n",
    "`(¬c OR b) AND (b OR c) AND (¬b OR c) AND (¬c OR ¬a)`\n",
    "\n",
    "One way to satisfy this formula would be to let a = False, b = True, and c = True.\n",
    "\n",
    "This type of formula, with AND statements joining tuples containing exactly one OR, is known as 2-CNF.\n",
    "\n",
    "Given a 2-CNF formula, find a way to assign truth values to satisfy it, or return False if this is impossible.\n"
   ]
  },
  {
   "cell_type": "markdown",
   "metadata": {},
   "source": [
    "## Solution\n",
    "\n",
    "To solve a 2-CNF formula, one common approach is to convert it into a graph and then use strongly connected components to determine whether it's satisfiable or not. The graph-based method uses an \"implication graph\".\n",
    "\n",
    "Here's how you can construct the implication graph:\n",
    "\n",
    "1. For each clause (x OR y), add two directed edges in the graph: ¬x -> y and ¬y -> x.\n",
    "2. If a clause is (¬x OR y), then add the directed edges x -> y and ¬y -> ¬x.\n",
    "\n",
    "The idea is to look for strongly connected components in this graph. If a variable and its negation exist in the same strongly connected component, then the formula is unsatisfiable.\n",
    "\n",
    "Once we have the strongly connected components, we can assign truth values in such a way as to make the formula satisfiable.\n"
   ]
  },
  {
   "cell_type": "code",
   "execution_count": 5,
   "metadata": {},
   "outputs": [
    {
     "name": "stdout",
     "output_type": "stream",
     "text": [
      "{'a': False, 'c': True, 'b': True}\n",
      "{'a': True}\n",
      "False\n"
     ]
    }
   ],
   "source": [
    "from typing import Union\n",
    "\n",
    "\n",
    "def generate_combinations(num: int) -> list[list[bool]]:\n",
    "    # generate all boolean combinations for the given number of variables\n",
    "    numbers = [num for num in range(pow(2, num))]\n",
    "    combinations = []\n",
    "    for number in numbers:\n",
    "        bin_number = bin(number)[2:].zfill(num)\n",
    "        combinations.append(list(bool(int(i)) for i in bin_number))\n",
    "    return combinations\n",
    "\n",
    "\n",
    "def validation_problem(expression: str) -> Union[dict[str, bool], bool]:\n",
    "    # getting the variables\n",
    "    formatted_expression = \"\"\n",
    "    variables = {}\n",
    "    for index, char in enumerate(expression):\n",
    "        formatted_expression += char.lower()\n",
    "        if char.isalpha() and char not in \"OR AND\":\n",
    "            if char not in variables:\n",
    "                variables[char] = set()\n",
    "            variables[char].add(index)\n",
    "\n",
    "    # generating all combinations for the given variables\n",
    "    variables_set = set(variables.keys())\n",
    "    variables_list = list(variables_set)\n",
    "    variables_count = len(variables_list)\n",
    "    combinations = generate_combinations(variables_count)\n",
    "\n",
    "    # checking expression satisfiablity using all combinations\n",
    "    for combination in combinations:\n",
    "        calulation_expression = \"\"\n",
    "        for index, char in enumerate(formatted_expression):\n",
    "            if char == \"¬\":\n",
    "                calulation_expression += \"not \"\n",
    "            elif char in variables_set and index in variables[char]:\n",
    "                position = variables_list.index(char)\n",
    "                calulation_expression += str(combination[position])\n",
    "            else:\n",
    "                calulation_expression += char\n",
    "        if eval(calulation_expression):\n",
    "            return {key: value for key, value in zip(variables_list, combination)}\n",
    "\n",
    "    # returning False if the expression cannot be satisfied\n",
    "    return False\n",
    "\n",
    "\n",
    "if __name__ == \"__main__\":\n",
    "    print(validation_problem(\"(¬c OR b) AND (b OR c) AND (¬b OR c) AND (¬c OR ¬a)\"))\n",
    "    print(validation_problem(\"a AND a\"))\n",
    "    print(validation_problem(\"a AND ¬a\"))"
   ]
  }
 ],
 "metadata": {
  "kernelspec": {
   "display_name": ".venv",
   "language": "python",
   "name": "python3"
  },
  "language_info": {
   "codemirror_mode": {
    "name": "ipython",
    "version": 3
   },
   "file_extension": ".py",
   "mimetype": "text/x-python",
   "name": "python",
   "nbconvert_exporter": "python",
   "pygments_lexer": "ipython3",
   "version": "3.10.10"
  }
 },
 "nbformat": 4,
 "nbformat_minor": 2
}
