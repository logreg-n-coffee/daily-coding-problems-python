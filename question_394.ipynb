{
 "cells": [
  {
   "cell_type": "markdown",
   "metadata": {},
   "source": [
    "# Question 394\n",
    "\n",
    "## Description\n",
    "\n",
    "This problem was asked by Uber.\n",
    "\n",
    "Given a binary tree and an integer k, return whether there exists a root-to-leaf path that sums up to k.\n",
    "\n",
    "For example, given k = 18 and the following binary tree:\n",
    "\n",
    "```text\n",
    "    8\n",
    "   / \\\n",
    "  4   13\n",
    " / \\   \\\n",
    "2   6   19\n",
    "```\n",
    "\n",
    "Return True since the path 8 -> 4 -> 6 sums to 18.\n"
   ]
  },
  {
   "cell_type": "code",
   "execution_count": 4,
   "metadata": {},
   "outputs": [],
   "source": [
    "class TreeNode:\n",
    "    def __init__(self, value=0, left=None, right=None):\n",
    "        self.value = value\n",
    "        self.left = left\n",
    "        self.right = right"
   ]
  },
  {
   "cell_type": "code",
   "execution_count": 5,
   "metadata": {},
   "outputs": [],
   "source": [
    "def hasPathSum(root, k):\n",
    "    # Base case: empty tree\n",
    "    if not root:\n",
    "        return False\n",
    "\n",
    "    # Update the sum to reflect the current node's value\n",
    "    k -= root.value\n",
    "\n",
    "    # Check if it's a leaf node and the sum equals k\n",
    "    if not root.left and not root.right:\n",
    "        return k == 0\n",
    "\n",
    "    # Recursively check left and right subtrees\n",
    "    return hasPathSum(root.left, k) or hasPathSum(root.right, k)"
   ]
  },
  {
   "cell_type": "code",
   "execution_count": 6,
   "metadata": {},
   "outputs": [
    {
     "name": "stdout",
     "output_type": "stream",
     "text": [
      "True\n"
     ]
    }
   ],
   "source": [
    "# Construct the example tree\n",
    "root = TreeNode(8)\n",
    "root.left = TreeNode(4)\n",
    "root.right = TreeNode(13)\n",
    "root.left.left = TreeNode(2)\n",
    "root.left.right = TreeNode(6)\n",
    "root.right.right = TreeNode(19)\n",
    "\n",
    "# Check if a path sum to 18 exists\n",
    "print(hasPathSum(root, 18))  # Should output True"
   ]
  },
  {
   "cell_type": "markdown",
   "metadata": {},
   "source": [
    "## Complexity\n",
    "\n",
    "1. **Time Complexity**: The function visits each node of the binary tree exactly once. The number of nodes in the tree determines the time complexity. If there are `N` nodes in the tree, the time complexity is \\( O(N) \\) since each node is processed once.\n",
    "\n",
    "2. **Space Complexity**: The space complexity is mainly determined by the recursion stack. The maximum depth of the recursion stack is equal to the height of the tree. In the worst case (a skewed tree), the height of the tree can be `N`, leading to a space complexity of \\( O(N) \\). In the best case (a balanced tree), the height of the tree would be \\( \\log N \\), and the space complexity would be \\( O(\\log N) \\).\n",
    "\n",
    "In summary, the `hasPathSum` function has a time complexity of \\( O(N) \\) and a space complexity that ranges from \\( O(\\log N) \\) in the best case (balanced tree) to \\( O(N) \\) in the worst case (skewed tree).\n"
   ]
  }
 ],
 "metadata": {
  "kernelspec": {
   "display_name": ".venv",
   "language": "python",
   "name": "python3"
  },
  "language_info": {
   "codemirror_mode": {
    "name": "ipython",
    "version": 3
   },
   "file_extension": ".py",
   "mimetype": "text/x-python",
   "name": "python",
   "nbconvert_exporter": "python",
   "pygments_lexer": "ipython3",
   "version": "3.10.10"
  }
 },
 "nbformat": 4,
 "nbformat_minor": 2
}
