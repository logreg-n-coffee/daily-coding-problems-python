{
 "cells": [
  {
   "cell_type": "markdown",
   "metadata": {},
   "source": [
    "# Question 372\n",
    "\n",
    "## Description\n",
    "\n",
    "Write a function that takes a natural number as input and returns the number of digits the input has.\n",
    "\n",
    "Constraint: don't use any loops.\n"
   ]
  },
  {
   "cell_type": "markdown",
   "metadata": {},
   "source": [
    "## Solution\n",
    "\n",
    "mathematical approach is to use logarithms. The idea is that the logarithm base 10 of a number gives the order of magnitude of the number. For instance, the logarithm base 10 of 100 is 2, and the logarithm base 10 of 999 is slightly less than 3. By taking the floor of the logarithm base 10 of a number and adding 1, we can find the number of digits.\n"
   ]
  },
  {
   "cell_type": "code",
   "execution_count": 1,
   "metadata": {},
   "outputs": [],
   "source": [
    "import math\n",
    "\n",
    "\n",
    "def num_of_digits(n):\n",
    "    # handle edge case\n",
    "    if n == 0:\n",
    "        return 1\n",
    "\n",
    "    return int(math.floor(math.log10(n)) + 1)"
   ]
  },
  {
   "cell_type": "code",
   "execution_count": 2,
   "metadata": {},
   "outputs": [
    {
     "name": "stdout",
     "output_type": "stream",
     "text": [
      "5\n"
     ]
    }
   ],
   "source": [
    "# Test\n",
    "print(num_of_digits(12345))  # Expected output: 5"
   ]
  }
 ],
 "metadata": {
  "kernelspec": {
   "display_name": ".venv",
   "language": "python",
   "name": "python3"
  },
  "language_info": {
   "codemirror_mode": {
    "name": "ipython",
    "version": 3
   },
   "file_extension": ".py",
   "mimetype": "text/x-python",
   "name": "python",
   "nbconvert_exporter": "python",
   "pygments_lexer": "ipython3",
   "version": "3.10.10"
  }
 },
 "nbformat": 4,
 "nbformat_minor": 2
}
