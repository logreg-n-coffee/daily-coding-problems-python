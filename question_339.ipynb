{
 "cells": [
  {
   "cell_type": "markdown",
   "metadata": {},
   "source": [
    "# Question 339\n",
    "\n",
    "## Description\n",
    "\n",
    "Given an array of numbers and a number k, determine if there are three entries in the array which add up to the specified number k. For example, given [20, 303, 3, 4, 25] and k = 49, return true as 20 + 4 + 25 = 49."
   ]
  },
  {
   "cell_type": "code",
   "execution_count": 1,
   "metadata": {},
   "outputs": [],
   "source": [
    "def triplet_sums_to_k(arr, k):\n",
    "    def pairs_sums_to_k(arr, k, start):\n",
    "        # O(n)\n",
    "        lo = start\n",
    "        hi = len(arr) - 1\n",
    "        \n",
    "        while lo < hi:\n",
    "            if arr[lo] + arr[hi] == k:\n",
    "                return True\n",
    "            elif arr[lo] + arr[hi] < k:\n",
    "                lo += 1\n",
    "            else:\n",
    "                hi -= 1\n",
    "        \n",
    "        return False\n",
    "    \n",
    "    arr.sort()  # O(nlogn)\n",
    "    \n",
    "    # O(n^2) as pairs_sums_to_k is O(n) and called n times\n",
    "    for i in range(len(arr) - 2):\n",
    "        if pairs_sums_to_k(arr, k - arr[i], i + 1):\n",
    "            return True\n",
    "    \n",
    "    return False"
   ]
  },
  {
   "cell_type": "code",
   "execution_count": 2,
   "metadata": {},
   "outputs": [
    {
     "data": {
      "text/plain": [
       "True"
      ]
     },
     "execution_count": 2,
     "metadata": {},
     "output_type": "execute_result"
    }
   ],
   "source": [
    "nums = [20, 303, 3, 4, 25]\n",
    "k = 49\n",
    "triplet_sums_to_k(nums, k)"
   ]
  }
 ],
 "metadata": {
  "kernelspec": {
   "display_name": ".venv",
   "language": "python",
   "name": "python3"
  },
  "language_info": {
   "codemirror_mode": {
    "name": "ipython",
    "version": 3
   },
   "file_extension": ".py",
   "mimetype": "text/x-python",
   "name": "python",
   "nbconvert_exporter": "python",
   "pygments_lexer": "ipython3",
   "version": "3.10.10"
  }
 },
 "nbformat": 4,
 "nbformat_minor": 2
}
