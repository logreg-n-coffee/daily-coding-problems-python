{
 "cells": [
  {
   "cell_type": "markdown",
   "metadata": {},
   "source": [
    "# Question 397\n",
    "\n",
    "## Description\n",
    "\n",
    "This problem was asked by Microsoft.\n",
    "\n",
    "You are given a list of jobs to be done, where each job is represented by a start time and end time. Two jobs are compatible if they don't overlap. Find the largest subset of compatible jobs.\n",
    "\n",
    "For example, given the following jobs (there is no guarantee that jobs will be sorted):\n",
    "\n",
    "```python\n",
    "[(0, 6),\n",
    "(1, 4),\n",
    "(3, 5),\n",
    "(3, 8),\n",
    "(4, 7),\n",
    "(5, 9),\n",
    "(6, 10),\n",
    "(8, 11)]\n",
    "```\n",
    "\n",
    "Return:\n",
    "\n",
    "```python\n",
    "[(1, 4),\n",
    "(4, 7),\n",
    "(8, 11)]\n",
    "```\n"
   ]
  },
  {
   "cell_type": "code",
   "execution_count": 2,
   "metadata": {},
   "outputs": [
    {
     "data": {
      "text/plain": [
       "[(1, 4), (4, 7), (8, 11)]"
      ]
     },
     "execution_count": 2,
     "metadata": {},
     "output_type": "execute_result"
    }
   ],
   "source": [
    "def find_max_subset_of_jobs(jobs: list[tuple[int, int]]) -> list[tuple[int, int]]:\n",
    "    # Sort the jobs based on end time\n",
    "    jobs.sort(key=lambda x: x[1])\n",
    "\n",
    "    # Initialize the maximum subset of jobs\n",
    "    max_subset = [jobs[0]]\n",
    "\n",
    "    for i in range(1, len(jobs)):\n",
    "        # If the start time of the current job is greater or equal to the end time\n",
    "        # of the last job in the max_subset, add the current job to the max_subset\n",
    "        if jobs[i][0] >= max_subset[-1][1]:\n",
    "            max_subset.append(jobs[i])\n",
    "\n",
    "    return max_subset\n",
    "\n",
    "\n",
    "# Given list of jobs\n",
    "jobs = [(0, 6), (1, 4), (3, 5), (3, 8), (4, 7), (5, 9), (6, 10), (8, 11)]\n",
    "\n",
    "# Find the largest subset of compatible jobs\n",
    "find_max_subset_of_jobs(jobs)"
   ]
  }
 ],
 "metadata": {
  "kernelspec": {
   "display_name": ".venv",
   "language": "python",
   "name": "python3"
  },
  "language_info": {
   "codemirror_mode": {
    "name": "ipython",
    "version": 3
   },
   "file_extension": ".py",
   "mimetype": "text/x-python",
   "name": "python",
   "nbconvert_exporter": "python",
   "pygments_lexer": "ipython3",
   "version": "3.10.10"
  }
 },
 "nbformat": 4,
 "nbformat_minor": 2
}
