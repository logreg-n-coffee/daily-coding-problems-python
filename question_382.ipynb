{
 "cells": [
  {
   "cell_type": "markdown",
   "metadata": {},
   "source": [
    "# Question 382\n",
    "\n",
    "## Description\n",
    "\n",
    "Write a function to decode a Base64 string back to a hexadecimal string.\n",
    "\n",
    "For example, the following string:\n",
    "\n",
    "`3q2+7w==`\n",
    "\n",
    "should produce:\n",
    "\n",
    "`deadbeef`\n"
   ]
  },
  {
   "cell_type": "code",
   "execution_count": 1,
   "metadata": {},
   "outputs": [
    {
     "name": "stdout",
     "output_type": "stream",
     "text": [
      "deadbeef\n"
     ]
    }
   ],
   "source": [
    "def base64_to_bin(base64_str):\n",
    "    # Define the base64 character set\n",
    "    base64_chars = \"ABCDEFGHIJKLMNOPQRSTUVWXYZabcdefghijklmnopqrstuvwxyz0123456789+/\"\n",
    "    base64_dict = {v: i for i, v in enumerate(base64_chars)}\n",
    "\n",
    "    # Remove any '=' padding\n",
    "    padding = base64_str.count(\"=\")\n",
    "    base64_str = base64_str.rstrip(\"=\")\n",
    "\n",
    "    # Convert base64 to binary\n",
    "    bin_str = \"\".join(f\"{base64_dict[c]:06b}\" for c in base64_str)\n",
    "\n",
    "    # Remove padding bits added to make last sextet complete if padding existed\n",
    "    if padding:\n",
    "        bin_str = bin_str[: -padding * 2]\n",
    "\n",
    "    return bin_str\n",
    "\n",
    "\n",
    "def bin_to_hex(bin_str):\n",
    "    # Ensure the binary string length is a multiple of 4 for hexadecimal conversion\n",
    "    if len(bin_str) % 4 != 0:\n",
    "        bin_str = bin_str.zfill(len(bin_str) + 4 - (len(bin_str) % 4))\n",
    "\n",
    "    hex_str = f\"{int(bin_str, 2):x}\"  # Convert binary to hex\n",
    "    return hex_str\n",
    "\n",
    "\n",
    "def base64_to_hex(base64_str):\n",
    "    bin_str = base64_to_bin(base64_str)  # Convert base64 to binary\n",
    "    hex_str = bin_to_hex(bin_str)  # Convert binary to hexadecimal\n",
    "    return hex_str\n",
    "\n",
    "\n",
    "# Example usage:\n",
    "base64_string = \"3q2+7w==\"\n",
    "hex_string = base64_to_hex(base64_string)\n",
    "print(hex_string)  # Output should be deadbeef"
   ]
  }
 ],
 "metadata": {
  "kernelspec": {
   "display_name": ".venv",
   "language": "python",
   "name": "python3"
  },
  "language_info": {
   "codemirror_mode": {
    "name": "ipython",
    "version": 3
   },
   "file_extension": ".py",
   "mimetype": "text/x-python",
   "name": "python",
   "nbconvert_exporter": "python",
   "pygments_lexer": "ipython3",
   "version": "3.10.10"
  }
 },
 "nbformat": 4,
 "nbformat_minor": 2
}
