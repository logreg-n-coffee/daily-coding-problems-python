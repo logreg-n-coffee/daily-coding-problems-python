{
 "cells": [
  {
   "cell_type": "markdown",
   "metadata": {},
   "source": [
    "# Question 399\n",
    "\n",
    "## Description\n",
    "\n",
    "This problem was asked by Facebook.\n",
    "\n",
    "Given a list of strictly positive integers, partition the list into 3 contiguous partitions which each sum up to the same value. If not possible, return null.\n",
    "\n",
    "For example, given the following list:\n",
    "\n",
    "`[3, 5, 8, 0, 8]`\n",
    "\n",
    "Return the following 3 partitions:\n",
    "\n",
    "```python\n",
    "[[3, 5],\n",
    " [8, 0],\n",
    " [8]]\n",
    "```\n",
    "\n",
    "Which each add up to 8.\n"
   ]
  },
  {
   "cell_type": "markdown",
   "metadata": {},
   "source": [
    "## Solution\n",
    "\n",
    "To solve this problem, we can follow these steps:\n",
    "\n",
    "1. **Calculate the Total Sum**: First, we need to calculate the total sum of the list. If this sum is not divisible by 3, it's impossible to partition the list into 3 parts with equal sums, so we return `null`.\n",
    "\n",
    "2. **Target Sum for Each Partition**: The target sum for each partition would be the total sum divided by 3.\n",
    "\n",
    "3. **Partition the List**: We then try to partition the list into 3 parts, each with the target sum. This can be done by iterating through the list and keeping track of the sum of elements in the current partition. Once the sum reaches the target, we start a new partition.\n",
    "\n",
    "4. **Check for Valid Partition**: If we successfully create 3 partitions with the target sum, we return these partitions. Otherwise, we return `null`.\n",
    "\n",
    "The implemented function partitions the given list `[3, 5, 8, 0, 8]` into three parts with each part summing up to 8, as required. The resulting partitions are `[[3, 5], [8], [0, 8]]`. This solution satisfies the conditions of the problem by creating three contiguous partitions with equal sums."
   ]
  },
  {
   "cell_type": "code",
   "execution_count": 1,
   "metadata": {},
   "outputs": [
    {
     "data": {
      "text/plain": [
       "[[3, 5], [8], [0, 8]]"
      ]
     },
     "execution_count": 1,
     "metadata": {},
     "output_type": "execute_result"
    }
   ],
   "source": [
    "def partition_list(nums):\n",
    "    total_sum = sum(nums)\n",
    "\n",
    "    # Check if the total sum is divisible by 3\n",
    "    if total_sum % 3 != 0:\n",
    "        return None\n",
    "\n",
    "    target_sum = total_sum // 3\n",
    "    partitions = []\n",
    "    current_partition = []\n",
    "    current_sum = 0\n",
    "\n",
    "    for num in nums:\n",
    "        current_partition.append(num)\n",
    "        current_sum += num\n",
    "\n",
    "        # If current partition sum reaches the target, start a new partition\n",
    "        if current_sum == target_sum:\n",
    "            partitions.append(current_partition)\n",
    "            current_partition = []\n",
    "            current_sum = 0\n",
    "\n",
    "    # Check if we have exactly 3 partitions\n",
    "    if len(partitions) == 3:\n",
    "        return partitions\n",
    "    else:\n",
    "        return None\n",
    "\n",
    "\n",
    "# Test the function with the provided example\n",
    "partition_list([3, 5, 8, 0, 8])"
   ]
  },
  {
   "cell_type": "markdown",
   "metadata": {},
   "source": [
    "To analyze the complexity of the solution, we will consider two aspects: time complexity and space complexity.\n",
    "\n",
    "### Time Complexity\n",
    "\n",
    "1. **Calculating Total Sum**: The first step of calculating the total sum of the list has a time complexity of O(N), where N is the length of the list. This is because we have to iterate through each element of the list once.\n",
    "\n",
    "2. **Partitioning the List**: The next step involves iterating through the list again to create partitions. This is also an O(N) operation, as each element is visited once during this process.\n",
    "\n",
    "Since these are the two primary operations and they both have a linear relationship with the size of the list, the overall time complexity of the algorithm is O(N).\n",
    "\n",
    "### Space Complexity\n",
    "\n",
    "1. **Partitions Storage**: The space complexity is primarily dictated by the space required to store the partitions. In the worst case, this could require storing the entire list again, which would be O(N). However, this is a somewhat misleading consideration, as we are not creating new elements but rather partitioning the existing list.\n",
    "\n",
    "2. **Auxiliary Space**: The additional space used by variables like `current_partition` and `current_sum` is negligible compared to the size of the input list. These require only O(1) additional space.\n",
    "\n",
    "Therefore, the overall space complexity of the algorithm is O(N), mainly due to the space required to store the partitioned lists. This assumes that storing pointers or references to the original list elements, rather than duplicating the elements themselves.\n"
   ]
  }
 ],
 "metadata": {
  "kernelspec": {
   "display_name": ".venv",
   "language": "python",
   "name": "python3"
  },
  "language_info": {
   "codemirror_mode": {
    "name": "ipython",
    "version": 3
   },
   "file_extension": ".py",
   "mimetype": "text/x-python",
   "name": "python",
   "nbconvert_exporter": "python",
   "pygments_lexer": "ipython3",
   "version": "3.10.10"
  }
 },
 "nbformat": 4,
 "nbformat_minor": 2
}
