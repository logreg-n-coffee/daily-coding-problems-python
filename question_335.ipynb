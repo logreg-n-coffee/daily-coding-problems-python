{
 "cells": [
  {
   "cell_type": "markdown",
   "metadata": {},
   "source": [
    "# Question 335\n",
    "\n",
    "## Description\n",
    "\n",
    "PageRank is an algorithm used by Google to rank the importance of different websites. While there have been changes over the years, the central idea is to assign each site a score based on the importance of other pages that link to that page.\n",
    "\n",
    "More mathematically, suppose there are `N` sites, and each site `i` has a certain count `Ci` of outgoing links. Then the score for a particular site `Sj` is defined as :\n",
    "\n",
    "`score(Sj) = (1 - d) / N + d * (score(Sx) / Cx + score(Sy) / Cy+ ... + score(Sz) / Cz))`\n",
    "\n",
    "Here, `Sx, Sy, ..., Sz` denote the scores of all the other sites that have outgoing links to `Sj`, and d is a damping factor, usually set to around 0.85, used to model the probability that a user will stop searching.\n",
    "\n",
    "Given a directed graph of links between various websites, write a program that calculates each site's page rank.\n"
   ]
  },
  {
   "cell_type": "markdown",
   "metadata": {},
   "source": [
    "First, we must determine the form of our input. Let us suppose we are given a graph of outbound links, such as the following:\n",
    "\n",
    "```python\n",
    "outlinks = {\n",
    "      0: [1, 2, 3],\n",
    "      1: [0],\n",
    "      2: [0],\n",
    "      3: [0]\n",
    "}\n",
    "```\n",
    "\n",
    "This corresponds to the following graph:\n",
    "\n",
    "```\n",
    "      2\n",
    "      ∧\n",
    "      |\n",
    "      v\n",
    "1 <-> 0 <-> 3\n",
    "```\n",
    "\n",
    "For our solution, we will need to efficiently find all the sites that link to a given site, so we can first create an additional dictionary to store this information.\n"
   ]
  },
  {
   "cell_type": "code",
   "execution_count": 1,
   "metadata": {},
   "outputs": [],
   "source": [
    "def make_inlinks(outlinks):\n",
    "    inlinks = {site: [] for site in outlinks}\n",
    "\n",
    "    for site, neighbors in outlinks.items():\n",
    "        for neighbor in neighbors:\n",
    "            inlinks[neighbor].append(site)\n",
    "\n",
    "    return inlinks"
   ]
  },
  {
   "cell_type": "markdown",
   "metadata": {},
   "source": [
    "Now we can focus on the page rank function. From the description, we know that each website's score actually depends on each other website's score. This may seem confusing- won't we end up going in circles? And how should we set the scores in the first place?\n",
    "\n",
    "One simplifying assumption we can make is that we would like to normalize our page rank scores so that their sum equals one. Therefore, we should initially set each value to be 1 / N, where N is the number of sites.\n",
    "\n",
    "Calculating each site's page rank is then an iterative process. We follow the formula above for each site, and replace our score dictionary once each value has been fully computed. After a set number of rounds, the page ranks should converge toward a stable solution.\n"
   ]
  },
  {
   "cell_type": "code",
   "execution_count": 2,
   "metadata": {},
   "outputs": [],
   "source": [
    "def update_scores(inlinks, outlinks, scores, d, num_rounds):\n",
    "    for _ in range(num_rounds):\n",
    "        new_scores = {}\n",
    "\n",
    "        for site, neighbors in inlinks.items():\n",
    "            score = sum(\n",
    "                [scores[neighbor] / len(outlinks[neighbor]) for neighbor in neighbors]\n",
    "            )\n",
    "            new_scores[site] = (1.0 - d) / len(inlinks) + d * score\n",
    "\n",
    "        scores.update(new_scores)"
   ]
  },
  {
   "cell_type": "markdown",
   "metadata": {},
   "source": [
    "For the example above, for example, after around twenty iterations we converge to the following scores: {0: 0.48, 1: 0.17, 2: 0.17, 3: 0.17}. This makes sense, as the website with three times as many incoming links receives around three times the score.\n",
    "\n",
    "Finally, we can wrap these functions in a PageRank class, giving us the freedom to easily update the damping factor and the number of rounds. We also include a helper function that returns a more user-friendly display of each site's score.\n"
   ]
  },
  {
   "cell_type": "code",
   "execution_count": 3,
   "metadata": {},
   "outputs": [
    {
     "name": "stdout",
     "output_type": "stream",
     "text": [
      "{0: 0.43, 1: 0.19, 2: 0.19, 3: 0.19}\n"
     ]
    }
   ],
   "source": [
    "def make_inlinks(outlinks: dict[int, list[int]]) -> dict[int, list[int]]:\n",
    "    inlinks = {site: [] for site in outlinks}\n",
    "    for site, neighbors in outlinks.items():\n",
    "        for neighbor in neighbors:\n",
    "            inlinks[neighbor].append(site)\n",
    "    return inlinks\n",
    "\n",
    "\n",
    "def update_scores(\n",
    "    inlinks: dict[int, list[int]],\n",
    "    outlinks: dict[int, list[int]],\n",
    "    scores: dict[int, float],\n",
    "    d: float,\n",
    "    num_rounds: int,\n",
    ") -> None:\n",
    "    for _ in range(num_rounds):\n",
    "        new_scores = {}\n",
    "        for site, neighbors in inlinks.items():\n",
    "            score = sum(\n",
    "                [scores[neighbor] / len(outlinks[neighbor]) for neighbor in neighbors]\n",
    "            )\n",
    "            new_scores[site] = (1.0 - d) / len(inlinks) + d * score\n",
    "        scores.update(new_scores)\n",
    "\n",
    "\n",
    "class PageRank:\n",
    "    def __init__(\n",
    "        self, links: dict[int, list[int]], d: float = 0.85, num_rounds: int = 10\n",
    "    ) -> None:\n",
    "        self.d = d\n",
    "        self.num_rounds = num_rounds\n",
    "        self.num_sites = len(links)\n",
    "        self.outlinks = links\n",
    "        self.inlinks = self.get_inlinks()\n",
    "        self.scores = {site: 1.0 / self.num_sites for site in links}\n",
    "\n",
    "    def get_inlinks(self) -> dict[int, list[int]]:\n",
    "        inlinks = {site: [] for site in self.outlinks}\n",
    "        for site, neighbors in self.outlinks.items():\n",
    "            for neighbor in neighbors:\n",
    "                inlinks[neighbor].append(site)\n",
    "        return inlinks\n",
    "\n",
    "    def update_scores(self) -> None:\n",
    "        update_scores(self.inlinks, self.outlinks, self.scores, self.d, self.num_rounds)\n",
    "\n",
    "    def get_ranks(self) -> dict[int, float]:\n",
    "        return {site: round(score, 2) for site, score in self.scores.items()}\n",
    "\n",
    "\n",
    "# Example usage:\n",
    "if __name__ == \"__main__\":\n",
    "    outlinks = {0: [1, 2, 3], 1: [0], 2: [0], 3: [0]}\n",
    "    pr = PageRank(outlinks)\n",
    "    pr.update_scores()\n",
    "    print(pr.get_ranks())"
   ]
  }
 ],
 "metadata": {
  "kernelspec": {
   "display_name": ".venv",
   "language": "python",
   "name": "python3"
  },
  "language_info": {
   "codemirror_mode": {
    "name": "ipython",
    "version": 3
   },
   "file_extension": ".py",
   "mimetype": "text/x-python",
   "name": "python",
   "nbconvert_exporter": "python",
   "pygments_lexer": "ipython3",
   "version": "3.10.10"
  }
 },
 "nbformat": 4,
 "nbformat_minor": 2
}
