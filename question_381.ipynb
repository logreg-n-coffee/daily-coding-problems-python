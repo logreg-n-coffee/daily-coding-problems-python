{
 "cells": [
  {
   "cell_type": "markdown",
   "metadata": {},
   "source": [
    "# Question 381\n",
    "\n",
    "## Description\n",
    "\n",
    "Implement a function that converts a hex string to base64.\n",
    "\n",
    "For example, the string:\n",
    "\n",
    "`deadbeef`\n",
    "\n",
    "should produce:\n",
    "\n",
    "`3q2+7w==`\n"
   ]
  },
  {
   "cell_type": "code",
   "execution_count": 1,
   "metadata": {},
   "outputs": [
    {
     "name": "stdout",
     "output_type": "stream",
     "text": [
      "3q2+7w==\n"
     ]
    }
   ],
   "source": [
    "def hex_to_bin(hex_str):\n",
    "    bin_str = bin(int(hex_str, 16))[2:]  # Convert hex to binary and remove '0b' prefix\n",
    "    return bin_str.zfill(\n",
    "        8 * ((len(bin_str) + 7) // 8)\n",
    "    )  # Pad with zeros to ensure full bytes\n",
    "\n",
    "\n",
    "def bin_to_base64(bin_str):\n",
    "    base64_chars = \"ABCDEFGHIJKLMNOPQRSTUVWXYZabcdefghijklmnopqrstuvwxyz0123456789+/\"\n",
    "    base64_str = \"\"\n",
    "    for i in range(0, len(bin_str), 6):  # Process in chunks of 6 bits\n",
    "        # Convert binary to decimal\n",
    "        chunk = bin_str[i : i + 6]\n",
    "        if len(chunk) < 6:\n",
    "            chunk = chunk + \"0\" * (\n",
    "                6 - len(chunk)\n",
    "            )  # Padding with zeros to the right if necessary\n",
    "        base64_str += base64_chars[int(chunk, 2)]\n",
    "    return base64_str\n",
    "\n",
    "\n",
    "def add_padding(base64_str):\n",
    "    # Base64 strings should be a multiple of 4 characters long\n",
    "    while len(base64_str) % 4 != 0:\n",
    "        base64_str += \"=\"\n",
    "    return base64_str\n",
    "\n",
    "\n",
    "def hex_to_base64(hex_str):\n",
    "    bin_str = hex_to_bin(hex_str)  # Convert hex to binary\n",
    "    base64_str = bin_to_base64(bin_str)  # Convert binary to base64\n",
    "    base64_str = add_padding(base64_str)  # Add base64 padding if necessary\n",
    "    return base64_str\n",
    "\n",
    "\n",
    "# Example usage:\n",
    "hex_string = \"deadbeef\"\n",
    "base64_string = hex_to_base64(hex_string)\n",
    "print(base64_string)  # Output should be 3q2+7w=="
   ]
  }
 ],
 "metadata": {
  "kernelspec": {
   "display_name": ".venv",
   "language": "python",
   "name": "python3"
  },
  "language_info": {
   "codemirror_mode": {
    "name": "ipython",
    "version": 3
   },
   "file_extension": ".py",
   "mimetype": "text/x-python",
   "name": "python",
   "nbconvert_exporter": "python",
   "pygments_lexer": "ipython3",
   "version": "3.10.10"
  }
 },
 "nbformat": 4,
 "nbformat_minor": 2
}
