{
 "cells": [
  {
   "cell_type": "markdown",
   "metadata": {},
   "source": [
    "# Question 351\n",
    "\n",
    "## Description\n",
    "\n",
    "Word sense disambiguation is the problem of determining which sense a word takes on in a particular setting, if that word has multiple meanings. For example, in the sentence \"I went to get money from the bank\", bank probably means the place where people deposit money, not the land beside a river or lake.\n",
    "\n",
    "Suppose you are given a list of meanings for several words, formatted like so:\n",
    "\n",
    "```json\n",
    "{\n",
    "    \"word_1\": [\"meaning one\", \"meaning two\", ...],\n",
    "    ...\n",
    "    \"word_n\": [\"meaning one\", \"meaning two\", ...]\n",
    "}\n",
    "```\n",
    "\n",
    "Given a sentence, most of whose words are contained in the meaning list above, create an algorithm that determines the likely sense of each possibly ambiguous word."
   ]
  },
  {
   "cell_type": "markdown",
   "metadata": {},
   "source": [
    "## Solution \n",
    "\n",
    "Word sense disambiguation is a non-trivial task that has been approached in many ways, including supervised learning, dictionary-based methods, and more. Here's a simple context-based algorithm to tackle the problem:\n",
    "\n",
    "Algorithm\n",
    "\n",
    "* For each ambiguous word in the sentence, we'll extract a context window - a fixed number of words before and after the target word.\n",
    "* For each sense of the ambiguous word, we'll measure how many words from its definition are in the context window.\n",
    "* The sense with the highest overlap with the context window is the most likely meaning."
   ]
  },
  {
   "cell_type": "code",
   "execution_count": 1,
   "metadata": {},
   "outputs": [
    {
     "name": "stdout",
     "output_type": "stream",
     "text": [
      "{'bank': 'a financial institution'}\n"
     ]
    }
   ],
   "source": [
    "\n",
    "def disambiguate_sentence(sentence, word_meanings, window_size = 3):\n",
    "    words = sentence.split()\n",
    "    results = {}\n",
    "    \n",
    "    for index, word in enumerate(words):\n",
    "        if word in word_meanings:\n",
    "            # define the context window\n",
    "            start = max(0, index - window_size)\n",
    "            end = min(len(words), index + window_size + 1)\n",
    "            context = set(words[start:end])\n",
    "            \n",
    "            # find overlap for each sense\n",
    "            best_sense = None\n",
    "            max_overlap = -1\n",
    "            \n",
    "            for sense in word_meanings[word]:\n",
    "                sense_words = set(sense.split())\n",
    "                overlap = len(context.intersection(sense_words))\n",
    "                \n",
    "                if overlap > max_overlap:\n",
    "                    max_overlap = overlap\n",
    "                    best_sense = sense\n",
    "            \n",
    "            results[word] = best_sense\n",
    "    \n",
    "    return results\n",
    "\n",
    "\n",
    "meanings = {\n",
    "    \"bank\": [\"a financial institution\", \"sides of a river\"],\n",
    "    \"bark\": [\"sound of a dog\", \"covering of a tree\"]\n",
    "}\n",
    "\n",
    "sentence = \"I went to get money from the bank\"\n",
    "print(disambiguate_sentence(sentence, meanings))  # Expected: {'bank': 'a financial institution'}\n"
   ]
  }
 ],
 "metadata": {
  "kernelspec": {
   "display_name": ".venv",
   "language": "python",
   "name": "python3"
  },
  "language_info": {
   "codemirror_mode": {
    "name": "ipython",
    "version": 3
   },
   "file_extension": ".py",
   "mimetype": "text/x-python",
   "name": "python",
   "nbconvert_exporter": "python",
   "pygments_lexer": "ipython3",
   "version": "3.10.10"
  }
 },
 "nbformat": 4,
 "nbformat_minor": 2
}
