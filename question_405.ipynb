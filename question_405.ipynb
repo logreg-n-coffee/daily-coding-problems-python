{
 "cells": [
  {
   "cell_type": "markdown",
   "metadata": {},
   "source": [
    "# Question 405\n",
    "\n",
    "## Description\n",
    "\n",
    "This problem was asked by Apple.\n",
    "\n",
    "Given a tree, find the largest tree/subtree that is a BST.\n",
    "\n",
    "Given a tree, return the size of the largest tree/subtree that is a BST.\n"
   ]
  },
  {
   "cell_type": "markdown",
   "metadata": {},
   "source": [
    "## Solution\n",
    "\n",
    "To solve this problem asked by Apple, we need to write a Python function that finds the largest Binary Search Tree (BST) within a given tree. A BST is a tree where each node has at most two children, and for any node, all nodes in its left subtree have smaller values, and all nodes in its right subtree have greater values.\n",
    "\n",
    "The approach to solve this problem is as follows:\n",
    "\n",
    "1. **Traverse the Tree**: We will use a post-order traversal (left, right, node) to check each subtree from the bottom up.\n",
    "\n",
    "2. **Check for BST and Calculate Size**: At each node, we need to determine whether the subtree rooted at that node is a BST. To do this, we need to check:\n",
    "\n",
    "   - If the left child's maximum value is less than the current node's value.\n",
    "   - If the right child's minimum value is greater than the current node's value.\n",
    "   - If both the left and right subtrees are BSTs.\n",
    "     If all these conditions are met, the current subtree is a BST. We then calculate the size of this subtree.\n",
    "\n",
    "3. **Keep Track of Largest BST**: While traversing, we keep track of the largest BST found so far.\n",
    "\n",
    "4. **Return the Size of the Largest BST**: After the traversal, we return the size of the largest BST found.\n"
   ]
  },
  {
   "cell_type": "code",
   "execution_count": 1,
   "metadata": {},
   "outputs": [],
   "source": [
    "from typing import Self\n",
    "\n",
    "\n",
    "class TreeNode:\n",
    "    def __init__(self, val=0, left: Self | None = None, right: Self | None = None):\n",
    "        self.val = val\n",
    "        self.left = left\n",
    "        self.right = right\n",
    "\n",
    "\n",
    "def find_largest_bst_subtree(root: TreeNode):\n",
    "    def post_order_traversal(node):\n",
    "        if not node:\n",
    "            # return a tuple (is_bst, min_value, max_value, size)\n",
    "            return True, float(\"inf\"), float(\"-inf\"), 0\n",
    "\n",
    "        left_is_bst, left_min, left_max, left_size = post_order_traversal(node.left)\n",
    "        right_is_bst, right_min, right_max, right_size = post_order_traversal(\n",
    "            node.right\n",
    "        )\n",
    "\n",
    "        if left_is_bst and right_is_bst and left_max < node.val < right_min:\n",
    "            # current node is a bst, return its details\n",
    "            return (\n",
    "                True,\n",
    "                min(left_min, node.val),\n",
    "                max(right_max, node.val),\n",
    "                left_size + right_size + 1,\n",
    "            )\n",
    "        else:\n",
    "            # current node is not a bst, return merged details\n",
    "            return False, float(\"-inf\"), float(\"inf\"), max(left_size, right_size)\n",
    "\n",
    "    return post_order_traversal(root)[-1]"
   ]
  },
  {
   "cell_type": "code",
   "execution_count": 2,
   "metadata": {},
   "outputs": [
    {
     "data": {
      "text/plain": [
       "3"
      ]
     },
     "execution_count": 2,
     "metadata": {},
     "output_type": "execute_result"
    }
   ],
   "source": [
    "# Example usage\n",
    "root = TreeNode(10)\n",
    "root.left = TreeNode(5)\n",
    "root.right = TreeNode(15)\n",
    "root.left.left = TreeNode(1)\n",
    "root.left.right = TreeNode(8)\n",
    "root.right.right = TreeNode(7)\n",
    "\n",
    "# This should return the size of the largest BST in the tree\n",
    "find_largest_bst_subtree(root)"
   ]
  },
  {
   "cell_type": "markdown",
   "metadata": {},
   "source": [
    "### Time Complexity\n",
    "\n",
    "1. **Traversal**: The function uses a post-order traversal to visit every node in the tree exactly once. This traversal ensures that each node and its subtrees are processed.\n",
    "\n",
    "2. **Processing at Each Node**: At each node, the algorithm performs a constant amount of work. It checks the values returned from the left and right subtrees to determine if the current subtree is a BST and calculates the size of the current subtree. This work is done in constant time, O(1), for each node.\n",
    "\n",
    "Considering that every node in the tree is visited once and a constant amount of work is done at each node, the time complexity of the function is **O(N)**, where **N** is the number of nodes in the tree.\n",
    "\n",
    "### Space Complexity\n",
    "\n",
    "1. **Recursive Stack Space**: The space complexity is mainly governed by the depth of the recursive calls. In the worst case, especially in the case of a skewed tree (where each node has only one child), the depth of the recursive stack could be O(N).\n",
    "\n",
    "2. **Temporary Variables**: The function uses a few temporary variables to store the results of the subtree checks. However, this does not significantly contribute to the space complexity as it's a constant amount of additional space.\n",
    "\n",
    "Thus, the space complexity of the function is **O(N)** in the worst case, due to the recursive stack space. In the best case (a balanced tree), the space complexity would be O(log N) due to the reduced height of the tree.\n"
   ]
  }
 ],
 "metadata": {
  "kernelspec": {
   "display_name": "Python 3",
   "language": "python",
   "name": "python3"
  },
  "language_info": {
   "codemirror_mode": {
    "name": "ipython",
    "version": 3
   },
   "file_extension": ".py",
   "mimetype": "text/x-python",
   "name": "python",
   "nbconvert_exporter": "python",
   "pygments_lexer": "ipython3",
   "version": "3.11.1"
  }
 },
 "nbformat": 4,
 "nbformat_minor": 2
}
