{
 "cells": [
  {
   "cell_type": "markdown",
   "metadata": {},
   "source": [
    "# Question 374\n",
    "\n",
    "## Description\n",
    "\n",
    "This problem was asked by Amazon.\n",
    "\n",
    "Given a sorted array arr of distinct integers, return the lowest index i for which arr[i] == i. Return null if there is no such index.\n",
    "\n",
    "For example, given the array [-5, -3, 2, 3], return 2 since arr[2] == 2. Even though arr[3] == 3, we return 2 since it's the lowest index.\n"
   ]
  },
  {
   "cell_type": "markdown",
   "metadata": {},
   "source": [
    "## Edge Cases\n",
    "\n",
    "There are a few edge cases to consider when dealing with this problem:\n",
    "\n",
    "1. **Empty Array**: If the array is empty, there is obviously no index that can satisfy the condition. The function should return `None` or some other indicator of failure for this case.\n",
    "2. **No Fixed Point**: Even if the array is non-empty, there might not be any index `i` for which `arr[i] == i`. For example, for the array `[-10, -5, 3, 4, 5, 6]`, there's no such index. The function should handle this and return `None`.\n",
    "\n",
    "3. **Multiple Fixed Points**: The array might have multiple indices that satisfy the condition. For example, in the array `[-5, 0, 2, 3, 4, 5, 6]`, both 2 and 3 are indices where `arr[i] == i`. In this case, as per the problem statement, we need to return the lowest index, which is 2.\n",
    "\n",
    "4. **All Elements Are Negative**: In an array like `[-10, -5, -2, -1]`, no index will satisfy the condition, and the function should return `None`.\n",
    "\n",
    "5. **All Elements Are Positive and Greater than Their Indices**: In an array like `[1, 2, 3, 4]`, no index will satisfy the condition, and the function should return `None`.\n",
    "\n",
    "6. **First or Last Element is the Fixed Point**: Ensure the function can handle scenarios where the fixed point is either the first or the last element. For example, for the array `[0, 2, 3, 4]`, the function should return 0.\n",
    "\n",
    "For all the above edge cases, the provided solution will correctly return the expected results.\n"
   ]
  },
  {
   "cell_type": "code",
   "execution_count": 6,
   "metadata": {},
   "outputs": [],
   "source": [
    "def fixed_point(arr):\n",
    "    left, right = 0, len(arr) - 1\n",
    "\n",
    "    result = None  # Initialize result as None\n",
    "\n",
    "    while left <= right:\n",
    "        mid = (left + right) // 2\n",
    "\n",
    "        if arr[mid] == mid:\n",
    "            result = mid  # Update result\n",
    "            right = mid - 1  # Continue to look on the left side for a lower index\n",
    "\n",
    "        elif arr[mid] > mid:\n",
    "            right = mid - 1\n",
    "\n",
    "        else:\n",
    "            left = mid + 1\n",
    "\n",
    "    return result"
   ]
  },
  {
   "cell_type": "code",
   "execution_count": 7,
   "metadata": {},
   "outputs": [
    {
     "name": "stdout",
     "output_type": "stream",
     "text": [
      "All Test Cases Passed!\n"
     ]
    }
   ],
   "source": [
    "def test_fixed_point():\n",
    "    assert fixed_point([]) == None, \"Test Case 1 Failed\"  # Edge Case 1: Empty Array\n",
    "    \n",
    "    assert fixed_point([-10, -5, 3, 4, 5, 6]) == None, \"Test Case 2 Failed\"  # Edge Case 2: No Fixed Point\n",
    "    \n",
    "    assert fixed_point([-5, 0, 2, 3, 4, 5, 6]) == 2, \"Test Case 3 Failed\"  # Edge Case 3: Multiple Fixed Points\n",
    "    \n",
    "    assert fixed_point([-10, -5, -2, -1]) == None, \"Test Case 4 Failed\"  # Edge Case 4: All Elements Are Negative\n",
    "    \n",
    "    assert fixed_point([1, 2, 3, 4]) == None, \"Test Case 5 Failed\"  # Edge Case 5: All Elements Are Positive and Greater than Their Indices\n",
    "    \n",
    "    assert fixed_point([0, 2, 3, 4]) == 0, \"Test Case 6 Failed\"  # Edge Case 6: First Element is the Fixed Point\n",
    "    \n",
    "    # assert fixed_point([1, 2, 3, 3]) == 3, \"Test Case 7 Failed\"  # Edge Case 6 (extended): Last Element is the Fixed Point - This will not be a a valid test case\n",
    "    \n",
    "    print(\"All Test Cases Passed!\")\n",
    "\n",
    "test_fixed_point()\n"
   ]
  }
 ],
 "metadata": {
  "kernelspec": {
   "display_name": ".venv",
   "language": "python",
   "name": "python3"
  },
  "language_info": {
   "codemirror_mode": {
    "name": "ipython",
    "version": 3
   },
   "file_extension": ".py",
   "mimetype": "text/x-python",
   "name": "python",
   "nbconvert_exporter": "python",
   "pygments_lexer": "ipython3",
   "version": "3.10.10"
  }
 },
 "nbformat": 4,
 "nbformat_minor": 2
}
