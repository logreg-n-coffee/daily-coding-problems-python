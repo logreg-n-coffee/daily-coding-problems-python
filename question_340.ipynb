{
 "cells": [
  {
   "cell_type": "markdown",
   "metadata": {},
   "source": [
    "# Question 340\n",
    "\n",
    "## Description\n",
    "\n",
    "Given a set of points (x, y) on a 2D cartesian plane, find the two closest points. For example, given the points [(1, 1), (-1, -1), (3, 4), (6, 1), (-1, -6), (-4, -3)], return [(-1, -1), (1, 1)]."
   ]
  },
  {
   "cell_type": "code",
   "execution_count": 1,
   "metadata": {},
   "outputs": [
    {
     "name": "stdout",
     "output_type": "stream",
     "text": [
      "[(1, 1), (-1, -1)]\n"
     ]
    }
   ],
   "source": [
    "import math\n",
    "\n",
    "def closest_points(points):\n",
    "    n = len(points)\n",
    "    \n",
    "    if n < 2:\n",
    "        return []  # Return an empty list if there are less than two points\n",
    "    \n",
    "    min_distance = float('inf')\n",
    "    closest_pair = []\n",
    "\n",
    "    for i in range(n):\n",
    "        for j in range(i + 1, n):\n",
    "            x1, y1 = points[i]\n",
    "            x2, y2 = points[j]\n",
    "            \n",
    "            distance = math.sqrt((x2 - x1) ** 2 + (y2 - y1) ** 2)\n",
    "            \n",
    "            if distance < min_distance:\n",
    "                min_distance = distance\n",
    "                closest_pair = [points[i], points[j]]\n",
    "    \n",
    "    return closest_pair\n",
    "\n",
    "points = [(1, 1), (-1, -1), (3, 4), (6, 1), (-1, -6), (-4, -3)]\n",
    "print(closest_points(points))  # Output: [(-1, -1), (1, 1)]\n"
   ]
  }
 ],
 "metadata": {
  "kernelspec": {
   "display_name": ".venv",
   "language": "python",
   "name": "python3"
  },
  "language_info": {
   "codemirror_mode": {
    "name": "ipython",
    "version": 3
   },
   "file_extension": ".py",
   "mimetype": "text/x-python",
   "name": "python",
   "nbconvert_exporter": "python",
   "pygments_lexer": "ipython3",
   "version": "3.10.10"
  }
 },
 "nbformat": 4,
 "nbformat_minor": 2
}
