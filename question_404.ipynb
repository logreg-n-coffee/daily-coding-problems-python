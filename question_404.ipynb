{
 "cells": [
  {
   "cell_type": "markdown",
   "metadata": {},
   "source": [
    "# Question 404\n",
    "\n",
    "## Description\n",
    "\n",
    "This problem was asked by Snapchat.\n",
    "\n",
    "Given an array of time intervals (start, end) for classroom lectures (possibly overlapping), find the minimum number of rooms required.\n",
    "\n",
    "For example, given `[(30, 75), (0, 50), (60, 150)]`, you should return 2."
   ]
  },
  {
   "cell_type": "markdown",
   "metadata": {},
   "source": [
    "## Solution\n",
    "\n",
    "To solve this problem, we can follow these steps:\n",
    "\n",
    "1. **Sort the Intervals**: First, we need to sort the intervals based on their start time. This will allow us to process them in order.\n",
    "\n",
    "2. **Use a Min-Heap**: We can use a min-heap (priority queue) to keep track of the end times of the lectures. The top of the heap will always have the smallest end time.\n",
    "\n",
    "3. **Process Each Interval**: For each interval (lecture), we check if the current start time is greater than or equal to the smallest end time in the heap. If it is, we can use the same room (so we remove the smallest end time from the heap). If it isn't, we need a new room, and we add the end time of the current interval to the heap.\n",
    "\n",
    "4. **Count the Rooms**: The number of rooms required at any time is given by the size of the heap.\n"
   ]
  },
  {
   "cell_type": "code",
   "execution_count": 3,
   "metadata": {},
   "outputs": [],
   "source": [
    "import heapq\n",
    "\n",
    "\n",
    "def min_rooms(intervals: list[tuple[int, int]]) -> int:\n",
    "    if not intervals:\n",
    "        return 0\n",
    "\n",
    "    # sort the intervals based on start time\n",
    "    intervals.sort(key=lambda x: x[0])\n",
    "\n",
    "    # create a min heap to store the end time of intervals\n",
    "    min_heap = []\n",
    "\n",
    "    # add the first meeting interval\n",
    "    heapq.heappush(min_heap, intervals[0][1])\n",
    "\n",
    "    # iterate over the remaining intervals\n",
    "    for i in intervals[1:]:\n",
    "        # if the room due to free up the earliest is free, assign that room to this meeting\n",
    "        # smallest endtime <= current start time\n",
    "        if min_heap[0] <= i[0]:\n",
    "            heapq.heappop(min_heap)  # room is free - remove the previous meeting room\n",
    "\n",
    "        # if a new room is to be assigned, then also we add to the heap\n",
    "        # add the end time of the current interval\n",
    "        heapq.heappush(min_heap, i[1])\n",
    "\n",
    "    # the size of the heap tells us the minimum rooms required for all the meetings\n",
    "    return len(min_heap)"
   ]
  },
  {
   "cell_type": "code",
   "execution_count": 4,
   "metadata": {},
   "outputs": [
    {
     "data": {
      "text/plain": [
       "2"
      ]
     },
     "execution_count": 4,
     "metadata": {},
     "output_type": "execute_result"
    }
   ],
   "source": [
    "# Test the function with the provided example.\n",
    "min_rooms([(30, 75), (0, 50), (60, 150)])"
   ]
  },
  {
   "cell_type": "markdown",
   "metadata": {},
   "source": [
    "To analyze the complexity of this solution, we'll look at both time complexity and space complexity:\n",
    "\n",
    "### Time Complexity\n",
    "\n",
    "1. **Sorting the Intervals**: The first step in the algorithm is to sort the intervals based on their start times. If there are `n` intervals, this operation has a time complexity of `O(n log n)` due to the nature of sorting algorithms.\n",
    "\n",
    "2. **Processing Each Interval**: The next step is to process each interval and manage the min-heap. For each of the `n` intervals, we perform the following operations:\n",
    "\n",
    "   - **Heap Push**: Adding an element to the heap (the end time of an interval) is `O(log k)`, where `k` is the number of elements in the heap.\n",
    "   - **Heap Pop**: Removing the smallest element from the heap, if necessary, is also `O(log k)`.\n",
    "\n",
    "   Since `k` can be at most `n` (in the worst case, every interval needs a new room), each heap operation is `O(log n)`. Therefore, for `n` intervals, the time complexity of processing all intervals is `O(n log n)`.\n",
    "\n",
    "Combining these steps, the overall time complexity of the algorithm is `O(n log n) + O(n log n)`, which simplifies to `O(n log n)`.\n",
    "\n",
    "### Space Complexity\n",
    "\n",
    "The space complexity of the algorithm is dominated by the heap, which stores the end times of the intervals. In the worst case, where every interval overlaps with all others, the heap could contain all `n` intervals. Therefore, the space complexity is `O(n)`.\n",
    "\n",
    "In summary, the algorithm has a time complexity of `O(n log n)` and a space complexity of `O(n)`.\n"
   ]
  }
 ],
 "metadata": {
  "kernelspec": {
   "display_name": ".venv",
   "language": "python",
   "name": "python3"
  },
  "language_info": {
   "codemirror_mode": {
    "name": "ipython",
    "version": 3
   },
   "file_extension": ".py",
   "mimetype": "text/x-python",
   "name": "python",
   "nbconvert_exporter": "python",
   "pygments_lexer": "ipython3",
   "version": "3.10.10"
  }
 },
 "nbformat": 4,
 "nbformat_minor": 2
}
