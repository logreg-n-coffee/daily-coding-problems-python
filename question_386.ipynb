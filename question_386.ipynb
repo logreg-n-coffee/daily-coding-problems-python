{
 "cells": [
  {
   "cell_type": "markdown",
   "metadata": {},
   "source": [
    "# Question 386\n",
    "\n",
    "## Description\n",
    "\n",
    "This problem was asked by Twitter.\n",
    "\n",
    "Given a string, sort it in decreasing order based on the frequency of characters. If there are multiple possible solutions, return any of them.\n",
    "\n",
    "For example, given the string `tweet`, return `tteew`. `eettw` would also be acceptable.\n"
   ]
  },
  {
   "cell_type": "code",
   "execution_count": null,
   "metadata": {},
   "outputs": [],
   "source": [
    "def sort_by_frequency(s):\n",
    "    # Count the frequency of each character in the string\n",
    "    frequency = {}\n",
    "    for char in s:\n",
    "        if char in frequency:\n",
    "            frequency[char] += 1\n",
    "        else:\n",
    "            frequency[char] = 1\n",
    "\n",
    "    # Sort the characters based on frequency (and alphabetically for equal frequencies)\n",
    "    sorted_chars = sorted(frequency, key=lambda x: (-frequency[x], x))\n",
    "\n",
    "    # Build the sorted string\n",
    "    sorted_string = \"\".join(char * frequency[char] for char in sorted_chars)\n",
    "\n",
    "    return sorted_string\n",
    "\n",
    "\n",
    "# Test the function with the example 'tweet'\n",
    "sort_by_frequency(\"tweet\")"
   ]
  },
  {
   "cell_type": "markdown",
   "metadata": {},
   "source": [
    "## Complexity Analysis\n",
    "\n",
    "To analyze the complexity of the `sort_by_frequency` function, let's break it down into its major components:\n",
    "\n",
    "1. **Counting the Frequency of Each Character**:\n",
    "\n",
    "   - This step involves iterating over each character in the string `s`.\n",
    "   - If the length of the string is \\( n \\), this step has a time complexity of \\( O(n) \\) since each character is visited once.\n",
    "   - The space complexity for this part is \\( O(k) \\), where \\( k \\) is the number of distinct characters in the string. In the worst case (all characters are distinct), this would be \\( O(n) \\).\n",
    "\n",
    "2. **Sorting the Characters**:\n",
    "\n",
    "   - The sorting is based on the frequency of characters. The complexity of the sorting operation depends on the sorting algorithm used by Python's `sorted` function, which is Timsort.\n",
    "   - The worst-case time complexity of Timsort is \\( O(k \\log k) \\), where \\( k \\) is the number of distinct characters. In the worst case, this becomes \\( O(n \\log n) \\) if all characters are distinct.\n",
    "   - The space complexity of Timsort is \\( O(k) \\) for the temporary storage used in sorting.\n",
    "\n",
    "3. **Building the Sorted String**:\n",
    "   - The final string is constructed by concatenating characters based on their frequency.\n",
    "   - This operation will again be \\( O(n) \\) in time complexity, as each character in the original string is processed once.\n",
    "   - The space complexity for the final string is \\( O(n) \\), which is the size of the output string.\n",
    "\n",
    "Overall, the time complexity of the function is dominated by the sorting step, which is \\( O(n \\log n) \\) in the worst case. The space complexity is \\( O(n) \\), primarily due to the storage needed for the frequency dictionary and the final sorted string.\n"
   ]
  },
  {
   "cell_type": "markdown",
   "metadata": {},
   "source": [
    "To optimize the solution for sorting a string based on the frequency of characters, we can leverage a data structure like a heap (priority queue) to efficiently organize characters by their frequency. This approach generally improves performance because it avoids the need to sort all distinct characters and directly constructs the result based on frequency. Here's how you can do it:\n",
    "\n",
    "1. **Count Frequencies**: First, count the frequency of each character in the string, similar to the previous approach.\n",
    "\n",
    "2. **Use a Max Heap**: Use a max heap (priority queue) where each element is a pair (frequency, character). Python's `heapq` module can be used, but since it provides a min heap, we can invert the frequencies to simulate a max heap.\n",
    "\n",
    "3. **Build the Result String**: Extract elements from the heap and build the result string by appending each character times its frequency.\n",
    "\n",
    "This approach potentially offers better performance, especially when the number of distinct characters \\( k \\) is much smaller than the length of the string \\( n \\).\n",
    "\n",
    "Let's implement this approach and see how it performs.\n"
   ]
  },
  {
   "cell_type": "code",
   "execution_count": null,
   "metadata": {},
   "outputs": [],
   "source": [
    "import heapq\n",
    "\n",
    "def sort_by_frequency_efficient(s):\n",
    "    # Count the frequency of each character\n",
    "    frequency = {}\n",
    "    for char in s:\n",
    "        frequency[char] = frequency.get(char, 0) + 1\n",
    "\n",
    "    # Create a max heap based on frequency\n",
    "    max_heap = [(-freq, char) for char, freq in frequency.items()]\n",
    "    heapq.heapify(max_heap)\n",
    "\n",
    "    # Build the sorted string\n",
    "    sorted_string = []\n",
    "    while max_heap:\n",
    "        freq, char = heapq.heappop(max_heap)\n",
    "        sorted_string.append(char * -freq)\n",
    "\n",
    "    return ''.join(sorted_string)\n",
    "\n",
    "# Test the efficient function with the example 'tweet'\n",
    "sort_by_frequency_efficient('tweet')\n"
   ]
  },
  {
   "cell_type": "markdown",
   "metadata": {},
   "source": [
    "The more efficient method using a max heap successfully sorts the string \"tweet\" into \"eettw\", which is a valid solution based on the frequency of characters.\n",
    "\n",
    "### Complexity Analysis\n",
    "\n",
    "1. **Count Frequencies**:\n",
    "\n",
    "   - Time Complexity: \\( O(n) \\), iterating over each character in the string.\n",
    "   - Space Complexity: \\( O(k) \\), where \\( k \\) is the number of distinct characters.\n",
    "\n",
    "2. **Creating and Managing the Max Heap**:\n",
    "\n",
    "   - The heap is created from \\( k \\) elements (distinct characters).\n",
    "   - Time Complexity: Building the heap is \\( O(k \\log k) \\).\n",
    "   - Extracting all elements from the heap involves \\( k \\) operations, each of which is \\( O(\\log k) \\), leading to a total of \\( O(k \\log k) \\).\n",
    "\n",
    "3. **Building the Result String**:\n",
    "   - Time Complexity: \\( O(n) \\), as each character is appended based on its frequency.\n",
    "   - Space Complexity: \\( O(n) \\) for the output string.\n",
    "\n",
    "### Overall Complexity\n",
    "\n",
    "- Time Complexity: \\( O(n + k \\log k) \\). For a large \\( n \\) and small \\( k \\), this can be more efficient than the initial approach.\n",
    "- Space Complexity: \\( O(n) \\), mainly for the frequency map and the output string.\n",
    "\n",
    "This method is more efficient when the number of distinct characters \\( k \\) is much smaller than the length of the string \\( n \\), which is often the case in practical scenarios.\n"
   ]
  }
 ],
 "metadata": {
  "language_info": {
   "name": "python"
  }
 },
 "nbformat": 4,
 "nbformat_minor": 2
}
