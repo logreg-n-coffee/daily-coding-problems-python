{
 "cells": [
  {
   "cell_type": "markdown",
   "metadata": {},
   "source": [
    "# Question 350\n",
    "\n",
    "## Description \n",
    "\n",
    "Write a program that determines the smallest number of perfect squares that sum up to N.\n",
    "\n",
    "Here are a few examples:\n",
    "\n",
    "* Given N = 4, return 1 (4 = 2^2) - the smallest number of perfect squares is 1 because 4 itself is a perfect square.\n",
    "* Given N = 17, return 2 (16 + 1 = 4^2 + 1^2) - the smallest number of perfect squares is 2\n",
    "* Given N = 18, return 2 (9 + 9 = 3^2 + 3^2) - the smallest number of perfect squares is 2"
   ]
  },
  {
   "cell_type": "code",
   "execution_count": 1,
   "metadata": {},
   "outputs": [
    {
     "name": "stdout",
     "output_type": "stream",
     "text": [
      "1\n",
      "2\n",
      "2\n"
     ]
    }
   ],
   "source": [
    "def num_squares(n):\n",
    "    if n < 4:\n",
    "        # 1 = 1^2 (1)\n",
    "        # 2 = 1^2 + 1^2 (2)\n",
    "        # 3 = 1^2 + 1^2 + 1^2 (3)\n",
    "        return n\n",
    "    \n",
    "    dp = [0] + [float('inf')] * n\n",
    "    \n",
    "    for i in range(1, n + 1):\n",
    "        j = 1\n",
    "        while i >= j * j:\n",
    "            dp[i] = min(dp[i], dp[i - j * j] + 1)\n",
    "            j += 1\n",
    "    \n",
    "    return dp[n]\n",
    "\n",
    "\n",
    "# Test the function with your examples\n",
    "print(num_squares(4))  # Output: 1\n",
    "print(num_squares(17))  # Output: 2\n",
    "print(num_squares(18))  # Output: 2"
   ]
  }
 ],
 "metadata": {
  "kernelspec": {
   "display_name": ".venv",
   "language": "python",
   "name": "python3"
  },
  "language_info": {
   "codemirror_mode": {
    "name": "ipython",
    "version": 3
   },
   "file_extension": ".py",
   "mimetype": "text/x-python",
   "name": "python",
   "nbconvert_exporter": "python",
   "pygments_lexer": "ipython3",
   "version": "3.10.10"
  }
 },
 "nbformat": 4,
 "nbformat_minor": 2
}
