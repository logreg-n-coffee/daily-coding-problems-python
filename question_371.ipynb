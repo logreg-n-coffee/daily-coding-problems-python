{
 "cells": [
  {
   "cell_type": "markdown",
   "metadata": {},
   "source": [
    "# Question 371\n",
    "\n",
    "## Description\n",
    "\n",
    "You are given a series of arithmetic equations as a string, such as:\n",
    "\n",
    "```text\n",
    "y = x + 1\n",
    "5 = x + 3\n",
    "10 = z + y + 2\n",
    "```\n",
    "\n",
    "The equations use addition only and are separated by newlines. Return a mapping of all variables to their values. If it's not possible, then return null. In this example, you should return:\n",
    "\n",
    "```python\n",
    "{\n",
    "  x: 2,\n",
    "  y: 3,\n",
    "  z: 5\n",
    "}\n",
    "```\n"
   ]
  },
  {
   "cell_type": "markdown",
   "metadata": {},
   "source": [
    "## Analysis \n",
    "\n",
    "This problem may be solved with gaussian elimination and matrix."
   ]
  }
 ],
 "metadata": {
  "kernelspec": {
   "display_name": ".venv",
   "language": "python",
   "name": "python3"
  },
  "language_info": {
   "codemirror_mode": {
    "name": "ipython",
    "version": 3
   },
   "file_extension": ".py",
   "mimetype": "text/x-python",
   "name": "python",
   "nbconvert_exporter": "python",
   "pygments_lexer": "ipython3",
   "version": "3.10.10"
  }
 },
 "nbformat": 4,
 "nbformat_minor": 2
}
