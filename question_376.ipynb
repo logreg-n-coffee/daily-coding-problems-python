{
 "cells": [
  {
   "cell_type": "markdown",
   "metadata": {},
   "source": [
    "# Question 376\n",
    "\n",
    "## Description\n",
    "\n",
    "This problem was asked by Google.\n",
    "\n",
    "You are writing an AI for a 2D map game. You are somewhere in a 2D grid, and there are coins strewn about over the map.\n",
    "\n",
    "Given the position of all the coins and your current position, find the closest coin to you in terms of Manhattan distance. That is, you can move around up, down, left, and right, but not diagonally. If there are multiple possible closest coins, return any of them.\n",
    "\n",
    "For example, given the following map, where you are x, coins are o, and empty spaces are . (top left is 0, 0):\n",
    "\n",
    "```text\n",
    "---------------------\n",
    "| . | . | x | . | o |\n",
    "---------------------\n",
    "| o | . | . | . | . |\n",
    "---------------------\n",
    "| o | . | . | . | o |\n",
    "---------------------\n",
    "| . | . | o | . | . |\n",
    "---------------------\n",
    "```\n",
    "\n",
    "return (0, 4), since that coin is closest. This map would be represented in our question as:\n",
    "\n",
    "Our position: `(0, 2)`\n",
    "Coins: `[(0, 4), (1, 0), (2, 0), (2, 4), (3, 2)]`\n"
   ]
  },
  {
   "cell_type": "code",
   "execution_count": 3,
   "metadata": {},
   "outputs": [],
   "source": [
    "def closest_coin(position, coins):\n",
    "    # calculate the Manhattan distance between the position and each coin\n",
    "    distances = [\n",
    "        abs(position[0] - coin[0]) + abs(position[1] - coin[1]) for coin in coins\n",
    "    ]\n",
    "\n",
    "    # return the coin with the smallest distance\n",
    "    return coins[distances.index(min(distances))]"
   ]
  },
  {
   "cell_type": "code",
   "execution_count": 4,
   "metadata": {},
   "outputs": [
    {
     "name": "stdout",
     "output_type": "stream",
     "text": [
      "[2, 3, 4, 4, 3]\n",
      "(0, 4)\n"
     ]
    }
   ],
   "source": [
    "# Testing the function\n",
    "position = (0, 2)\n",
    "coins = [(0, 4), (1, 0), (2, 0), (2, 4), (3, 2)]\n",
    "print(closest_coin(position, coins))  # Output: (0, 4)"
   ]
  },
  {
   "cell_type": "markdown",
   "metadata": {},
   "source": [
    "**Calculating the Manhattan distance for each coin and then picking the minimum**:\n",
    "\n",
    "    - Calculating the Manhattan distance for each coin: \\(O(n)\\), where \\(n\\) is the number of coins.\n",
    "    - Finding the minimum distance: \\(O(n)\\).\n",
    "  \n",
    "   **Total time complexity**: \\(O(n)\\).\n",
    "   \n",
    "   **Space complexity**: \\(O(n)\\) for the `distances` list.\n",
    "\n",
    "- This method is efficient for simply finding the closest coin, with a linear time complexity of \\(O(n)\\) and linear space complexity"
   ]
  }
 ],
 "metadata": {
  "kernelspec": {
   "display_name": ".venv",
   "language": "python",
   "name": "python3"
  },
  "language_info": {
   "codemirror_mode": {
    "name": "ipython",
    "version": 3
   },
   "file_extension": ".py",
   "mimetype": "text/x-python",
   "name": "python",
   "nbconvert_exporter": "python",
   "pygments_lexer": "ipython3",
   "version": "3.10.10"
  }
 },
 "nbformat": 4,
 "nbformat_minor": 2
}
