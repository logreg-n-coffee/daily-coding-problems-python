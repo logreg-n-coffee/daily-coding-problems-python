{
 "cells": [
  {
   "cell_type": "markdown",
   "metadata": {},
   "source": [
    "# Question 357\n",
    "\n",
    "## Description\n",
    "\n",
    "You are given a binary tree in a peculiar string representation. Each node is written in the form (lr), where l corresponds to the left child and r corresponds to the right child.\n",
    "\n",
    "If either l or r is null, it will be represented as a zero. Otherwise, it will be represented by a new (lr) pair.\n",
    "\n",
    "Here are a few examples:\n",
    "\n",
    "* A root node with no children: (00)\n",
    "* A root node with two children: ((00)(00))\n",
    "* An unbalanced tree with three consecutive left children: ((((00)0)0)0)\n",
    "\n",
    "Given this representation, determine the depth of the tree."
   ]
  },
  {
   "cell_type": "code",
   "execution_count": 1,
   "metadata": {},
   "outputs": [
    {
     "name": "stdout",
     "output_type": "stream",
     "text": [
      "1\n",
      "2\n",
      "4\n"
     ]
    }
   ],
   "source": [
    "def find_matching_parenthesis(s: str, start: int) -> int:\n",
    "    \"\"\"Given a string s and an opening parenthesis at start, find its corresponding closing parenthesis\n",
    "\n",
    "    Args:\n",
    "        s (str): string containing parenthesis\n",
    "        start (int): starting index of the opening parenthesis or -1 if not found\n",
    "    \"\"\"\n",
    "    stack: list[str] = []\n",
    "\n",
    "    for i in range(start, len(s)):\n",
    "        if s[i] == \"(\":\n",
    "            stack.append(\"(\")\n",
    "        elif s[i] == \")\":\n",
    "            stack.pop()\n",
    "            if len(stack) == 0:\n",
    "                return i\n",
    "\n",
    "    return -1\n",
    "\n",
    "\n",
    "def tree_depth(s: str) -> int:\n",
    "    \"\"\"Return the depth of the tree given its string representation\n",
    "\n",
    "    Args:\n",
    "        s (str): string containing parenthesis\n",
    "    \"\"\"\n",
    "    # if it's just a root node\n",
    "    if s == \"(00)\":\n",
    "        return 1\n",
    "\n",
    "    # find the matching parenthesis for the left subtree\n",
    "    idx = find_matching_parenthesis(s, 1)\n",
    "    left_tree = s[1 : idx + 1]\n",
    "    right_tree = s[idx + 1 : -1]\n",
    "\n",
    "    # recursively calculate the depths for left and right subtrees\n",
    "    left_depth = tree_depth(left_tree)\n",
    "\n",
    "    # Only calculate right_depth if it's not \"0\"\n",
    "    right_depth = 1 if right_tree == \"0\" else tree_depth(right_tree)\n",
    "\n",
    "    # return the max of the two depths plus one\n",
    "    return max(left_depth, right_depth) + 1\n",
    "\n",
    "\n",
    "# Test Cases\n",
    "\n",
    "print(tree_depth(\"(00)\"))\n",
    "print(tree_depth(\"((00)(00))\"))\n",
    "print(tree_depth(\"((((00)0)0)0)\"))"
   ]
  }
 ],
 "metadata": {
  "kernelspec": {
   "display_name": ".venv",
   "language": "python",
   "name": "python3"
  },
  "language_info": {
   "codemirror_mode": {
    "name": "ipython",
    "version": 3
   },
   "file_extension": ".py",
   "mimetype": "text/x-python",
   "name": "python",
   "nbconvert_exporter": "python",
   "pygments_lexer": "ipython3",
   "version": "3.10.10"
  }
 },
 "nbformat": 4,
 "nbformat_minor": 2
}
