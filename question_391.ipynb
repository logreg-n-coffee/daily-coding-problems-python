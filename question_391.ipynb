{
 "cells": [
  {
   "cell_type": "markdown",
   "metadata": {},
   "source": [
    "# Question 391\n",
    "\n",
    "## Description\n",
    "\n",
    "This problem was asked by Facebook.\n",
    "\n",
    "We have some historical clickstream data gathered from our site anonymously using cookies. The histories contain URLs that users have visited in chronological order.\n",
    "\n",
    "Write a function that takes two users' browsing histories as input and returns the longest contiguous sequence of URLs that appear in both.\n",
    "\n",
    "For example, given the following two users' histories:\n",
    "\n",
    "```python\n",
    "user1 = ['/home', '/register', '/login', '/user', '/one', '/two']\n",
    "user2 = ['/home', '/red', '/login', '/user', '/one', '/pink']\n",
    "```\n",
    "\n",
    "You should return the following:\n",
    "\n",
    "`['/login', '/user', '/one']`\n"
   ]
  },
  {
   "cell_type": "markdown",
   "metadata": {},
   "source": [
    "## Solution\n",
    "\n",
    "To solve this problem, we can use a dynamic programming approach. The idea is to create a matrix where each cell `(i, j)` represents the longest contiguous sequence of URLs ending at `user1[i]` and `user2[j]`. If `user1[i]` is equal to `user2[j]`, we have found a common URL and can extend the longest sequence found so far. Otherwise, the length of the common sequence at that cell is 0.\n",
    "\n",
    "Here's a step-by-step approach to implement this:\n",
    "\n",
    "1. Initialize a matrix `dp` with dimensions `(len(user1) + 1) x (len(user2) + 1)`, where all elements are initialized to 0.\n",
    "2. Iterate through each URL in `user1` and `user2`.\n",
    "3. When a common URL is found (`user1[i] == user2[j]`), set `dp[i+1][j+1] = dp[i][j] + 1`.\n",
    "4. Keep track of the maximum length of the common sequence and its ending index.\n",
    "5. After completing the matrix, use the maximum length and the ending index to retrieve the longest contiguous sequence.\n",
    "\n",
    "The function correctly finds the longest contiguous sequence of URLs that appear in both users' histories. For the given example, the longest common sequence is `['/login', '/user', '/one']`, which matches the expected result.\n"
   ]
  },
  {
   "cell_type": "code",
   "execution_count": 1,
   "metadata": {},
   "outputs": [],
   "source": [
    "def longest_common_subsequence(user1, user2):\n",
    "    # init a dp matrix\n",
    "    dp = [[0 for _ in range(len(user2) + 1)] for _ in range(len(user1) + 1)]\n",
    "\n",
    "    # variables to track the max len and its ending\n",
    "    max_len = 0\n",
    "    end_len = 0\n",
    "\n",
    "    # filling the dp matrix\n",
    "    for i in range(len(user1)):\n",
    "        for j in range(len(user2)):\n",
    "            if user1[i] == user2[j]:\n",
    "                dp[i + 1][j + 1] = dp[i][j] + 1\n",
    "                if dp[i + 1][j + 1] > max_len:\n",
    "                    max_len = dp[i + 1][j + 1]\n",
    "                    end_len = i\n",
    "\n",
    "    # return the longest common subsequence\n",
    "    return user1[end_len - max_len + 1 : end_len + 1]"
   ]
  },
  {
   "cell_type": "code",
   "execution_count": 2,
   "metadata": {},
   "outputs": [
    {
     "data": {
      "text/plain": [
       "['/login', '/user', '/one']"
      ]
     },
     "execution_count": 2,
     "metadata": {},
     "output_type": "execute_result"
    }
   ],
   "source": [
    "user1 = [\"/home\", \"/register\", \"/login\", \"/user\", \"/one\", \"/two\"]\n",
    "user2 = [\"/home\", \"/red\", \"/login\", \"/user\", \"/one\", \"/pink\"]\n",
    "\n",
    "longest_common_subsequence(user1, user2)"
   ]
  },
  {
   "cell_type": "markdown",
   "metadata": {},
   "source": [
    "## Complexity Analysis\n",
    "\n",
    "Let's analyze the time and space complexity of the `longest_common_subsequence` function:\n",
    "\n",
    "### Time Complexity\n",
    "\n",
    "1. **Initialization of the DP Matrix**: The DP matrix of size `(len(user1) + 1) x (len(user2) + 1)` is initialized with zeros. This step takes `O(m * n)` time, where `m` is the length of `user1` and `n` is the length of `user2`.\n",
    "\n",
    "2. **Filling the DP Matrix**: The nested loop iterates through each element in `user1` and `user2`. For each pair of elements, it performs constant time operations. Therefore, this step also takes `O(m * n)` time.\n",
    "\n",
    "Overall, the time complexity of the function is **O(m \\* n)**, where `m` is the length of `user1` and `n` is the length of `user2`.\n",
    "\n",
    "### Space Complexity\n",
    "\n",
    "1. **DP Matrix**: The space complexity is dominated by the DP matrix, which is of size `(len(user1) + 1) x (len(user2) + 1)`. Thus, the space complexity is `O(m * n)`.\n",
    "\n",
    "2. **Auxiliary Space**: The space used for variables like `max_length`, `end_index`, and the space for the output list (longest contiguous sequence) is relatively small compared to the DP matrix. The length of the output list can be at most `min(m, n)`, but this does not affect the overall space complexity.\n",
    "\n",
    "Hence, the overall space complexity of the function is **O(m \\* n)**.\n",
    "\n",
    "In summary, the function has a time complexity of O(m _ n) and a space complexity of O(m _ n), where `m` is the length of `user1` and `n` is the length of `user2`. This makes the algorithm quite efficient for moderately sized input histories but can become resource-intensive for very large histories.\n"
   ]
  }
 ],
 "metadata": {
  "kernelspec": {
   "display_name": ".venv",
   "language": "python",
   "name": "python3"
  },
  "language_info": {
   "codemirror_mode": {
    "name": "ipython",
    "version": 3
   },
   "file_extension": ".py",
   "mimetype": "text/x-python",
   "name": "python",
   "nbconvert_exporter": "python",
   "pygments_lexer": "ipython3",
   "version": "3.10.10"
  }
 },
 "nbformat": 4,
 "nbformat_minor": 2
}
