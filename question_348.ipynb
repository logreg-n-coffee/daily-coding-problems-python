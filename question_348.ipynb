{
 "cells": [
  {
   "cell_type": "markdown",
   "metadata": {},
   "source": [
    "# Question 348\n",
    "\n",
    "## Description\n",
    "\n",
    "A ternary search tree is a trie-like data structure where each node may have up to three children. Here is an example which represents the words code, cob, be, ax, war, and we.\n",
    "\n",
    "```text\n",
    "       c\n",
    "    /  |  \\\n",
    "   b   o   w\n",
    " / |   |   |\n",
    "a  e   d   a\n",
    "|    / |   | \\ \n",
    "x   b  e   r  e  \n",
    "```\n",
    "\n",
    "The tree is structured according to the following rules:\n",
    "\n",
    "* left child nodes link to words lexicographically earlier than the parent prefix\n",
    "* right child nodes link to words lexicographically later than the parent prefix\n",
    "* middle child nodes continue the current word\n",
    "\n",
    "For instance, since code is the first word inserted in the tree, and cob lexicographically precedes cod, cob is represented as a left child extending from cod.\n",
    "\n",
    "Implement insertion and search functions for a ternary search tree."
   ]
  },
  {
   "cell_type": "code",
   "execution_count": 1,
   "metadata": {},
   "outputs": [],
   "source": [
    "from typing import Optional\n",
    "\n",
    "\n",
    "class Node:\n",
    "    def __init__(self, char: str):\n",
    "        self.char = char\n",
    "        self.left: Optional[Node] = None\n",
    "        self.middle: Optional[Node] = None\n",
    "        self.right: Optional[Node] = None\n",
    "        self.is_end_of_word = False\n",
    "\n",
    "\n",
    "class TernarySearchTree:\n",
    "    def __init__(self):\n",
    "        self.root = None\n",
    "\n",
    "    def insert(self, word: str):\n",
    "        self.root = self._insert(self.root, word, 0)\n",
    "\n",
    "    def _insert(self, node: Optional[Node], word: str, index: int) -> Node:\n",
    "        char = word[index]\n",
    "\n",
    "        if node is None:\n",
    "            node = Node(char)\n",
    "\n",
    "        if char < node.char:\n",
    "            node.left = self._insert(node.left, word, index)\n",
    "        elif char > node.char:\n",
    "            node.right = self._insert(node.right, word, index)\n",
    "        elif index < len(word) - 1:\n",
    "            node.middle = self._insert(node.middle, word, index + 1)\n",
    "        else:\n",
    "            node.is_end_of_word = True\n",
    "\n",
    "        return node\n",
    "\n",
    "    def search(self, word: str) -> bool:\n",
    "        node = self._search(self.root, word, 0)\n",
    "        return node is not None and node.is_end_of_word\n",
    "\n",
    "    def _search(self, node: Optional[Node], word: str, index: int) -> Optional[Node]:\n",
    "        if node is None:\n",
    "            return None\n",
    "\n",
    "        char = word[index]\n",
    "\n",
    "        if char < node.char:\n",
    "            return self._search(node.left, word, index)\n",
    "        elif char > node.char:\n",
    "            return self._search(node.right, word, index)\n",
    "        elif index < len(word) - 1:\n",
    "            return self._search(node.middle, word, index + 1)\n",
    "\n",
    "        return node"
   ]
  },
  {
   "cell_type": "code",
   "execution_count": 2,
   "metadata": {},
   "outputs": [
    {
     "name": "stdout",
     "output_type": "stream",
     "text": [
      "True\n",
      "False\n"
     ]
    }
   ],
   "source": [
    "# Example Usage:\n",
    "tst = TernarySearchTree()\n",
    "tst.insert(\"code\")\n",
    "tst.insert(\"cob\")\n",
    "tst.insert(\"be\")\n",
    "tst.insert(\"ax\")\n",
    "tst.insert(\"war\")\n",
    "tst.insert(\"we\")\n",
    "\n",
    "print(tst.search(\"we\"))  # True\n",
    "print(tst.search(\"axe\"))  # False"
   ]
  }
 ],
 "metadata": {
  "kernelspec": {
   "display_name": ".venv",
   "language": "python",
   "name": "python3"
  },
  "language_info": {
   "codemirror_mode": {
    "name": "ipython",
    "version": 3
   },
   "file_extension": ".py",
   "mimetype": "text/x-python",
   "name": "python",
   "nbconvert_exporter": "python",
   "pygments_lexer": "ipython3",
   "version": "3.10.10"
  }
 },
 "nbformat": 4,
 "nbformat_minor": 2
}
